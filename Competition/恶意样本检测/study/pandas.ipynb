{
 "cells": [
  {
   "cell_type": "markdown",
   "metadata": {},
   "source": [
    "# 1.Series原型"
   ]
  },
  {
   "cell_type": "markdown",
   "metadata": {},
   "source": [
    "pandas.Series(data, index, dtype, name, copy)\n",
    "\n",
    "data：一组数据，可以是字典，ndarray，标量。\n",
    "index：数据索引标签，如果不指定，默认从 0 开始。\n",
    "dtype：数据类型，默认会自己判断。\n",
    "name：设置名称。\n",
    "copy：拷贝数据，默认为 False。\n",
    "\n",
    "说的直白一点，Series 其实就是一个带标签的数组"
   ]
  },
  {
   "cell_type": "markdown",
   "metadata": {},
   "source": [
    "# 2.创建"
   ]
  },
  {
   "cell_type": "code",
   "execution_count": 3,
   "metadata": {
    "scrolled": true
   },
   "outputs": [
    {
     "name": "stdout",
     "output_type": "stream",
     "text": [
      "0    1\n",
      "1    2\n",
      "2    3\n",
      "3    4\n",
      "4    5\n",
      "Name: s1, dtype: int64\n"
     ]
    }
   ],
   "source": [
    "import numpy as np\n",
    "import pandas as pd\n",
    "\n",
    "# 带索引的一列数据\n",
    "s1 = pd.Series([1, 2, 3, 4, 5], name='s1')\n",
    "print(s1)"
   ]
  },
  {
   "cell_type": "code",
   "execution_count": 18,
   "metadata": {},
   "outputs": [
    {
     "name": "stdout",
     "output_type": "stream",
     "text": [
      "a    0\n",
      "b    1\n",
      "c    2\n",
      "d    3\n",
      "e    4\n",
      "Name: s2, dtype: int32\n"
     ]
    }
   ],
   "source": [
    "# 索引为 a b c d e\n",
    "s2 = pd.Series(np.arange(5), index=['a', 'b', 'c', 'd', 'e'], name='s2')\n",
    "print(s2)"
   ]
  },
  {
   "cell_type": "code",
   "execution_count": 19,
   "metadata": {},
   "outputs": [
    {
     "name": "stdout",
     "output_type": "stream",
     "text": [
      "name    zhangsan\n",
      "age           27\n",
      "tel        10086\n",
      "Name: s3, dtype: object\n"
     ]
    }
   ],
   "source": [
    "# 创建一个字典,用key来构成表的索引\n",
    "temp_dict = {\"name\": \"zhangsan\", \"age\": 27, \"tel\": 10086}\n",
    "s3 = pd.Series(temp_dict, name='s3')\n",
    "print(s3)"
   ]
  },
  {
   "cell_type": "code",
   "execution_count": 20,
   "metadata": {
    "scrolled": true
   },
   "outputs": [
    {
     "name": "stdout",
     "output_type": "stream",
     "text": [
      "a    1.0\n",
      "b    1.0\n",
      "c    1.0\n",
      "d    1.0\n",
      "e    1.0\n",
      "Name: s4, dtype: float64\n"
     ]
    }
   ],
   "source": [
    "# data 是标量时,指定索引 index,得到一个值为 data 等长的 Series\n",
    "s4 = pd.Series(1., index=list(\"abcde\"), name='s4')\n",
    "print(s4)"
   ]
  },
  {
   "cell_type": "code",
   "execution_count": 7,
   "metadata": {
    "scrolled": true
   },
   "outputs": [
    {
     "data": {
      "text/plain": [
       "a    0\n",
       "b    1\n",
       "c    2\n",
       "d    3\n",
       "Name: python, dtype: int32"
      ]
     },
     "execution_count": 7,
     "metadata": {},
     "output_type": "execute_result"
    }
   ],
   "source": [
    "def create_series() -> pd.core.series.Series:\n",
    "    \"\"\"\n",
    "    :return: return a Series, def create_series() -> Series:\n",
    "    \"\"\"\n",
    "\n",
    "    s = pd.Series(np.arange(4), index=list(\"abcd\"), name=\"python\")\n",
    "    \n",
    "    return s\n",
    "\n",
    "create_series()"
   ]
  },
  {
   "cell_type": "markdown",
   "metadata": {},
   "source": [
    "# 3.切片与索引"
   ]
  },
  {
   "cell_type": "code",
   "execution_count": 8,
   "metadata": {},
   "outputs": [
    {
     "name": "stdout",
     "output_type": "stream",
     "text": [
      "a    0\n",
      "b    1\n",
      "c    2\n",
      "d    3\n",
      "e    4\n",
      "dtype: int32\n",
      "0\n",
      "--------------------------------------------------\n"
     ]
    }
   ],
   "source": [
    "print(s2)\n",
    "# 支持数字索引操作\n",
    "print(s2[0])\n",
    "print(\"-\" * 50)  # 分割线"
   ]
  },
  {
   "cell_type": "code",
   "execution_count": 9,
   "metadata": {},
   "outputs": [
    {
     "name": "stdout",
     "output_type": "stream",
     "text": [
      "a    0\n",
      "b    1\n",
      "c    2\n",
      "dtype: int32\n",
      "--------------------------------------------------\n"
     ]
    }
   ],
   "source": [
    "# 支持切片操作\n",
    "print(s2[:3])\n",
    "print(\"-\" * 50)  # 分割线"
   ]
  },
  {
   "cell_type": "code",
   "execution_count": 10,
   "metadata": {},
   "outputs": [
    {
     "name": "stdout",
     "output_type": "stream",
     "text": [
      "b    1\n",
      "a    0\n",
      "c    2\n",
      "dtype: int32\n",
      "----------------------------------------------------------------------------------------------------\n"
     ]
    }
   ],
   "source": [
    "# 花式索引\n",
    "print(s2[[1, 0, 2]])\n",
    "print(\"-\" * 100)  # 分割线"
   ]
  },
  {
   "cell_type": "code",
   "execution_count": 11,
   "metadata": {},
   "outputs": [
    {
     "name": "stdout",
     "output_type": "stream",
     "text": [
      "d    3\n",
      "e    4\n",
      "dtype: int32\n"
     ]
    }
   ],
   "source": [
    "# 布尔索引\n",
    "print(s2[s2>2])"
   ]
  },
  {
   "cell_type": "code",
   "execution_count": 12,
   "metadata": {},
   "outputs": [
    {
     "name": "stdout",
     "output_type": "stream",
     "text": [
      "0\n"
     ]
    }
   ],
   "source": [
    "# 使用字典一样使用 Series :\n",
    "s2 = pd.Series(np.arange(5), index=['a', 'b', 'c', 'd', 'e'])\n",
    "print(s2[\"a\"])"
   ]
  },
  {
   "cell_type": "markdown",
   "metadata": {},
   "source": [
    "# 4.向量化操作"
   ]
  },
  {
   "cell_type": "code",
   "execution_count": 13,
   "metadata": {},
   "outputs": [
    {
     "name": "stdout",
     "output_type": "stream",
     "text": [
      "a    0\n",
      "b    2\n",
      "c    4\n",
      "d    6\n",
      "e    8\n",
      "dtype: int32\n",
      "--------------------------------------------------\n"
     ]
    }
   ],
   "source": [
    "# 对应位置相加\n",
    "result1 = s2 + s2\n",
    "print(result1)\n",
    "print(\"-\" * 50)  # 分割线"
   ]
  },
  {
   "cell_type": "code",
   "execution_count": 14,
   "metadata": {},
   "outputs": [
    {
     "name": "stdout",
     "output_type": "stream",
     "text": [
      "a     0\n",
      "b     1\n",
      "c     4\n",
      "d     9\n",
      "e    16\n",
      "dtype: int32\n",
      "--------------------------------------------------\n"
     ]
    }
   ],
   "source": [
    "# 对应位置相乘\n",
    "result2 = s2 * s2\n",
    "print(result2)\n",
    "print(\"-\" * 50)  # 分割线"
   ]
  },
  {
   "cell_type": "code",
   "execution_count": 15,
   "metadata": {},
   "outputs": [
    {
     "name": "stdout",
     "output_type": "stream",
     "text": [
      "a    2\n",
      "b    3\n",
      "c    4\n",
      "d    5\n",
      "e    6\n",
      "dtype: int32\n"
     ]
    }
   ],
   "source": [
    "# 各个位置加2\n",
    "result3 = s2 + 2\n",
    "print(result3)"
   ]
  },
  {
   "cell_type": "markdown",
   "metadata": {},
   "source": [
    "# 5.自动对齐"
   ]
  },
  {
   "cell_type": "code",
   "execution_count": 21,
   "metadata": {},
   "outputs": [
    {
     "name": "stdout",
     "output_type": "stream",
     "text": [
      "b    1\n",
      "c    2\n",
      "d    3\n",
      "e    4\n",
      "Name: s2, dtype: int32\n",
      "a    0\n",
      "b    1\n",
      "c    2\n",
      "d    3\n",
      "Name: s2, dtype: int32\n",
      "a    NaN\n",
      "b    2.0\n",
      "c    4.0\n",
      "d    6.0\n",
      "e    NaN\n",
      "Name: s2, dtype: float64\n"
     ]
    }
   ],
   "source": [
    "# 对于上面两个不能完全对齐的 Series,结果的 index 是两者的并集,同时不能对齐的部分当作缺失值处理\n",
    "print(s2[1:])\n",
    "print(s2[:-1])\n",
    "result = s2[1:] + s2[:-1]\n",
    "print(result)"
   ]
  },
  {
   "cell_type": "markdown",
   "metadata": {},
   "source": [
    "# 6.缺失值检测\n",
    "## 6-1.Series.fillna() 填充缺失值\n",
    "```\n",
    "Series.fillna(value=None, method=None, axis=None, inplace=False, limit=None, downcast=None)\n",
    "values： dict, Series, or DataFrame (填充nan的值，不能是list)。\n",
    "method： {‘backfill’, ‘bfill’, ‘pad’, ‘ffill’, None}, default None (填充方法，用前/后面的值进行填充)。\n",
    "axis： {0 or ‘index’} (前后或上下填充)\n",
    "limit： nt, default None (连续填充的值的数量)\n",
    "```\n",
    "## 6-2.Series.dropna() 删除缺失值\n",
    "````\n",
    "Series.dropna(axis=0, inplace=False, how=None)\n",
    "axis： 默认为 0，表示逢空值剔除整行，如果设置参数 axis＝1 表示逢空值去掉整列。\n",
    "inplace： 如果设置 True，将计算得到的值直接覆盖之前的值并返回 None，修改的是源数据。\n",
    "how： 默认为 any 如果一行（或一列）里任何一个数据有出现 NA 就去掉整行，如果设置 how='all' 一行（或列）都是 NA 才去掉这整行。\n",
    "```"
   ]
  },
  {
   "cell_type": "code",
   "execution_count": 22,
   "metadata": {},
   "outputs": [
    {
     "name": "stdout",
     "output_type": "stream",
     "text": [
      "0    1.0\n",
      "1    2.0\n",
      "2    NaN\n",
      "3    4.0\n",
      "4    NaN\n",
      "dtype: float64\n"
     ]
    }
   ],
   "source": [
    "# 创建一个带缺失值Series\n",
    "s = pd.Series([1, 2, None, 4, None])\n",
    "print(s)"
   ]
  },
  {
   "cell_type": "code",
   "execution_count": 23,
   "metadata": {},
   "outputs": [
    {
     "name": "stdout",
     "output_type": "stream",
     "text": [
      "0    False\n",
      "1    False\n",
      "2     True\n",
      "3    False\n",
      "4     True\n",
      "dtype: bool\n",
      "--------------------------------------------------\n"
     ]
    }
   ],
   "source": [
    "# 检测缺失值\n",
    "print(s.isna())\n",
    "print(\"-\" * 50)"
   ]
  },
  {
   "cell_type": "code",
   "execution_count": 24,
   "metadata": {},
   "outputs": [
    {
     "name": "stdout",
     "output_type": "stream",
     "text": [
      "0    1.0\n",
      "1    2.0\n",
      "2    0.0\n",
      "3    4.0\n",
      "4    0.0\n",
      "dtype: float64\n"
     ]
    }
   ],
   "source": [
    "# 填充缺失值，填充值为0.\n",
    "print(s.fillna(0.))  "
   ]
  },
  {
   "cell_type": "markdown",
   "metadata": {},
   "source": [
    "# 7.属性"
   ]
  },
  {
   "cell_type": "code",
   "execution_count": 25,
   "metadata": {},
   "outputs": [
    {
     "name": "stdout",
     "output_type": "stream",
     "text": [
      "a    0\n",
      "b    1\n",
      "c    2\n",
      "d    3\n",
      "e    4\n",
      "Name: s, dtype: int32\n"
     ]
    }
   ],
   "source": [
    "s = pd.Series(np.arange(5), index=list(\"abcde\"), name='s')\n",
    "print(s)"
   ]
  },
  {
   "cell_type": "code",
   "execution_count": 26,
   "metadata": {
    "scrolled": true
   },
   "outputs": [
    {
     "name": "stdout",
     "output_type": "stream",
     "text": [
      "s\n",
      "Index(['a', 'b', 'c', 'd', 'e'], dtype='object')\n",
      "[0 1 2 3 4]\n"
     ]
    }
   ],
   "source": [
    "# name 属性、index 属性和 values 属性\n",
    "print(s.name)\n",
    "print(s.index)\n",
    "print(s.values)"
   ]
  },
  {
   "cell_type": "markdown",
   "metadata": {},
   "source": [
    "# 8.DataFrame原型\n",
    "pandas.DataFrame( data, index, columns, dtype, copy)\n",
    "\n",
    "参数说明:\n",
    "```\n",
    "data：一组数据(ndarray、series, map, lists, dict 等类型)。\n",
    "index：索引值，或者可以称为行标签。\n",
    "columns：列标签，默认为 RangeIndex (0, 1, 2, …, n) 。\n",
    "dtype：数据类型。\n",
    "copy：拷贝数据，默认为 False。\n",
    "```"
   ]
  },
  {
   "cell_type": "code",
   "execution_count": 32,
   "metadata": {
    "scrolled": true
   },
   "outputs": [
    {
     "name": "stdout",
     "output_type": "stream",
     "text": [
      "   0\n",
      "0  1\n",
      "1  2\n",
      "2  3\n",
      "3  4\n",
      "4  5\n"
     ]
    }
   ],
   "source": [
    "# 使用单个列表创建\n",
    "data = [1, 2, 3, 4, 5]\n",
    "df = pd.DataFrame(data)\n",
    "print(df)"
   ]
  },
  {
   "cell_type": "code",
   "execution_count": 29,
   "metadata": {},
   "outputs": [
    {
     "name": "stdout",
     "output_type": "stream",
     "text": [
      "        Name  Age\n",
      "0   xiaoming   10\n",
      "1   xiaohong   11\n",
      "2  xiaozhang   12\n"
     ]
    }
   ],
   "source": [
    "# 使用嵌套列表创建并指定列索引\n",
    "data = [['xiaoming', 10], ['xiaohong', 11], ['xiaozhang', 12]]\n",
    "df = pd.DataFrame(data, columns=['Name', 'Age'])\n",
    "print(df)"
   ]
  },
  {
   "cell_type": "code",
   "execution_count": 30,
   "metadata": {},
   "outputs": [
    {
     "name": "stdout",
     "output_type": "stream",
     "text": [
      "       Name  Age\n",
      "0  xiaoming   10\n",
      "1  zhangsan   11\n",
      "2      lisi   21\n"
     ]
    }
   ],
   "source": [
    "# 使用数组创建\n",
    "data = {'Name': ['xiaoming', 'zhangsan', 'lisi'], 'Age':[10, 11, 21]}\n",
    "df = pd.DataFrame(data)\n",
    "print(df)"
   ]
  },
  {
   "cell_type": "code",
   "execution_count": 31,
   "metadata": {},
   "outputs": [
    {
     "name": "stdout",
     "output_type": "stream",
     "text": [
      "        a  b    c\n",
      "first   1  2  NaN\n",
      "second  5  6  7.0\n"
     ]
    }
   ],
   "source": [
    "data = [{'a': 1, 'b': 2}, {'a': 5, 'b': 6, 'c': 7}]\n",
    "df = pd.DataFrame(data, index=[\"first\", \"second\"])  # 指定行索引\n",
    "print(df)"
   ]
  },
  {
   "cell_type": "code",
   "execution_count": 33,
   "metadata": {},
   "outputs": [
    {
     "data": {
      "text/html": [
       "<div>\n",
       "<style scoped>\n",
       "    .dataframe tbody tr th:only-of-type {\n",
       "        vertical-align: middle;\n",
       "    }\n",
       "\n",
       "    .dataframe tbody tr th {\n",
       "        vertical-align: top;\n",
       "    }\n",
       "\n",
       "    .dataframe thead th {\n",
       "        text-align: right;\n",
       "    }\n",
       "</style>\n",
       "<table border=\"1\" class=\"dataframe\">\n",
       "  <thead>\n",
       "    <tr style=\"text-align: right;\">\n",
       "      <th></th>\n",
       "      <th>name</th>\n",
       "      <th>age</th>\n",
       "    </tr>\n",
       "  </thead>\n",
       "  <tbody>\n",
       "    <tr>\n",
       "      <td>a</td>\n",
       "      <td>Tom</td>\n",
       "      <td>28</td>\n",
       "    </tr>\n",
       "    <tr>\n",
       "      <td>b</td>\n",
       "      <td>Jack</td>\n",
       "      <td>34</td>\n",
       "    </tr>\n",
       "    <tr>\n",
       "      <td>c</td>\n",
       "      <td>Mike</td>\n",
       "      <td>29</td>\n",
       "    </tr>\n",
       "  </tbody>\n",
       "</table>\n",
       "</div>"
      ],
      "text/plain": [
       "   name  age\n",
       "a   Tom   28\n",
       "b  Jack   34\n",
       "c  Mike   29"
      ]
     },
     "execution_count": 33,
     "metadata": {},
     "output_type": "execute_result"
    }
   ],
   "source": [
    "def create_dataframe() -> pd.core.frame.DataFrame:\n",
    "    \"\"\"\n",
    "    :return: return a DataFrame, create_series() -> pd.core.frame.DataFrame:\n",
    "    \"\"\"\n",
    "    data = {\"name\": [\"Tom\", \"Jack\", \"Mike\"], \"age\": [28, 34, 29]}\n",
    "\n",
    "    df = pd.DataFrame(data, index=list(\"abc\"))\n",
    "\n",
    "    return df\n",
    "\n",
    "create_dataframe()"
   ]
  },
  {
   "cell_type": "markdown",
   "metadata": {},
   "source": [
    "# 9、基本属性与整体情况查询\n",
    "```\n",
    "DataFrame 的基础属性\n",
    "\n",
    "df.shape # 形状，行数列数\n",
    "df.dtypes # 列数据类型\n",
    "df.ndim # 数据维度\n",
    "df.index # 行索引\n",
    "df.columns # 列索引\n",
    "df.values # 对象值，二维ndarray数组\n",
    "DataFrame 的整体情况查询\n",
    "\n",
    "df.head() # 显示头部几行\n",
    "df.tail() # 显示尾部几行\n",
    "df.info() # 相关信息概览：行数，列数，列索引，列非空值个数，列类型，内存占用\n",
    "df.describe() # 快速综合统计结果：计数，均值，标准差，最大值，四分位数，最小值\n",
    "```"
   ]
  },
  {
   "cell_type": "code",
   "execution_count": 5,
   "metadata": {},
   "outputs": [
    {
     "name": "stdout",
     "output_type": "stream",
     "text": [
      "          A         B         C         D\n",
      "0  0.682363 -0.664743  1.594414 -0.398526\n",
      "1  0.574822 -2.030716 -0.454394  0.392949\n",
      "2 -1.043943  0.177280 -0.842788  0.551177\n",
      "3 -0.930581 -0.440019 -0.041714 -0.395423\n",
      "4  0.774822  0.264441 -1.446011 -0.851739\n",
      "5  0.891774 -0.511272  1.099170  1.058710\n"
     ]
    }
   ],
   "source": [
    "df = pd.DataFrame(np.random.randn(6,4), columns=list('ABCD'))  # 正太分布随机数\n",
    "print(df)"
   ]
  },
  {
   "cell_type": "code",
   "execution_count": 4,
   "metadata": {},
   "outputs": [
    {
     "name": "stdout",
     "output_type": "stream",
     "text": [
      "     A          B    C  D      E    F\n",
      "0  1.0 2013-01-02  1.0  3   test  foo\n",
      "1  1.0 2013-01-02  1.0  3  train  foo\n",
      "2  1.0 2013-01-02  1.0  3   test  foo\n",
      "3  1.0 2013-01-02  1.0  3  train  foo\n"
     ]
    }
   ],
   "source": [
    "df2 = pd.DataFrame({'A' : 1.,\n",
    "                          'B' : pd.Timestamp('20130102'),\n",
    "                          'C' : pd.Series(1,index=list(range(4)), dtype='float32'),\n",
    "                          'D' : np.array([3] * 4, dtype='int32'),\n",
    "                          'E' : pd.Categorical([\"test\",\"train\",\"test\",\"train\"]),\n",
    "                          'F' : 'foo' })\n",
    "\n",
    "print(df2)"
   ]
  },
  {
   "cell_type": "code",
   "execution_count": 6,
   "metadata": {},
   "outputs": [
    {
     "name": "stdout",
     "output_type": "stream",
     "text": [
      "A           float64\n",
      "B    datetime64[ns]\n",
      "C           float32\n",
      "D             int32\n",
      "E          category\n",
      "F            object\n",
      "dtype: object\n"
     ]
    }
   ],
   "source": [
    "# 查看一下创建的 df2 的各列数据类型\n",
    "print(df2.dtypes)"
   ]
  },
  {
   "cell_type": "code",
   "execution_count": 7,
   "metadata": {},
   "outputs": [
    {
     "name": "stdout",
     "output_type": "stream",
     "text": [
      "(4, 6)\n",
      "2\n"
     ]
    }
   ],
   "source": [
    "# 查看一下 df2 的形状和数据维度\n",
    "print(df2.shape)\n",
    "print(df2.ndim)"
   ]
  },
  {
   "cell_type": "code",
   "execution_count": 8,
   "metadata": {},
   "outputs": [
    {
     "name": "stdout",
     "output_type": "stream",
     "text": [
      "          A         B         C         D\n",
      "0  0.682363 -0.664743  1.594414 -0.398526\n",
      "1  0.574822 -2.030716 -0.454394  0.392949\n",
      "2 -1.043943  0.177280 -0.842788  0.551177\n",
      "--------------------------------------------------\n",
      "          A         B         C         D\n",
      "3 -0.930581 -0.440019 -0.041714 -0.395423\n",
      "4  0.774822  0.264441 -1.446011 -0.851739\n",
      "5  0.891774 -0.511272  1.099170  1.058710\n"
     ]
    }
   ],
   "source": [
    "# 查看前三行数据\n",
    "print(df.head(3))\n",
    "print(\"-\" * 50)  # 分割线\n",
    "# 查看后三行数据\n",
    "print(df.tail(3))"
   ]
  },
  {
   "cell_type": "code",
   "execution_count": 9,
   "metadata": {},
   "outputs": [
    {
     "name": "stdout",
     "output_type": "stream",
     "text": [
      "RangeIndex(start=0, stop=6, step=1)\n",
      "--------------------------------------------------\n",
      "Index(['A', 'B', 'C', 'D'], dtype='object')\n"
     ]
    }
   ],
   "source": [
    "# 行索引\n",
    "print(df.index)\n",
    "print(\"-\" * 50)  # 分割线\n",
    "# 列索引\n",
    "print(df.columns)"
   ]
  },
  {
   "cell_type": "code",
   "execution_count": 10,
   "metadata": {},
   "outputs": [
    {
     "name": "stdout",
     "output_type": "stream",
     "text": [
      "[[ 0.68236347 -0.6647434   1.5944144  -0.39852608]\n",
      " [ 0.57482199 -2.0307161  -0.4543944   0.39294853]\n",
      " [-1.04394339  0.1772799  -0.84278804  0.5511773 ]\n",
      " [-0.93058127 -0.44001946 -0.0417143  -0.39542307]\n",
      " [ 0.77482166  0.26444099 -1.4460106  -0.85173932]\n",
      " [ 0.89177357 -0.51127231  1.09917025  1.05871   ]]\n"
     ]
    }
   ],
   "source": [
    "# 数据\n",
    "print(df.values)"
   ]
  },
  {
   "cell_type": "code",
   "execution_count": 11,
   "metadata": {},
   "outputs": [
    {
     "name": "stdout",
     "output_type": "stream",
     "text": [
      "<class 'pandas.core.frame.DataFrame'>\n",
      "RangeIndex: 6 entries, 0 to 5\n",
      "Data columns (total 4 columns):\n",
      "A    6 non-null float64\n",
      "B    6 non-null float64\n",
      "C    6 non-null float64\n",
      "D    6 non-null float64\n",
      "dtypes: float64(4)\n",
      "memory usage: 320.0 bytes\n",
      "None\n"
     ]
    }
   ],
   "source": [
    "# 相关信息概览\n",
    "print(df.info())"
   ]
  },
  {
   "cell_type": "code",
   "execution_count": 13,
   "metadata": {},
   "outputs": [
    {
     "name": "stdout",
     "output_type": "stream",
     "text": [
      "              A         B         C         D\n",
      "count  6.000000  6.000000  6.000000  6.000000\n",
      "mean   0.158209 -0.534172 -0.015220  0.059525\n",
      "std    0.894122  0.825836  1.162617  0.720896\n",
      "min   -1.043943 -2.030716 -1.446011 -0.851739\n",
      "25%   -0.554230 -0.626376 -0.745690 -0.397750\n",
      "50%    0.628593 -0.475646 -0.248054 -0.001237\n",
      "75%    0.751707  0.022955  0.813949  0.511620\n",
      "max    0.891774  0.264441  1.594414  1.058710\n"
     ]
    }
   ],
   "source": [
    "# 快速查看综合统计结果\n",
    "print(df.describe())"
   ]
  },
  {
   "cell_type": "code",
   "execution_count": 14,
   "metadata": {},
   "outputs": [
    {
     "name": "stdout",
     "output_type": "stream",
     "text": [
      "          0         1         2         3         4         5\n",
      "A  0.682363  0.574822 -1.043943 -0.930581  0.774822  0.891774\n",
      "B -0.664743 -2.030716  0.177280 -0.440019  0.264441 -0.511272\n",
      "C  1.594414 -0.454394 -0.842788 -0.041714 -1.446011  1.099170\n",
      "D -0.398526  0.392949  0.551177 -0.395423 -0.851739  1.058710\n"
     ]
    }
   ],
   "source": [
    "# 转置\n",
    "print(df.T)"
   ]
  },
  {
   "cell_type": "code",
   "execution_count": 15,
   "metadata": {},
   "outputs": [
    {
     "data": {
      "text/html": [
       "<div>\n",
       "<style scoped>\n",
       "    .dataframe tbody tr th:only-of-type {\n",
       "        vertical-align: middle;\n",
       "    }\n",
       "\n",
       "    .dataframe tbody tr th {\n",
       "        vertical-align: top;\n",
       "    }\n",
       "\n",
       "    .dataframe thead th {\n",
       "        text-align: right;\n",
       "    }\n",
       "</style>\n",
       "<table border=\"1\" class=\"dataframe\">\n",
       "  <thead>\n",
       "    <tr style=\"text-align: right;\">\n",
       "      <th></th>\n",
       "      <th>A</th>\n",
       "      <th>B</th>\n",
       "      <th>C</th>\n",
       "      <th>D</th>\n",
       "    </tr>\n",
       "  </thead>\n",
       "  <tbody>\n",
       "    <tr>\n",
       "      <td>count</td>\n",
       "      <td>6.000000</td>\n",
       "      <td>6.000000</td>\n",
       "      <td>6.000000</td>\n",
       "      <td>6.000000</td>\n",
       "    </tr>\n",
       "    <tr>\n",
       "      <td>mean</td>\n",
       "      <td>0.158209</td>\n",
       "      <td>-0.534172</td>\n",
       "      <td>-0.015220</td>\n",
       "      <td>0.059525</td>\n",
       "    </tr>\n",
       "    <tr>\n",
       "      <td>std</td>\n",
       "      <td>0.894122</td>\n",
       "      <td>0.825836</td>\n",
       "      <td>1.162617</td>\n",
       "      <td>0.720896</td>\n",
       "    </tr>\n",
       "    <tr>\n",
       "      <td>min</td>\n",
       "      <td>-1.043943</td>\n",
       "      <td>-2.030716</td>\n",
       "      <td>-1.446011</td>\n",
       "      <td>-0.851739</td>\n",
       "    </tr>\n",
       "    <tr>\n",
       "      <td>25%</td>\n",
       "      <td>-0.554230</td>\n",
       "      <td>-0.626376</td>\n",
       "      <td>-0.745690</td>\n",
       "      <td>-0.397750</td>\n",
       "    </tr>\n",
       "    <tr>\n",
       "      <td>50%</td>\n",
       "      <td>0.628593</td>\n",
       "      <td>-0.475646</td>\n",
       "      <td>-0.248054</td>\n",
       "      <td>-0.001237</td>\n",
       "    </tr>\n",
       "    <tr>\n",
       "      <td>75%</td>\n",
       "      <td>0.751707</td>\n",
       "      <td>0.022955</td>\n",
       "      <td>0.813949</td>\n",
       "      <td>0.511620</td>\n",
       "    </tr>\n",
       "    <tr>\n",
       "      <td>max</td>\n",
       "      <td>0.891774</td>\n",
       "      <td>0.264441</td>\n",
       "      <td>1.594414</td>\n",
       "      <td>1.058710</td>\n",
       "    </tr>\n",
       "  </tbody>\n",
       "</table>\n",
       "</div>"
      ],
      "text/plain": [
       "              A         B         C         D\n",
       "count  6.000000  6.000000  6.000000  6.000000\n",
       "mean   0.158209 -0.534172 -0.015220  0.059525\n",
       "std    0.894122  0.825836  1.162617  0.720896\n",
       "min   -1.043943 -2.030716 -1.446011 -0.851739\n",
       "25%   -0.554230 -0.626376 -0.745690 -0.397750\n",
       "50%    0.628593 -0.475646 -0.248054 -0.001237\n",
       "75%    0.751707  0.022955  0.813949  0.511620\n",
       "max    0.891774  0.264441  1.594414  1.058710"
      ]
     },
     "execution_count": 15,
     "metadata": {},
     "output_type": "execute_result"
    }
   ],
   "source": [
    "def describe_get(data):\n",
    "    \"\"\"\n",
    "    :param data: the source data\n",
    "    :return: return a DataFrame\n",
    "    \"\"\"\n",
    "    # -- write your code here --\n",
    "    \n",
    "    return data.describe()\n",
    "\n",
    "describe_get(df)"
   ]
  },
  {
   "cell_type": "markdown",
   "metadata": {},
   "source": [
    "# 10、练习\n",
    "请在 solution.py 里完善代码，实现 create_dataframe 函数功能，构建一个 DataFrame 数据类型，要求如下：\n",
    "\n",
    "- 所构建的 DataFrame 类型的 index 为 \"a, b, c\"\n",
    "- 所构建的 DataFrame 类型的 columns 为 \"name, age\"\n",
    "- name 列的值为 \"Tom, Jack, Mike\"\n",
    "- age 列的值不做限制，可自由填写"
   ]
  },
  {
   "cell_type": "code",
   "execution_count": 16,
   "metadata": {},
   "outputs": [
    {
     "data": {
      "text/html": [
       "<div>\n",
       "<style scoped>\n",
       "    .dataframe tbody tr th:only-of-type {\n",
       "        vertical-align: middle;\n",
       "    }\n",
       "\n",
       "    .dataframe tbody tr th {\n",
       "        vertical-align: top;\n",
       "    }\n",
       "\n",
       "    .dataframe thead th {\n",
       "        text-align: right;\n",
       "    }\n",
       "</style>\n",
       "<table border=\"1\" class=\"dataframe\">\n",
       "  <thead>\n",
       "    <tr style=\"text-align: right;\">\n",
       "      <th></th>\n",
       "      <th>name</th>\n",
       "      <th>age</th>\n",
       "    </tr>\n",
       "  </thead>\n",
       "  <tbody>\n",
       "    <tr>\n",
       "      <td>a</td>\n",
       "      <td>Tom</td>\n",
       "      <td>32</td>\n",
       "    </tr>\n",
       "    <tr>\n",
       "      <td>b</td>\n",
       "      <td>Jack</td>\n",
       "      <td>43</td>\n",
       "    </tr>\n",
       "    <tr>\n",
       "      <td>c</td>\n",
       "      <td>Mike</td>\n",
       "      <td>3</td>\n",
       "    </tr>\n",
       "  </tbody>\n",
       "</table>\n",
       "</div>"
      ],
      "text/plain": [
       "   name  age\n",
       "a   Tom   32\n",
       "b  Jack   43\n",
       "c  Mike    3"
      ]
     },
     "execution_count": 16,
     "metadata": {},
     "output_type": "execute_result"
    }
   ],
   "source": [
    "def create_dataframe() -> pd.core.frame.DataFrame:\n",
    "    \"\"\"\n",
    "    :return: return a DataFrame, create_series() -> pd.core.frame.DataFrame:\n",
    "    \"\"\"\n",
    "    \n",
    "    df = pd.DataFrame({'name':['Tom', 'Jack', 'Mike'], 'age':[32, 43, 3]}, index=list('abc'), columns=['name', 'age'])\n",
    "    return df\n",
    "\n",
    "create_dataframe()"
   ]
  },
  {
   "cell_type": "markdown",
   "metadata": {},
   "source": [
    "# 11、索引"
   ]
  },
  {
   "cell_type": "code",
   "execution_count": 19,
   "metadata": {},
   "outputs": [
    {
     "name": "stdout",
     "output_type": "stream",
     "text": [
      "          A         B         C         D\n",
      "a -0.202269 -0.150799 -0.812402 -0.927449\n",
      "b  0.050479  0.389905 -0.474669  0.323952\n",
      "c -0.839139  0.390124  0.013735 -1.165266\n",
      "d -1.598000 -0.213705  0.002848  1.790616\n",
      "e -0.283202 -2.141117 -1.287279 -1.314012\n",
      "f -0.159533 -0.182399 -0.669201 -1.617804\n"
     ]
    }
   ],
   "source": [
    "# 创建一个6行3列的正太分布结构\n",
    "df = pd.DataFrame(np.random.randn(6,4), index=list(\"abcdef\"), columns=list('ABCD')) \n",
    "print(df)"
   ]
  },
  {
   "cell_type": "code",
   "execution_count": 20,
   "metadata": {},
   "outputs": [
    {
     "name": "stdout",
     "output_type": "stream",
     "text": [
      "   W  X   Y   Z\n",
      "a  0  1   2   3\n",
      "b  4  5   6   7\n",
      "c  8  9  10  11\n"
     ]
    }
   ],
   "source": [
    "# 创建一个3行4列的结构\n",
    "df2 = pd.DataFrame(np.arange(12).reshape(3, 4), index=list(\"abc\"), columns=list(\"WXYZ\"))\n",
    "print(df2)"
   ]
  },
  {
   "cell_type": "code",
   "execution_count": 21,
   "metadata": {},
   "outputs": [
    {
     "name": "stdout",
     "output_type": "stream",
     "text": [
      "a   -0.202269\n",
      "b    0.050479\n",
      "c   -0.839139\n",
      "d   -1.598000\n",
      "e   -0.283202\n",
      "f   -0.159533\n",
      "Name: A, dtype: float64\n",
      "--------------------------------------------------\n",
      "          A         C\n",
      "a -0.202269 -0.812402\n",
      "b  0.050479 -0.474669\n",
      "c -0.839139  0.013735\n",
      "d -1.598000  0.002848\n",
      "e -0.283202 -1.287279\n",
      "f -0.159533 -0.669201\n"
     ]
    }
   ],
   "source": [
    "# 读取单列\n",
    "print(df[\"A\"])\n",
    "print(\"-\" * 50)\n",
    "# 读取多列\n",
    "print(df[[\"A\", \"C\"]])"
   ]
  },
  {
   "cell_type": "code",
   "execution_count": 22,
   "metadata": {},
   "outputs": [
    {
     "name": "stdout",
     "output_type": "stream",
     "text": [
      "a   -0.202269\n",
      "b    0.050479\n",
      "c   -0.839139\n",
      "d   -1.598000\n",
      "e   -0.283202\n",
      "f   -0.159533\n",
      "Name: A, dtype: float64\n"
     ]
    }
   ],
   "source": [
    "print(df.A)"
   ]
  },
  {
   "cell_type": "code",
   "execution_count": 23,
   "metadata": {},
   "outputs": [
    {
     "name": "stdout",
     "output_type": "stream",
     "text": [
      "          A         B         C         D\n",
      "a -0.202269 -0.150799 -0.812402 -0.927449\n",
      "b  0.050479  0.389905 -0.474669  0.323952\n",
      "c -0.839139  0.390124  0.013735 -1.165266\n"
     ]
    }
   ],
   "source": [
    "# 读取行\n",
    "print(df[0:3])"
   ]
  },
  {
   "cell_type": "code",
   "execution_count": 24,
   "metadata": {},
   "outputs": [
    {
     "name": "stdout",
     "output_type": "stream",
     "text": [
      "          A         B         C         D\n",
      "a -0.202269 -0.150799 -0.812402 -0.927449\n",
      "b  0.050479  0.389905 -0.474669  0.323952\n",
      "c -0.839139  0.390124  0.013735 -1.165266\n"
     ]
    }
   ],
   "source": [
    "print(df[\"a\":\"c\"])"
   ]
  },
  {
   "cell_type": "markdown",
   "metadata": {},
   "source": [
    "# 注意列是双中括号"
   ]
  },
  {
   "cell_type": "code",
   "execution_count": 25,
   "metadata": {
    "scrolled": true
   },
   "outputs": [
    {
     "name": "stdout",
     "output_type": "stream",
     "text": [
      "          A         D\n",
      "a -0.202269 -0.927449\n",
      "b  0.050479  0.323952\n",
      "c -0.839139 -1.165266\n"
     ]
    }
   ],
   "source": [
    "# 读取多行多列\n",
    "print(df[\"a\":\"c\"][[\"A\", \"D\"]])"
   ]
  },
  {
   "cell_type": "markdown",
   "metadata": {},
   "source": [
    "## 虽然 DataFrame 支持 ndarray 的索引语法，但是我们推荐使用 .loc, .iloc 方法进行索引。"
   ]
  },
  {
   "cell_type": "code",
   "execution_count": 26,
   "metadata": {},
   "outputs": [
    {
     "name": "stdout",
     "output_type": "stream",
     "text": [
      "W    0\n",
      "X    1\n",
      "Y    2\n",
      "Z    3\n",
      "Name: a, dtype: int32\n",
      "--------------------------------------------------\n",
      "   W  X   Y   Z\n",
      "a  0  1   2   3\n",
      "c  8  9  10  11\n"
     ]
    }
   ],
   "source": [
    "# 查询单行\n",
    "print(df2.loc[\"a\"])\n",
    "print(\"-\" * 50)  # 分隔符\n",
    "# 查询多行\n",
    "print(df2.loc[[\"a\", \"c\"]])"
   ]
  },
  {
   "cell_type": "markdown",
   "metadata": {},
   "source": [
    "## 连续切片，“,”左边为行索引，右边为列索引"
   ]
  },
  {
   "cell_type": "code",
   "execution_count": 27,
   "metadata": {},
   "outputs": [
    {
     "name": "stdout",
     "output_type": "stream",
     "text": [
      "   W  Y\n",
      "a  0  2\n",
      "b  4  6\n",
      "--------------------------------------------------\n",
      "   W  Y\n",
      "a  0  2\n",
      "b  4  6\n",
      "--------------------------------------------------\n",
      "   W  X   Y\n",
      "a  0  1   2\n",
      "b  4  5   6\n",
      "c  8  9  10\n"
     ]
    }
   ],
   "source": [
    "# 写法1, 离散的多行多列\n",
    "print(df2.loc[[\"a\", \"b\"], [\"W\", \"Y\"]])\n",
    "\n",
    "print(\"-\" * 50)  # 分隔符\n",
    "\n",
    "# 写法2，连续的多行离散的多列\n",
    "print(df2.loc[df2.index[0:2], [\"W\", \"Y\"]])\n",
    "    \n",
    "print(\"-\" * 50)  # 分隔符\n",
    "\n",
    "# 写法3，连续的多行多列\n",
    "print(df2.loc[\"a\": \"c\", \"W\": \"Y\"])"
   ]
  },
  {
   "cell_type": "markdown",
   "metadata": {},
   "source": [
    "## .iloc 根据位置读取，也可以进行切片"
   ]
  },
  {
   "cell_type": "code",
   "execution_count": 28,
   "metadata": {},
   "outputs": [
    {
     "name": "stdout",
     "output_type": "stream",
     "text": [
      "   W  X  Y  Z\n",
      "a  0  1  2  3\n",
      "b  4  5  6  7\n"
     ]
    }
   ],
   "source": [
    "# 获取前两行\n",
    "# 注意：pandas 的位置切片是左闭右开\n",
    "print(df2.iloc[0:2])"
   ]
  },
  {
   "cell_type": "code",
   "execution_count": 29,
   "metadata": {},
   "outputs": [
    {
     "name": "stdout",
     "output_type": "stream",
     "text": [
      "   W  X  Y\n",
      "a  0  1  2\n",
      "b  4  5  6\n"
     ]
    }
   ],
   "source": [
    "# 获取前2行前3列\n",
    "print(df2.iloc[0:2, 0:3])"
   ]
  },
  {
   "cell_type": "code",
   "execution_count": 31,
   "metadata": {},
   "outputs": [
    {
     "name": "stdout",
     "output_type": "stream",
     "text": [
      "   W  X\n",
      "a  0  1\n",
      "b  4  5\n",
      "c  8  9\n",
      "--------------------------------------------------\n",
      "   W  X  Y  Z\n",
      "a  0  1  2  3\n",
      "b  4  5  6  7\n"
     ]
    }
   ],
   "source": [
    "# 只传入 ‘:’ 获取所有行或列\n",
    "print(df2.iloc[:, 0:2])\n",
    "print(\"-\" * 50)  # 分隔符\n",
    "print(df2.iloc[0:2, :])"
   ]
  },
  {
   "cell_type": "markdown",
   "metadata": {},
   "source": [
    "# 布尔值索引"
   ]
  },
  {
   "cell_type": "code",
   "execution_count": 32,
   "metadata": {},
   "outputs": [
    {
     "name": "stdout",
     "output_type": "stream",
     "text": [
      "       A      B      C      D\n",
      "a  False  False  False  False\n",
      "b   True   True  False   True\n",
      "c  False   True   True  False\n",
      "d  False  False   True   True\n",
      "e  False  False  False  False\n",
      "f  False  False  False  False\n"
     ]
    }
   ],
   "source": [
    "print(df > 0)"
   ]
  },
  {
   "cell_type": "code",
   "execution_count": 33,
   "metadata": {},
   "outputs": [
    {
     "name": "stdout",
     "output_type": "stream",
     "text": [
      "a    False\n",
      "b     True\n",
      "c    False\n",
      "d    False\n",
      "e    False\n",
      "f    False\n",
      "Name: A, dtype: bool\n"
     ]
    }
   ],
   "source": [
    "print(df.A > 0)"
   ]
  },
  {
   "cell_type": "code",
   "execution_count": 34,
   "metadata": {},
   "outputs": [
    {
     "name": "stdout",
     "output_type": "stream",
     "text": [
      "          A         B         C         D\n",
      "b  0.050479  0.389905 -0.474669  0.323952\n"
     ]
    }
   ],
   "source": [
    "print(df[df['A'] > 0])"
   ]
  },
  {
   "cell_type": "code",
   "execution_count": 35,
   "metadata": {},
   "outputs": [
    {
     "name": "stdout",
     "output_type": "stream",
     "text": [
      "     W    X    Y    Z\n",
      "a  NaN  NaN  2.0  3.0\n",
      "b  4.0  5.0  6.0  7.0\n",
      "c  8.0  9.0  NaN  NaN\n"
     ]
    }
   ],
   "source": [
    "# 能传入多个条件，不同的条件之间需要用括号括起来。\n",
    "print(df2[(df2 > 1) & (df2 < 10)])"
   ]
  },
  {
   "cell_type": "markdown",
   "metadata": {},
   "source": [
    "# 12、层次化索引\n",
    "\n",
    "pandas 的层次化索引，它是 pandas 的一项比较重要的功能，它能够让我们在一个轴上拥有多个索引级别，另一种说法是它能以低纬度形式来处理高纬度数据。"
   ]
  },
  {
   "cell_type": "markdown",
   "metadata": {},
   "source": [
    "## 1.Series 层次化索引"
   ]
  },
  {
   "cell_type": "code",
   "execution_count": 36,
   "metadata": {},
   "outputs": [
    {
     "name": "stdout",
     "output_type": "stream",
     "text": [
      "first   male      16\n",
      "        female    17\n",
      "second  male      21\n",
      "        female    18\n",
      "third   male      19\n",
      "        female    22\n",
      "dtype: int64\n"
     ]
    }
   ],
   "source": [
    "# 有3个班级，我们来统计一下每个班级的男女生人数\n",
    "data = [16, 17, 21, 18, 19, 22]\n",
    "s = pd.Series(data, index=[[\"first\", \"first\", \"second\", \"second\", \"third\", \"third\"], [\"male\", \"female\", \"male\", \"female\", \"male\", \"female\"]])\n",
    "print(s)"
   ]
  },
  {
   "cell_type": "code",
   "execution_count": 37,
   "metadata": {
    "scrolled": true
   },
   "outputs": [
    {
     "name": "stdout",
     "output_type": "stream",
     "text": [
      "MultiIndex([( 'first',   'male'),\n",
      "            ( 'first', 'female'),\n",
      "            ('second',   'male'),\n",
      "            ('second', 'female'),\n",
      "            ( 'third',   'male'),\n",
      "            ( 'third', 'female')],\n",
      "           )\n"
     ]
    }
   ],
   "source": [
    "# 显示层次化索引\n",
    "print(s.index)"
   ]
  },
  {
   "cell_type": "code",
   "execution_count": 41,
   "metadata": {},
   "outputs": [
    {
     "name": "stdout",
     "output_type": "stream",
     "text": [
      "male      16\n",
      "female    17\n",
      "dtype: int64\n"
     ]
    }
   ],
   "source": [
    "# 传入第一个索引\n",
    "print(s[\"first\"])"
   ]
  },
  {
   "cell_type": "code",
   "execution_count": 42,
   "metadata": {},
   "outputs": [
    {
     "name": "stdout",
     "output_type": "stream",
     "text": [
      "first   male      16\n",
      "        female    17\n",
      "second  male      21\n",
      "        female    18\n",
      "dtype: int64\n",
      "--------------------------------------------------\n",
      "first  male      16\n",
      "       female    17\n",
      "third  male      19\n",
      "       female    22\n",
      "dtype: int64\n"
     ]
    }
   ],
   "source": [
    "# 获取一二班的男女生人数\n",
    "print(s[\"first\": \"second\"]) \n",
    "\n",
    "print('-' * 50)\n",
    "\n",
    "# 也可以多项选择\n",
    "print(s[[\"first\", \"third\"]])"
   ]
  },
  {
   "cell_type": "code",
   "execution_count": 43,
   "metadata": {},
   "outputs": [
    {
     "name": "stdout",
     "output_type": "stream",
     "text": [
      "16\n",
      "--------------------------------------------------\n",
      "first     17\n",
      "second    18\n",
      "third     22\n",
      "dtype: int64\n"
     ]
    }
   ],
   "source": [
    "# 获取一班的男生人数\n",
    "print(s[\"first\", \"male\"])\n",
    "\n",
    "print('-' * 50)\n",
    "\n",
    "# 获取各班的女生人数\n",
    "print(s[:, \"female\"])"
   ]
  },
  {
   "cell_type": "code",
   "execution_count": 44,
   "metadata": {},
   "outputs": [
    {
     "name": "stdout",
     "output_type": "stream",
     "text": [
      "16\n",
      "--------------------------------------------------\n",
      "first     17\n",
      "second    18\n",
      "third     22\n",
      "dtype: int64\n"
     ]
    }
   ],
   "source": [
    "# 获取一班的男生人数\n",
    "print(s[\"first\"][\"male\"])\n",
    "\n",
    "print('-' * 50)\n",
    "\n",
    "# 获取各班的女生人数\n",
    "print(s[\"first\": \"third\"][:, \"female\"])"
   ]
  },
  {
   "cell_type": "markdown",
   "metadata": {},
   "source": [
    "## 2.DataFrame 层次化索引"
   ]
  },
  {
   "cell_type": "code",
   "execution_count": 38,
   "metadata": {},
   "outputs": [
    {
     "name": "stdout",
     "output_type": "stream",
     "text": [
      "               Ch          Ma          En        \n",
      "                A   B   C   A   B   C   A   B   C\n",
      "first  male    10  18  12  18  19  13  15  11  14\n",
      "       female  16  16  10  15  19  14  12  12  10\n",
      "second male    11  13  19  10  15  17  12  17  12\n",
      "       female  19  12  19  14  16  16  10  19  15\n",
      "third  male    16  18  11  14  13  16  13  18  12\n",
      "       female  17  19  11  12  17  14  18  11  17\n"
     ]
    }
   ],
   "source": [
    "# 统计一下三个班级中数学、语文、英语三门学科男生和女生考试成绩的等级划分\n",
    "data = np.random.randint(10, 20, (6, 9))  # [10， 20)之间的随机整数\n",
    "index = [[\"first\", \"first\", \"second\", \"second\", \"third\", \"third\"], [\"male\", \"female\", \"male\", \"female\", \"male\", \"female\"]]\n",
    "columns = [[\"Ch\", \"Ch\", \"Ch\", \"Ma\", \"Ma\", \"Ma\", \"En\", \"En\", \"En\"], [\"A\", \"B\", \"C\", \"A\", \"B\", \"C\", \"A\", \"B\", \"C\"]]\n",
    "df = pd.DataFrame(data, index=index, columns=columns)\n",
    "print(df)"
   ]
  },
  {
   "cell_type": "code",
   "execution_count": 39,
   "metadata": {},
   "outputs": [
    {
     "name": "stdout",
     "output_type": "stream",
     "text": [
      "MultiIndex([( 'first',   'male'),\n",
      "            ( 'first', 'female'),\n",
      "            ('second',   'male'),\n",
      "            ('second', 'female'),\n",
      "            ( 'third',   'male'),\n",
      "            ( 'third', 'female')],\n",
      "           )\n"
     ]
    }
   ],
   "source": [
    "# 显示层次化索引\n",
    "print(df.index)"
   ]
  },
  {
   "cell_type": "code",
   "execution_count": 40,
   "metadata": {},
   "outputs": [
    {
     "name": "stdout",
     "output_type": "stream",
     "text": [
      "MultiIndex([('Ch', 'A'),\n",
      "            ('Ch', 'B'),\n",
      "            ('Ch', 'C'),\n",
      "            ('Ma', 'A'),\n",
      "            ('Ma', 'B'),\n",
      "            ('Ma', 'C'),\n",
      "            ('En', 'A'),\n",
      "            ('En', 'B'),\n",
      "            ('En', 'C')],\n",
      "           )\n"
     ]
    }
   ],
   "source": [
    "print(df.columns)"
   ]
  },
  {
   "cell_type": "code",
   "execution_count": 45,
   "metadata": {},
   "outputs": [
    {
     "name": "stdout",
     "output_type": "stream",
     "text": [
      "                A   B   C\n",
      "first  male    18  19  13\n",
      "       female  15  19  14\n",
      "second male    10  15  17\n",
      "       female  14  16  16\n",
      "third  male    14  13  16\n",
      "       female  12  17  14\n"
     ]
    }
   ],
   "source": [
    "print(df[\"Ma\"])"
   ]
  },
  {
   "cell_type": "code",
   "execution_count": 46,
   "metadata": {},
   "outputs": [
    {
     "name": "stdout",
     "output_type": "stream",
     "text": [
      "        Ch          Ma          En        \n",
      "         A   B   C   A   B   C   A   B   C\n",
      "male    10  18  12  18  19  13  15  11  14\n",
      "female  16  16  10  15  19  14  12  12  10\n"
     ]
    }
   ],
   "source": [
    "print(df.loc[\"first\"])"
   ]
  },
  {
   "cell_type": "code",
   "execution_count": 47,
   "metadata": {},
   "outputs": [
    {
     "name": "stdout",
     "output_type": "stream",
     "text": [
      "         A   B   C\n",
      "male    15  11  14\n",
      "female  12  12  10\n"
     ]
    }
   ],
   "source": [
    "print(df.loc[\"first\", \"En\"])"
   ]
  },
  {
   "cell_type": "code",
   "execution_count": 48,
   "metadata": {},
   "outputs": [
    {
     "name": "stdout",
     "output_type": "stream",
     "text": [
      "first   male      10\n",
      "        female    16\n",
      "second  male      11\n",
      "        female    19\n",
      "third   male      16\n",
      "        female    17\n",
      "Name: A, dtype: int32\n"
     ]
    }
   ],
   "source": [
    "print(df[\"Ch\"][\"A\"])"
   ]
  },
  {
   "cell_type": "code",
   "execution_count": 49,
   "metadata": {},
   "outputs": [
    {
     "name": "stdout",
     "output_type": "stream",
     "text": [
      "        Ch          En        \n",
      "         A   B   C   A   B   C\n",
      "male    10  18  12  15  11  14\n",
      "female  16  16  10  12  12  10\n"
     ]
    }
   ],
   "source": [
    "print(df.loc[\"first\", [\"Ch\", \"En\"]])"
   ]
  },
  {
   "cell_type": "code",
   "execution_count": 50,
   "metadata": {
    "scrolled": true
   },
   "outputs": [
    {
     "name": "stdout",
     "output_type": "stream",
     "text": [
      "male      10\n",
      "female    16\n",
      "Name: A, dtype: int32\n"
     ]
    }
   ],
   "source": [
    "print(df.loc[\"first\", \"Ch\"][\"A\"])"
   ]
  },
  {
   "cell_type": "code",
   "execution_count": 54,
   "metadata": {},
   "outputs": [
    {
     "data": {
      "text/plain": [
       "male      10\n",
       "female    16\n",
       "Name: A, dtype: int32"
      ]
     },
     "execution_count": 54,
     "metadata": {},
     "output_type": "execute_result"
    }
   ],
   "source": [
    "df.loc[\"first\", \"Ch\"][\"A\"]"
   ]
  },
  {
   "cell_type": "code",
   "execution_count": 51,
   "metadata": {},
   "outputs": [
    {
     "name": "stdout",
     "output_type": "stream",
     "text": [
      "Ch  A    10\n",
      "    B    18\n",
      "    C    12\n",
      "Ma  A    18\n",
      "    B    19\n",
      "    C    13\n",
      "En  A    15\n",
      "    B    11\n",
      "    C    14\n",
      "Name: male, dtype: int32\n"
     ]
    }
   ],
   "source": [
    "print(df.loc[\"first\", :].loc[\"male\"])"
   ]
  },
  {
   "cell_type": "markdown",
   "metadata": {},
   "source": [
    "## 居然练习写错了，不能使用小括号"
   ]
  },
  {
   "cell_type": "code",
   "execution_count": 55,
   "metadata": {},
   "outputs": [
    {
     "data": {
      "text/plain": [
       "male      10\n",
       "female    14\n",
       "Name: A, dtype: int32"
      ]
     },
     "execution_count": 55,
     "metadata": {},
     "output_type": "execute_result"
    }
   ],
   "source": [
    " df.loc['second', 'Ma']['A']"
   ]
  },
  {
   "cell_type": "markdown",
   "metadata": {},
   "source": [
    "# 13、数据的合并\n",
    "Pandas 包的 merge、join 方法可以完成数据的合并，merge 方法主要基于两个 DataFrame 的共同列进行合并，join 方法主要基于两个 DataFrame 的索引进行合并。"
   ]
  },
  {
   "cell_type": "markdown",
   "metadata": {},
   "source": [
    "## 1. Merge\n",
    "merge 方法是基于共同列，将两个 DataFrame 合并\n",
    "```\n",
    "pandas.merge(left, right, how='inner', on=None, left_on=None, right_on=None, left_index=False, right_index=False, sort=False, suffixes=('_x', '_y'), copy=True, indicator=False, validate=None)\n",
    "```\n",
    "\n",
    "参数说明：\n",
    "- left/right：左/右位置的 DataFrame。\n",
    "- how：数据合并的方式。left：基于左 DataFrame 列的数据合并；right：基于右DataFrame列的数据合并；outer：基于列的数据外合并（取并集）；inner：基于列的数据内合并（取交集）；默认为inner。\n",
    "- on：用来合并的列名，这个参数需要保证两个 DataFrame 有相同的列名。\n",
    "- left_on/right_on：左/右 DataFrame 合并的列名，也可为索引，数组和列表。\n",
    "- left_index/right_index：是否以 index 作为数据合并的列名，True 表示是。\n",
    "- sort：根据 DataFrame 合并的 keys 排序，默认是 True。\n",
    "- suffixes: 若有相同列且该列没有作为合并的列，可通过 suffixes 设置该列的后缀名，一般为元组和列表类型。"
   ]
  },
  {
   "cell_type": "code",
   "execution_count": 57,
   "metadata": {},
   "outputs": [
    {
     "name": "stdout",
     "output_type": "stream",
     "text": [
      "  key  data1\n",
      "0   s      0\n",
      "1   s      1\n",
      "2   w      2\n",
      "3   x      3\n",
      "4   x      4\n",
      "5   n      5\n",
      "6   f      6\n",
      "7   c      7\n",
      "--------------------------------------------------\n",
      "  key  data2\n",
      "0   w      0\n",
      "1   w      1\n",
      "2   s      2\n",
      "3   s      3\n",
      "4   x      4\n",
      "5   f      5\n"
     ]
    }
   ],
   "source": [
    "df1 = pd.DataFrame({'key':['s','s','w','x','x','n','f','c'], 'data1':range(8)})\n",
    "print(df1)\n",
    "print(\"-\" * 50)  # 分割线\n",
    "df2 = pd.DataFrame({'key':['w','w','s','s','x','f'], 'data2':range(6)})\n",
    "print(df2)"
   ]
  },
  {
   "cell_type": "code",
   "execution_count": 58,
   "metadata": {},
   "outputs": [
    {
     "name": "stdout",
     "output_type": "stream",
     "text": [
      "  key  data1  data2\n",
      "0   s      0      2\n",
      "1   s      0      3\n",
      "2   s      1      2\n",
      "3   s      1      3\n",
      "4   w      2      0\n",
      "5   w      2      1\n",
      "6   x      3      4\n",
      "7   x      4      4\n",
      "8   f      6      5\n"
     ]
    }
   ],
   "source": [
    "# 未指定合并的列，默认选取两者重复的列\n",
    "print(pd.merge(df1, df2))"
   ]
  },
  {
   "cell_type": "code",
   "execution_count": 59,
   "metadata": {},
   "outputs": [
    {
     "name": "stdout",
     "output_type": "stream",
     "text": [
      "   key  data1  data2\n",
      "0    s      0    2.0\n",
      "1    s      0    3.0\n",
      "2    s      1    2.0\n",
      "3    s      1    3.0\n",
      "4    w      2    0.0\n",
      "5    w      2    1.0\n",
      "6    x      3    4.0\n",
      "7    x      4    4.0\n",
      "8    n      5    NaN\n",
      "9    f      6    5.0\n",
      "10   c      7    NaN\n"
     ]
    }
   ],
   "source": [
    "print(pd.merge(df1, df2, how=\"outer\", on=\"key\"))"
   ]
  },
  {
   "cell_type": "code",
   "execution_count": 60,
   "metadata": {},
   "outputs": [
    {
     "name": "stdout",
     "output_type": "stream",
     "text": [
      "   key  data1  data2\n",
      "0    s      0    2.0\n",
      "1    s      0    3.0\n",
      "2    s      1    2.0\n",
      "3    s      1    3.0\n",
      "4    w      2    0.0\n",
      "5    w      2    1.0\n",
      "6    x      3    4.0\n",
      "7    x      4    4.0\n",
      "8    n      5    NaN\n",
      "9    f      6    5.0\n",
      "10   c      7    NaN\n"
     ]
    }
   ],
   "source": [
    "print(pd.merge(df1, df2, how=\"left\"))"
   ]
  },
  {
   "cell_type": "code",
   "execution_count": 61,
   "metadata": {},
   "outputs": [
    {
     "name": "stdout",
     "output_type": "stream",
     "text": [
      "  key1 key2  val\n",
      "0  foo  one    1\n",
      "1  foo  two    2\n",
      "2  bar  one    3\n",
      "--------------------------------------------------\n",
      "  key1 key2  val\n",
      "0  foo  one    4\n",
      "1  foo  one    5\n",
      "2  bar  one    6\n",
      "3  bar  two    7\n"
     ]
    }
   ],
   "source": [
    "df1 = pd.DataFrame({'key1': ['foo', 'foo', 'bar'], 'key2': ['one', 'two', 'one'],'val': [1, 2, 3]})\n",
    "print(df1)\n",
    "print(\"-\" * 50)  # 分割线\n",
    "df2 = pd.DataFrame({'key1': ['foo', 'foo','bar','bar'], 'key2': ['one', 'one', 'one','two'],'val': [4,5,6,7]})\n",
    "print(df2)"
   ]
  },
  {
   "cell_type": "code",
   "execution_count": 62,
   "metadata": {},
   "outputs": [
    {
     "name": "stdout",
     "output_type": "stream",
     "text": [
      "  key1 key2  val_x  val_y\n",
      "0  foo  one    1.0      4\n",
      "1  foo  one    1.0      5\n",
      "2  bar  one    3.0      6\n",
      "3  bar  two    NaN      7\n"
     ]
    }
   ],
   "source": [
    "print(pd.merge(df1, df2, on=[\"key1\", \"key2\"], how=\"right\"))"
   ]
  },
  {
   "cell_type": "code",
   "execution_count": 63,
   "metadata": {},
   "outputs": [
    {
     "name": "stdout",
     "output_type": "stream",
     "text": [
      "  key1 key2  val_left  val_right\n",
      "0  foo  one         1          4\n",
      "1  foo  one         1          5\n",
      "2  bar  one         3          6\n"
     ]
    }
   ],
   "source": [
    "# 当合并的数据有相同的列时，结构会默认在后面添加 _x, _y 来区分，我们也可以通过 suffixes 参数来手动指定\n",
    "print(pd.merge(df1, df2, on=[\"key1\", \"key2\"], suffixes=[\"_left\", \"_right\"]))"
   ]
  },
  {
   "cell_type": "markdown",
   "metadata": {},
   "source": [
    "## 2. Join\n",
    "```\n",
    "DataFrame.join(other, on=None, how='left', lsuffix='', rsuffix='', sort=False)\n",
    "```\n",
    "参数说明：\n",
    "- other：DataFrame，或者带有名字的 Series，或者 list，如果传递的是 Series，那么其 name 属性应当是一个集合，并且该集合将会作为结果 DataFrame 的列名。\n",
    "- on：列名称，或者列名称的 list/tuple，或者类似形状的数组连接的列，默认使用索引连接。\n",
    "- how： {‘left’, ‘right’, ‘outer’, ‘inner’} , 连接的方式，默认为左连接。\n",
    "- lsuffix：String 左 DataFrame 中重复列的后缀。\n",
    "- rsuffix：String 右 DataFrame 中重复列的后缀。\n",
    "- sort：按照字典顺序对结果在连接键上排序。如果为False，连接键的顺序取决于连接类型（关键字）。"
   ]
  },
  {
   "cell_type": "code",
   "execution_count": 71,
   "metadata": {},
   "outputs": [
    {
     "name": "stdout",
     "output_type": "stream",
     "text": [
      "     A  B  C  D\n",
      "one  0  1  2  3\n",
      "two  4  5  6  7\n",
      "--------------------------------------------------\n",
      "       W  X   Y   Z\n",
      "one    0  1   2   3\n",
      "two    4  5   6   7\n",
      "three  8  9  10  11\n"
     ]
    }
   ],
   "source": [
    "df1 = pd.DataFrame(np.arange(8).reshape(2, 4), index=[\"one\", \"two\"], columns=list(\"ABCD\"))\n",
    "print(df1)\n",
    "print(\"-\" * 50)  # 分割线\n",
    "df2 = pd.DataFrame(np.arange(12).reshape(3, 4), index=[\"one\", \"two\", \"three\"], columns=list(\"WXYZ\"))\n",
    "print(df2)"
   ]
  },
  {
   "cell_type": "code",
   "execution_count": 69,
   "metadata": {},
   "outputs": [
    {
     "name": "stdout",
     "output_type": "stream",
     "text": [
      "A    int32\n",
      "B    int32\n",
      "C    int32\n",
      "D    int32\n",
      "dtype: object\n"
     ]
    }
   ],
   "source": [
    "print(df1.dtypes)"
   ]
  },
  {
   "cell_type": "code",
   "execution_count": 70,
   "metadata": {},
   "outputs": [
    {
     "name": "stdout",
     "output_type": "stream",
     "text": [
      "C    int32\n",
      "D    int32\n",
      "E    int32\n",
      "F    int32\n",
      "dtype: object\n"
     ]
    }
   ],
   "source": [
    "print(df2.dtypes)"
   ]
  },
  {
   "cell_type": "markdown",
   "metadata": {},
   "source": [
    "### 执行语句时报错columns overlap but no suffix specified: Index(['C', 'D'], dtype='object'),然后发现是两个DataFrame 的列名重复了，join不会像merge一样，merge会将重名的列明自动加上_x,_y加以区分，而join直接报错。所以，我们的解决方法是修改其列名就好了。\n",
    "\n",
    "教程中代码写错，但是运行结果是正确的。"
   ]
  },
  {
   "cell_type": "code",
   "execution_count": 72,
   "metadata": {
    "scrolled": true
   },
   "outputs": [
    {
     "name": "stdout",
     "output_type": "stream",
     "text": [
      "     A  B  C  D  W  X  Y  Z\n",
      "one  0  1  2  3  0  1  2  3\n",
      "two  4  5  6  7  4  5  6  7\n"
     ]
    }
   ],
   "source": [
    "print(df1.join(df2))"
   ]
  },
  {
   "cell_type": "code",
   "execution_count": 73,
   "metadata": {},
   "outputs": [
    {
     "name": "stdout",
     "output_type": "stream",
     "text": [
      "       W  X   Y   Z    A    B    C    D\n",
      "one    0  1   2   3  0.0  1.0  2.0  3.0\n",
      "two    4  5   6   7  4.0  5.0  6.0  7.0\n",
      "three  8  9  10  11  NaN  NaN  NaN  NaN\n"
     ]
    }
   ],
   "source": [
    "print(df2.join(df1))"
   ]
  },
  {
   "cell_type": "markdown",
   "metadata": {},
   "source": [
    "# 14、分割与组合"
   ]
  },
  {
   "cell_type": "markdown",
   "metadata": {},
   "source": [
    "## Grouping\n",
    "\n",
    "分组的过程呢分为：\n",
    "- 拆分： 进行分组的根据\n",
    "- 应用： 每个分组运行的计算规则\n",
    "- 合并： 把每个分组的计算结果合并起来\n",
    "\n",
    "```\n",
    "DataFrame.groupby(by=None, axis=0, level=None, as_index=True, sort=True, group_keys=True, squeeze=<no_default>, observed=False, dropna=True)\n",
    "```\n",
    "\n",
    "参数说明:\n",
    "- by：接收list，string，mapping，generator，用于确定分组的依据，无默认。\n",
    "- axis：接收int，表示操作的轴向，默认为0，对列进行操作。\n",
    "- level：接收int或者索引名，代表标签所在级别。\n",
    "- as_index：表示聚合后的聚合标签是否以DataFrame索引形式输出，默认为True。\n",
    "- sort：表示是否对分组依据分组标签进行排序。\n",
    "- group_keys：表示是否显示分组标签的名称。\n",
    "- squeeze：表示是否在允许的情况下对返回数据进行降维。"
   ]
  },
  {
   "cell_type": "code",
   "execution_count": 74,
   "metadata": {},
   "outputs": [
    {
     "name": "stdout",
     "output_type": "stream",
     "text": [
      "  lessons grade  male  female\n",
      "0      Ch     A    11      13\n",
      "1      En     A    10      12\n",
      "2      Ch     B    18      12\n",
      "3      En     B    17      16\n",
      "4      Ch     C    10      10\n",
      "5      Ma     A    14      18\n",
      "6      En     C    14      14\n",
      "7      Ma     B    14      19\n"
     ]
    }
   ],
   "source": [
    "# 用字典创建DataFrame\n",
    "data = {\"lessons\": ['Ch', 'En', 'Ch', 'En', 'Ch', 'Ma', 'En', 'Ma'],\n",
    "        \"grade\": ['A', 'A', 'B', 'B', 'C', 'A', 'C', 'B'],\n",
    "        \"male\": np.random.randint(10, 20, 8),  # [10, 20)的8个随机整数\n",
    "        \"female\": np.random.randint(10, 20, 8)}\n",
    "df = pd.DataFrame(data)\n",
    "print(df)"
   ]
  },
  {
   "cell_type": "code",
   "execution_count": 75,
   "metadata": {},
   "outputs": [
    {
     "name": "stdout",
     "output_type": "stream",
     "text": [
      "<pandas.core.groupby.generic.DataFrameGroupBy object at 0x000000000A5564C8>\n"
     ]
    }
   ],
   "source": [
    "print(df.groupby(by=\"lessons\"))"
   ]
  },
  {
   "cell_type": "markdown",
   "metadata": {},
   "source": [
    "#### DataFrameGroupBy 对象有很多经过优化的方法：\n",
    "- count：计算分组中非NA值的数量\n",
    "- sum：计算非NA值的和\n",
    "- mean：计算非NA值的平均值\n",
    "- median：计算非NA值的算术中位数\n",
    "- std、var：无偏（分母为n-1）标准差和方差\n",
    "- min、max：非NA值的最小值和最大值"
   ]
  },
  {
   "cell_type": "code",
   "execution_count": null,
   "metadata": {},
   "outputs": [],
   "source": []
  },
  {
   "cell_type": "code",
   "execution_count": null,
   "metadata": {},
   "outputs": [],
   "source": []
  }
 ],
 "metadata": {
  "kernelspec": {
   "display_name": "Python 3",
   "language": "python",
   "name": "python3"
  },
  "language_info": {
   "codemirror_mode": {
    "name": "ipython",
    "version": 3
   },
   "file_extension": ".py",
   "mimetype": "text/x-python",
   "name": "python",
   "nbconvert_exporter": "python",
   "pygments_lexer": "ipython3",
   "version": "3.7.4"
  }
 },
 "nbformat": 4,
 "nbformat_minor": 2
}

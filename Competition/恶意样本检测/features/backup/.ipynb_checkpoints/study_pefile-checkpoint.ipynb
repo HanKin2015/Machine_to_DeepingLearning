{
 "cells": [
  {
   "cell_type": "code",
   "execution_count": 4,
   "metadata": {
    "scrolled": true
   },
   "outputs": [
    {
     "ename": "PEFormatError",
     "evalue": "'DOS Header magic not found.'",
     "output_type": "error",
     "traceback": [
      "\u001b[1;31m---------------------------------------------------------------------------\u001b[0m",
      "\u001b[1;31mPEFormatError\u001b[0m                             Traceback (most recent call last)",
      "\u001b[1;32m<ipython-input-4-5f87dcdd006d>\u001b[0m in \u001b[0;36m<module>\u001b[1;34m\u001b[0m\n\u001b[0;32m      1\u001b[0m \u001b[1;32mimport\u001b[0m \u001b[0mpefile\u001b[0m\u001b[1;33m,\u001b[0m \u001b[0mlief\u001b[0m\u001b[1;33m\u001b[0m\u001b[1;33m\u001b[0m\u001b[0m\n\u001b[0;32m      2\u001b[0m \u001b[1;33m\u001b[0m\u001b[0m\n\u001b[1;32m----> 3\u001b[1;33m \u001b[0mpe\u001b[0m \u001b[1;33m=\u001b[0m \u001b[0mpefile\u001b[0m\u001b[1;33m.\u001b[0m\u001b[0mPE\u001b[0m\u001b[1;33m(\u001b[0m\u001b[1;34m'get_dataset_v1.py'\u001b[0m\u001b[1;33m)\u001b[0m\u001b[1;33m\u001b[0m\u001b[1;33m\u001b[0m\u001b[0m\n\u001b[0m\u001b[0;32m      4\u001b[0m \u001b[1;31m#print(pe)\u001b[0m\u001b[1;33m\u001b[0m\u001b[1;33m\u001b[0m\u001b[1;33m\u001b[0m\u001b[0m\n\u001b[0;32m      5\u001b[0m \u001b[0mprint\u001b[0m\u001b[1;33m(\u001b[0m\u001b[0mpe\u001b[0m\u001b[1;33m.\u001b[0m\u001b[0mFILE_HEADER\u001b[0m\u001b[1;33m.\u001b[0m\u001b[0mTimeDateStamp\u001b[0m\u001b[1;33m)\u001b[0m\u001b[1;33m\u001b[0m\u001b[1;33m\u001b[0m\u001b[0m\n",
      "\u001b[1;32m~\\Anaconda3\\lib\\site-packages\\pefile.py\u001b[0m in \u001b[0;36m__init__\u001b[1;34m(self, name, data, fast_load)\u001b[0m\n\u001b[0;32m   1752\u001b[0m         \u001b[0mfast_load\u001b[0m \u001b[1;33m=\u001b[0m \u001b[0mfast_load\u001b[0m \u001b[1;32mor\u001b[0m \u001b[0mglobals\u001b[0m\u001b[1;33m(\u001b[0m\u001b[1;33m)\u001b[0m\u001b[1;33m[\u001b[0m\u001b[1;34m'fast_load'\u001b[0m\u001b[1;33m]\u001b[0m\u001b[1;33m\u001b[0m\u001b[1;33m\u001b[0m\u001b[0m\n\u001b[0;32m   1753\u001b[0m         \u001b[1;32mtry\u001b[0m\u001b[1;33m:\u001b[0m\u001b[1;33m\u001b[0m\u001b[1;33m\u001b[0m\u001b[0m\n\u001b[1;32m-> 1754\u001b[1;33m             \u001b[0mself\u001b[0m\u001b[1;33m.\u001b[0m\u001b[0m__parse__\u001b[0m\u001b[1;33m(\u001b[0m\u001b[0mname\u001b[0m\u001b[1;33m,\u001b[0m \u001b[0mdata\u001b[0m\u001b[1;33m,\u001b[0m \u001b[0mfast_load\u001b[0m\u001b[1;33m)\u001b[0m\u001b[1;33m\u001b[0m\u001b[1;33m\u001b[0m\u001b[0m\n\u001b[0m\u001b[0;32m   1755\u001b[0m         \u001b[1;32mexcept\u001b[0m\u001b[1;33m:\u001b[0m\u001b[1;33m\u001b[0m\u001b[1;33m\u001b[0m\u001b[0m\n\u001b[0;32m   1756\u001b[0m             \u001b[0mself\u001b[0m\u001b[1;33m.\u001b[0m\u001b[0mclose\u001b[0m\u001b[1;33m(\u001b[0m\u001b[1;33m)\u001b[0m\u001b[1;33m\u001b[0m\u001b[1;33m\u001b[0m\u001b[0m\n",
      "\u001b[1;32m~\\Anaconda3\\lib\\site-packages\\pefile.py\u001b[0m in \u001b[0;36m__parse__\u001b[1;34m(self, fname, data, fast_load)\u001b[0m\n\u001b[0;32m   1845\u001b[0m             \u001b[1;32mraise\u001b[0m \u001b[0mPEFormatError\u001b[0m\u001b[1;33m(\u001b[0m\u001b[1;34m'Probably a ZM Executable (not a PE file).'\u001b[0m\u001b[1;33m)\u001b[0m\u001b[1;33m\u001b[0m\u001b[1;33m\u001b[0m\u001b[0m\n\u001b[0;32m   1846\u001b[0m         \u001b[1;32mif\u001b[0m \u001b[1;32mnot\u001b[0m \u001b[0mself\u001b[0m\u001b[1;33m.\u001b[0m\u001b[0mDOS_HEADER\u001b[0m \u001b[1;32mor\u001b[0m \u001b[0mself\u001b[0m\u001b[1;33m.\u001b[0m\u001b[0mDOS_HEADER\u001b[0m\u001b[1;33m.\u001b[0m\u001b[0me_magic\u001b[0m \u001b[1;33m!=\u001b[0m \u001b[0mIMAGE_DOS_SIGNATURE\u001b[0m\u001b[1;33m:\u001b[0m\u001b[1;33m\u001b[0m\u001b[1;33m\u001b[0m\u001b[0m\n\u001b[1;32m-> 1847\u001b[1;33m             \u001b[1;32mraise\u001b[0m \u001b[0mPEFormatError\u001b[0m\u001b[1;33m(\u001b[0m\u001b[1;34m'DOS Header magic not found.'\u001b[0m\u001b[1;33m)\u001b[0m\u001b[1;33m\u001b[0m\u001b[1;33m\u001b[0m\u001b[0m\n\u001b[0m\u001b[0;32m   1848\u001b[0m \u001b[1;33m\u001b[0m\u001b[0m\n\u001b[0;32m   1849\u001b[0m         \u001b[1;31m# OC Patch:\u001b[0m\u001b[1;33m\u001b[0m\u001b[1;33m\u001b[0m\u001b[1;33m\u001b[0m\u001b[0m\n",
      "\u001b[1;31mPEFormatError\u001b[0m: 'DOS Header magic not found.'"
     ]
    }
   ],
   "source": [
    "import pefile, lief\n",
    "\n",
    "pe = pefile.PE('procexp（中文）64.exe')\n",
    "#print(pe)\n",
    "print(pe.FILE_HEADER.TimeDateStamp)\n",
    "#pe = lief.PE.parse('./AIFirst_data\\\\train\\\\black\\\\Backdoor.Win32.Httpbot.and_87af.exe')\n",
    "#pe.has_signature"
   ]
  },
  {
   "cell_type": "code",
   "execution_count": null,
   "metadata": {},
   "outputs": [],
   "source": [
    "def PE_sections():\n",
    "    table = []\n",
    "    for entry in self.pe.sections:\n",
    "        sect = {'entryname':str(entry.Name),'SizeOfRawData':hex(entry.SizeOfRawData),\n",
    "                'Entropy':entry.get_entropy(),\n",
    "                'MD5':entry.get_hash_md5(),\n",
    "                'SHA1':entry.get_hash_sha1(),\n",
    "                'SHA256':entry.get_hash_sha256(),\n",
    "                'SHA512':entry.get_hash_sha512()}\n",
    "        table.append(sect)\n",
    "        sect = {}\n",
    "    return table"
   ]
  },
  {
   "cell_type": "code",
   "execution_count": 166,
   "metadata": {},
   "outputs": [
    {
     "name": "stdout",
     "output_type": "stream",
     "text": [
      "'Invalid NT Headers signature. Probably a NE file'\n",
      "<class 'pefile.PEFormatError'>\n",
      "Invalid NT Headers signature. Probably a NE file\n",
      "<class 'str'>\n",
      "1\n"
     ]
    }
   ],
   "source": [
    "hj = {'Invalid NT Headers signature. Probably a NE file': 1}\n",
    "#print(hj['Invalid NT Headers signature. Probably a NE file'])\n",
    "try:\n",
    "    pe = pefile.PE('./AIFirst_data\\\\train\\\\white\\\\wowdeb.exe')\n",
    "except Exception as e:\n",
    "    print(e)\n",
    "    print(type(e))\n",
    "    err = str(e)\n",
    "    err = err.replace(\"'\", \"\")\n",
    "    print(err)\n",
    "    print(type(err))\n",
    "    #print(hj['r'])\n",
    "    print(hj[err])"
   ]
  },
  {
   "cell_type": "code",
   "execution_count": 95,
   "metadata": {},
   "outputs": [
    {
     "ename": "AttributeError",
     "evalue": "'PE' object has no attribute 'DIRECTORY_ENTRY_RESOURCE'",
     "output_type": "error",
     "traceback": [
      "\u001b[1;31m---------------------------------------------------------------------------\u001b[0m",
      "\u001b[1;31mAttributeError\u001b[0m                            Traceback (most recent call last)",
      "\u001b[1;32m<ipython-input-95-48d8d7bfc01e>\u001b[0m in \u001b[0;36m<module>\u001b[1;34m\u001b[0m\n\u001b[1;32m----> 1\u001b[1;33m \u001b[1;32mif\u001b[0m \u001b[0mpe\u001b[0m\u001b[1;33m.\u001b[0m\u001b[0mDIRECTORY_ENTRY_RESOURCE\u001b[0m\u001b[1;33m:\u001b[0m\u001b[1;33m\u001b[0m\u001b[1;33m\u001b[0m\u001b[0m\n\u001b[0m\u001b[0;32m      2\u001b[0m     \u001b[0mprint\u001b[0m\u001b[1;33m(\u001b[0m\u001b[1;36m2\u001b[0m\u001b[1;33m)\u001b[0m\u001b[1;33m\u001b[0m\u001b[1;33m\u001b[0m\u001b[0m\n",
      "\u001b[1;31mAttributeError\u001b[0m: 'PE' object has no attribute 'DIRECTORY_ENTRY_RESOURCE'"
     ]
    }
   ],
   "source": [
    "if pe.DIRECTORY_ENTRY_RESOURCE:\n",
    "    print(2)"
   ]
  },
  {
   "cell_type": "code",
   "execution_count": 148,
   "metadata": {},
   "outputs": [
    {
     "name": "stdout",
     "output_type": "stream",
     "text": [
      "7\n"
     ]
    }
   ],
   "source": [
    "exception_error = {\n",
    "    'Invalid NT Headers signature': 1,\n",
    "    'Invalid NT Headers signature. Probably a NE file': 2,\n",
    "    'Invalid e_lfanew value, probably not a PE file': 3,\n",
    "    'Invalid NT Headers signature. Probably a LE file': 4,\n",
    "    'Unable to read the DOS Header, possibly a truncated file': 5,\n",
    "    'DOS Header magic not found': 6,\n",
    "    'list index out of range': 7,\n",
    "}\n",
    "type(exception_error)\n",
    "print(exception_error['list index out of range'])"
   ]
  },
  {
   "cell_type": "code",
   "execution_count": 119,
   "metadata": {},
   "outputs": [
    {
     "data": {
      "text/plain": [
       "17744"
      ]
     },
     "execution_count": 119,
     "metadata": {},
     "output_type": "execute_result"
    }
   ],
   "source": [
    "pe.NT_HEADERS.Signature"
   ]
  },
  {
   "cell_type": "code",
   "execution_count": 120,
   "metadata": {},
   "outputs": [
    {
     "data": {
      "text/plain": [
       "0"
      ]
     },
     "execution_count": 120,
     "metadata": {},
     "output_type": "execute_result"
    }
   ],
   "source": [
    "pe.FILE_HEADER.NumberOfSymbols"
   ]
  },
  {
   "cell_type": "code",
   "execution_count": 135,
   "metadata": {},
   "outputs": [
    {
     "data": {
      "text/plain": [
       "[<Structure: [IMAGE_DIRECTORY_ENTRY_EXPORT] 0xF8 0x0 VirtualAddress: 0x0 0xFC 0x4 Size: 0x0>,\n",
       " <Structure: [IMAGE_DIRECTORY_ENTRY_IMPORT] 0x100 0x0 VirtualAddress: 0xC2000 0x104 0x4 Size: 0x48E>,\n",
       " <Structure: [IMAGE_DIRECTORY_ENTRY_RESOURCE] 0x108 0x0 VirtualAddress: 0xC3000 0x10C 0x4 Size: 0x1490>,\n",
       " <Structure: [IMAGE_DIRECTORY_ENTRY_EXCEPTION] 0x110 0x0 VirtualAddress: 0x0 0x114 0x4 Size: 0x0>,\n",
       " <Structure: [IMAGE_DIRECTORY_ENTRY_SECURITY] 0x118 0x0 VirtualAddress: 0x0 0x11C 0x4 Size: 0x0>,\n",
       " <Structure: [IMAGE_DIRECTORY_ENTRY_BASERELOC] 0x120 0x0 VirtualAddress: 0x0 0x124 0x4 Size: 0x0>,\n",
       " <Structure: [IMAGE_DIRECTORY_ENTRY_DEBUG] 0x128 0x0 VirtualAddress: 0x0 0x12C 0x4 Size: 0x0>,\n",
       " <Structure: [IMAGE_DIRECTORY_ENTRY_COPYRIGHT] 0x130 0x0 VirtualAddress: 0x0 0x134 0x4 Size: 0x0>,\n",
       " <Structure: [IMAGE_DIRECTORY_ENTRY_GLOBALPTR] 0x138 0x0 VirtualAddress: 0x0 0x13C 0x4 Size: 0x0>,\n",
       " <Structure: [IMAGE_DIRECTORY_ENTRY_TLS] 0x140 0x0 VirtualAddress: 0x0 0x144 0x4 Size: 0x0>,\n",
       " <Structure: [IMAGE_DIRECTORY_ENTRY_LOAD_CONFIG] 0x148 0x0 VirtualAddress: 0x0 0x14C 0x4 Size: 0x0>,\n",
       " <Structure: [IMAGE_DIRECTORY_ENTRY_BOUND_IMPORT] 0x150 0x0 VirtualAddress: 0x0 0x154 0x4 Size: 0x0>,\n",
       " <Structure: [IMAGE_DIRECTORY_ENTRY_IAT] 0x158 0x0 VirtualAddress: 0x0 0x15C 0x4 Size: 0x0>,\n",
       " <Structure: [IMAGE_DIRECTORY_ENTRY_DELAY_IMPORT] 0x160 0x0 VirtualAddress: 0x0 0x164 0x4 Size: 0x0>,\n",
       " <Structure: [IMAGE_DIRECTORY_ENTRY_COM_DESCRIPTOR] 0x168 0x0 VirtualAddress: 0x0 0x16C 0x4 Size: 0x100>,\n",
       " <Structure: [IMAGE_DIRECTORY_ENTRY_RESERVED] 0x170 0x0 VirtualAddress: 0x0 0x174 0x4 Size: 0x0>]"
      ]
     },
     "execution_count": 135,
     "metadata": {},
     "output_type": "execute_result"
    }
   ],
   "source": [
    "pe.OPTIONAL_HEADER.DATA_DIRECTORY"
   ]
  },
  {
   "cell_type": "code",
   "execution_count": 136,
   "metadata": {},
   "outputs": [
    {
     "data": {
      "text/plain": [
       "1166"
      ]
     },
     "execution_count": 136,
     "metadata": {},
     "output_type": "execute_result"
    }
   ],
   "source": [
    "pe.OPTIONAL_HEADER.DATA_DIRECTORY[1].Size"
   ]
  },
  {
   "cell_type": "code",
   "execution_count": 137,
   "metadata": {},
   "outputs": [
    {
     "ename": "AttributeError",
     "evalue": "'PE' object has no attribute 'DIRECTORY_ENTRY_IMPORT'",
     "output_type": "error",
     "traceback": [
      "\u001b[1;31m---------------------------------------------------------------------------\u001b[0m",
      "\u001b[1;31mAttributeError\u001b[0m                            Traceback (most recent call last)",
      "\u001b[1;32m<ipython-input-137-4cef97a28f28>\u001b[0m in \u001b[0;36m<module>\u001b[1;34m\u001b[0m\n\u001b[1;32m----> 1\u001b[1;33m \u001b[0mpe\u001b[0m\u001b[1;33m.\u001b[0m\u001b[0mDIRECTORY_ENTRY_IMPORT\u001b[0m\u001b[1;33m\u001b[0m\u001b[1;33m\u001b[0m\u001b[0m\n\u001b[0m",
      "\u001b[1;31mAttributeError\u001b[0m: 'PE' object has no attribute 'DIRECTORY_ENTRY_IMPORT'"
     ]
    }
   ],
   "source": [
    "pe.DIRECTORY_ENTRY_IMPORT"
   ]
  },
  {
   "cell_type": "code",
   "execution_count": 133,
   "metadata": {
    "scrolled": true
   },
   "outputs": [
    {
     "name": "stdout",
     "output_type": "stream",
     "text": [
      "[<pefile.ImportDescData object at 0x0000000009695688>, <pefile.ImportDescData object at 0x0000000009695F88>, <pefile.ImportDescData object at 0x00000000096A0C08>]\n"
     ]
    },
    {
     "data": {
      "text/plain": [
       "16"
      ]
     },
     "execution_count": 133,
     "metadata": {},
     "output_type": "execute_result"
    }
   ],
   "source": [
    "NumberOfFunctions = 0\n",
    "print(pe.DIRECTORY_ENTRY_IMPORT)\n",
    "for entry in pe.DIRECTORY_ENTRY_IMPORT:\n",
    "    NumberOfFunctions += len(entry.imports)\n",
    "NumberOfFunctions"
   ]
  },
  {
   "cell_type": "code",
   "execution_count": 130,
   "metadata": {},
   "outputs": [
    {
     "ename": "NameError",
     "evalue": "name 'python' is not defined",
     "output_type": "error",
     "traceback": [
      "\u001b[1;31m---------------------------------------------------------------------------\u001b[0m",
      "\u001b[1;31mNameError\u001b[0m                                 Traceback (most recent call last)",
      "\u001b[1;32m<ipython-input-130-a4637bbefc43>\u001b[0m in \u001b[0;36m<module>\u001b[1;34m\u001b[0m\n\u001b[1;32m----> 1\u001b[1;33m \u001b[0mpython\u001b[0m \u001b[1;33m-\u001b[0m\u001b[1;33m-\u001b[0m\u001b[0mversion\u001b[0m\u001b[1;33m\u001b[0m\u001b[1;33m\u001b[0m\u001b[0m\n\u001b[0m",
      "\u001b[1;31mNameError\u001b[0m: name 'python' is not defined"
     ]
    }
   ],
   "source": [
    "python --version"
   ]
  },
  {
   "cell_type": "code",
   "execution_count": 110,
   "metadata": {
    "scrolled": true
   },
   "outputs": [
    {
     "ename": "AttributeError",
     "evalue": "'list' object has no attribute 'struct'",
     "output_type": "error",
     "traceback": [
      "\u001b[1;31m---------------------------------------------------------------------------\u001b[0m",
      "\u001b[1;31mAttributeError\u001b[0m                            Traceback (most recent call last)",
      "\u001b[1;32m<ipython-input-110-2ee3d025408a>\u001b[0m in \u001b[0;36m<module>\u001b[1;34m\u001b[0m\n\u001b[1;32m----> 1\u001b[1;33m \u001b[0mpe\u001b[0m\u001b[1;33m.\u001b[0m\u001b[0mDIRECTORY_ENTRY_IMPORT\u001b[0m\u001b[1;33m.\u001b[0m\u001b[0mstruct\u001b[0m\u001b[1;33m.\u001b[0m\u001b[0mNumberOfFunctions\u001b[0m\u001b[1;33m\u001b[0m\u001b[1;33m\u001b[0m\u001b[0m\n\u001b[0m",
      "\u001b[1;31mAttributeError\u001b[0m: 'list' object has no attribute 'struct'"
     ]
    }
   ],
   "source": [
    "pe.DIRECTORY_ENTRY_IMPOR"
   ]
  },
  {
   "cell_type": "code",
   "execution_count": 98,
   "metadata": {},
   "outputs": [],
   "source": [
    "if pe.OPTIONAL_HEADER.DATA_DIRECTORY:\n",
    "    print(2)"
   ]
  },
  {
   "cell_type": "code",
   "execution_count": 99,
   "metadata": {},
   "outputs": [
    {
     "name": "stdout",
     "output_type": "stream",
     "text": [
      "[]\n"
     ]
    }
   ],
   "source": [
    "print(pe.OPTIONAL_HEADER.DATA_DIRECTORY)"
   ]
  },
  {
   "cell_type": "code",
   "execution_count": 80,
   "metadata": {},
   "outputs": [
    {
     "name": "stdout",
     "output_type": "stream",
     "text": [
      "[IMAGE_DIRECTORY_ENTRY_EXPORT]\n",
      "0x140      0x0   VirtualAddress:                0x75A34   \n",
      "0x144      0x4   Size:                          0xA4      \n"
     ]
    }
   ],
   "source": [
    "print(pe.OPTIONAL_HEADER.DATA_DIRECTORY[0])"
   ]
  },
  {
   "cell_type": "code",
   "execution_count": 90,
   "metadata": {},
   "outputs": [
    {
     "name": "stdout",
     "output_type": "stream",
     "text": [
      "4\n",
      "[<pefile.ImportDescData object at 0x0000000009F00B48>, <pefile.ImportDescData object at 0x0000000009FE5548>]\n"
     ]
    }
   ],
   "source": [
    "print(pe.DIRECTORY_ENTRY_EXPORT.struct.NumberOfFunctions)\n",
    "print(pe.DIRECTORY_ENTRY_IMPORT)"
   ]
  },
  {
   "cell_type": "code",
   "execution_count": 85,
   "metadata": {},
   "outputs": [
    {
     "ename": "TypeError",
     "evalue": "'ExportDirData' object is not iterable",
     "output_type": "error",
     "traceback": [
      "\u001b[1;31m---------------------------------------------------------------------------\u001b[0m",
      "\u001b[1;31mTypeError\u001b[0m                                 Traceback (most recent call last)",
      "\u001b[1;32m<ipython-input-85-63dd4c65ffad>\u001b[0m in \u001b[0;36m<module>\u001b[1;34m\u001b[0m\n\u001b[1;32m----> 1\u001b[1;33m \u001b[1;32mfor\u001b[0m \u001b[0mentry\u001b[0m \u001b[1;32min\u001b[0m \u001b[0mpe\u001b[0m\u001b[1;33m.\u001b[0m\u001b[0mDIRECTORY_ENTRY_EXPORT\u001b[0m\u001b[1;33m:\u001b[0m\u001b[1;33m\u001b[0m\u001b[1;33m\u001b[0m\u001b[0m\n\u001b[0m\u001b[0;32m      2\u001b[0m     \u001b[0mprint\u001b[0m\u001b[1;33m(\u001b[0m\u001b[0mentry\u001b[0m\u001b[1;33m.\u001b[0m\u001b[0mdll\u001b[0m\u001b[1;33m)\u001b[0m\u001b[1;33m\u001b[0m\u001b[1;33m\u001b[0m\u001b[0m\n\u001b[0;32m      3\u001b[0m     \u001b[1;32mfor\u001b[0m \u001b[0mfunction\u001b[0m \u001b[1;32min\u001b[0m \u001b[0mentry\u001b[0m\u001b[1;33m.\u001b[0m\u001b[0mimports\u001b[0m\u001b[1;33m:\u001b[0m\u001b[1;33m\u001b[0m\u001b[1;33m\u001b[0m\u001b[0m\n\u001b[0;32m      4\u001b[0m         \u001b[0mprint\u001b[0m\u001b[1;33m(\u001b[0m\u001b[1;34m'\\t'\u001b[0m\u001b[1;33m,\u001b[0m \u001b[0mfunction\u001b[0m\u001b[1;33m.\u001b[0m\u001b[0mname\u001b[0m\u001b[1;33m)\u001b[0m\u001b[1;33m\u001b[0m\u001b[1;33m\u001b[0m\u001b[0m\n",
      "\u001b[1;31mTypeError\u001b[0m: 'ExportDirData' object is not iterable"
     ]
    }
   ],
   "source": [
    "for entry in pe.DIRECTORY_ENTRY_EXPORT:\n",
    "    print(entry.dll)\n",
    "    for function in entry.imports:\n",
    "        print('\\t', function.name)"
   ]
  },
  {
   "cell_type": "code",
   "execution_count": 68,
   "metadata": {},
   "outputs": [
    {
     "name": "stdout",
     "output_type": "stream",
     "text": [
      "b'UPX0\\x00\\x00\\x00\\x00' 0x1000 0x61000 0\n",
      "b'UPX1\\x00\\x00\\x00\\x00' 0x62000 0x13000 77312\n",
      "b'.rsrc\\x00\\x00\\x00' 0x75000 0x1000 3072\n"
     ]
    }
   ],
   "source": [
    "for section in pe.sections:\n",
    "    print(section.Name, hex(section.VirtualAddress), hex(section.Misc_VirtualSize), section.SizeOfRawData)"
   ]
  },
  {
   "cell_type": "code",
   "execution_count": 71,
   "metadata": {},
   "outputs": [
    {
     "data": {
      "text/plain": [
       "16"
      ]
     },
     "execution_count": 71,
     "metadata": {},
     "output_type": "execute_result"
    }
   ],
   "source": [
    "len(pe.OPTIONAL_HEADER.DATA_DIRECTORY)"
   ]
  },
  {
   "cell_type": "code",
   "execution_count": 69,
   "metadata": {},
   "outputs": [
    {
     "data": {
      "text/plain": [
       "3"
      ]
     },
     "execution_count": 69,
     "metadata": {},
     "output_type": "execute_result"
    }
   ],
   "source": [
    "len(pe.sections)"
   ]
  },
  {
   "cell_type": "code",
   "execution_count": 36,
   "metadata": {},
   "outputs": [
    {
     "name": "stdout",
     "output_type": "stream",
     "text": [
      "<pefile.BaseRelocationData object at 0x000000000AA3DB08>\n"
     ]
    }
   ],
   "source": [
    "for i in pe.DIRECTORY_ENTRY_BASERELOC:\n",
    "    print(i)"
   ]
  },
  {
   "cell_type": "code",
   "execution_count": 50,
   "metadata": {},
   "outputs": [
    {
     "name": "stdout",
     "output_type": "stream",
     "text": [
      "5\n"
     ]
    }
   ],
   "source": [
    "reloc = pefile.DIRECTORY_ENTRY[\"IMAGE_DIRECTORY_ENTRY_BASERELOC\"]\n",
    "print(reloc)"
   ]
  },
  {
   "cell_type": "code",
   "execution_count": 48,
   "metadata": {},
   "outputs": [
    {
     "data": {
      "text/plain": [
       "16"
      ]
     },
     "execution_count": 48,
     "metadata": {},
     "output_type": "execute_result"
    }
   ],
   "source": [
    "len(pe.OPTIONAL_HEADER.DATA_DIRECTORY)"
   ]
  },
  {
   "cell_type": "code",
   "execution_count": 57,
   "metadata": {},
   "outputs": [
    {
     "data": {
      "text/plain": [
       "<Structure: [IMAGE_DIRECTORY_ENTRY_BASERELOC] 0x160 0x0 VirtualAddress: 0x0 0x164 0x4 Size: 0x0>"
      ]
     },
     "execution_count": 57,
     "metadata": {},
     "output_type": "execute_result"
    }
   ],
   "source": [
    "pe.OPTIONAL_HEADER.DATA_DIRECTORY[reloc]"
   ]
  },
  {
   "cell_type": "code",
   "execution_count": 63,
   "metadata": {},
   "outputs": [
    {
     "name": "stdout",
     "output_type": "stream",
     "text": [
      "b'.text\\x00\\x00\\x00' 0x1000 0x6674 26625\n"
     ]
    }
   ],
   "source": [
    "for section in pe.sections:\n",
    "      print(section.Name, hex(section.VirtualAddress), hex(section.Misc_VirtualSize), section.SizeOfRawData)"
   ]
  },
  {
   "cell_type": "code",
   "execution_count": 59,
   "metadata": {},
   "outputs": [
    {
     "name": "stdout",
     "output_type": "stream",
     "text": [
      "b'KERNEL32.dll'\n",
      "\t b'GetProcAddress'\n",
      "\t b'GetModuleHandleA'\n",
      "\t b'ExitProcess'\n",
      "\t b'GetStartupInfoA'\n",
      "\t b'GetCommandLineA'\n",
      "\t b'HeapAlloc'\n",
      "\t b'GetProcessHeap'\n"
     ]
    }
   ],
   "source": [
    "for entry in pe.DIRECTORY_ENTRY_IMPORT:\n",
    "    print(entry.dll)\n",
    "    for function in entry.imports:\n",
    "        print('\\t', function.name)"
   ]
  },
  {
   "cell_type": "code",
   "execution_count": 61,
   "metadata": {},
   "outputs": [
    {
     "ename": "AttributeError",
     "evalue": "'PE' object has no attribute 'DIRECTORY_ENTRY_BASERELOC'",
     "output_type": "error",
     "traceback": [
      "\u001b[1;31m---------------------------------------------------------------------------\u001b[0m",
      "\u001b[1;31mAttributeError\u001b[0m                            Traceback (most recent call last)",
      "\u001b[1;32m<ipython-input-61-c544308bc81d>\u001b[0m in \u001b[0;36m<module>\u001b[1;34m\u001b[0m\n\u001b[1;32m----> 1\u001b[1;33m \u001b[0mpe\u001b[0m\u001b[1;33m.\u001b[0m\u001b[0mDIRECTORY_ENTRY_BASERELOC\u001b[0m\u001b[1;33m\u001b[0m\u001b[1;33m\u001b[0m\u001b[0m\n\u001b[0m\u001b[0;32m      2\u001b[0m \u001b[1;32mfor\u001b[0m \u001b[0mbase_reloc\u001b[0m \u001b[1;32min\u001b[0m \u001b[0mpe\u001b[0m\u001b[1;33m.\u001b[0m\u001b[0mDIRECTORY_ENTRY_BASERELOC\u001b[0m\u001b[1;33m:\u001b[0m\u001b[1;33m\u001b[0m\u001b[1;33m\u001b[0m\u001b[0m\n\u001b[0;32m      3\u001b[0m     \u001b[1;32mfor\u001b[0m \u001b[0mreloc\u001b[0m \u001b[1;32min\u001b[0m \u001b[0mbase_reloc\u001b[0m\u001b[1;33m.\u001b[0m\u001b[0mentries\u001b[0m\u001b[1;33m:\u001b[0m\u001b[1;33m\u001b[0m\u001b[1;33m\u001b[0m\u001b[0m\n\u001b[0;32m      4\u001b[0m         \u001b[0mprint\u001b[0m\u001b[1;33m(\u001b[0m\u001b[0mhex\u001b[0m\u001b[1;33m(\u001b[0m\u001b[0mreloc\u001b[0m\u001b[1;33m.\u001b[0m\u001b[0mrva\u001b[0m\u001b[1;33m)\u001b[0m\u001b[1;33m,\u001b[0m \u001b[0mhex\u001b[0m\u001b[1;33m(\u001b[0m\u001b[0mreloc\u001b[0m\u001b[1;33m.\u001b[0m\u001b[0mtype\u001b[0m\u001b[1;33m)\u001b[0m\u001b[1;33m)\u001b[0m\u001b[1;33m\u001b[0m\u001b[1;33m\u001b[0m\u001b[0m\n",
      "\u001b[1;31mAttributeError\u001b[0m: 'PE' object has no attribute 'DIRECTORY_ENTRY_BASERELOC'"
     ]
    }
   ],
   "source": [
    "\n",
    "for base_reloc in pe.DIRECTORY_ENTRY_BASERELOC:\n",
    "    for reloc in base_reloc.entries:\n",
    "        print(hex(reloc.rva), hex(reloc.type))"
   ]
  },
  {
   "cell_type": "code",
   "execution_count": 67,
   "metadata": {},
   "outputs": [
    {
     "data": {
      "text/plain": [
       "[<pefile.BaseRelocationData at 0x999a288>]"
      ]
     },
     "execution_count": 67,
     "metadata": {},
     "output_type": "execute_result"
    }
   ],
   "source": [
    "pe.DIRECTORY_ENTRY_BASERELOC"
   ]
  },
  {
   "cell_type": "code",
   "execution_count": 15,
   "metadata": {},
   "outputs": [
    {
     "name": "stdout",
     "output_type": "stream",
     "text": [
      "<class 'pefile.PE'>\n"
     ]
    }
   ],
   "source": [
    "print(type(pe))"
   ]
  },
  {
   "cell_type": "code",
   "execution_count": 17,
   "metadata": {
    "scrolled": true
   },
   "outputs": [
    {
     "name": "stdout",
     "output_type": "stream",
     "text": [
      "['__IMAGE_BASE_RELOCATION_ENTRY_format__', '__IMAGE_BASE_RELOCATION_format__', '__IMAGE_BOUND_FORWARDER_REF_format__', '__IMAGE_BOUND_IMPORT_DESCRIPTOR_format__', '__IMAGE_DATA_DIRECTORY_format__', '__IMAGE_DEBUG_DIRECTORY_format__', '__IMAGE_DELAY_IMPORT_DESCRIPTOR_format__', '__IMAGE_DOS_HEADER_format__', '__IMAGE_EXPORT_DIRECTORY_format__', '__IMAGE_FILE_HEADER_format__', '__IMAGE_IMPORT_DESCRIPTOR_format__', '__IMAGE_LOAD_CONFIG_DIRECTORY64_format__', '__IMAGE_LOAD_CONFIG_DIRECTORY_format__', '__IMAGE_NT_HEADERS_format__', '__IMAGE_OPTIONAL_HEADER64_format__', '__IMAGE_OPTIONAL_HEADER_format__', '__IMAGE_RESOURCE_DATA_ENTRY_format__', '__IMAGE_RESOURCE_DIRECTORY_ENTRY_format__', '__IMAGE_RESOURCE_DIRECTORY_format__', '__IMAGE_SECTION_HEADER_format__', '__IMAGE_THUNK_DATA64_format__', '__IMAGE_THUNK_DATA_format__', '__IMAGE_TLS_DIRECTORY64_format__', '__IMAGE_TLS_DIRECTORY_format__', '__StringFileInfo_format__', '__StringTable_format__', '__String_format__', '__VS_FIXEDFILEINFO_format__', '__VS_VERSIONINFO_format__', '__Var_format__', '__class__', '__delattr__', '__dict__', '__dir__', '__doc__', '__eq__', '__format__', '__ge__', '__getattribute__', '__gt__', '__hash__', '__init__', '__init_subclass__', '__le__', '__lt__', '__module__', '__ne__', '__new__', '__parse__', '__reduce__', '__reduce_ex__', '__repr__', '__setattr__', '__sizeof__', '__str__', '__subclasshook__', '__unpack_data__', '__weakref__', 'adjust_FileAlignment', 'adjust_SectionAlignment', 'close', 'dump_dict', 'dump_info', 'dword_align', 'full_load', 'generate_checksum', 'get_bytes_from_data', 'get_data', 'get_data_from_dword', 'get_data_from_qword', 'get_data_from_word', 'get_dword_at_rva', 'get_dword_from_data', 'get_dword_from_offset', 'get_imphash', 'get_import_table', 'get_memory_mapped_image', 'get_offset_from_rva', 'get_overlay', 'get_overlay_data_start_offset', 'get_physical_by_rva', 'get_qword_at_rva', 'get_qword_from_data', 'get_qword_from_offset', 'get_resources_strings', 'get_rva_from_offset', 'get_section_by_offset', 'get_section_by_rva', 'get_string_at_rva', 'get_string_from_data', 'get_string_u_at_rva', 'get_warnings', 'get_word_at_rva', 'get_word_from_data', 'get_word_from_offset', 'has_relocs', 'is_dll', 'is_driver', 'is_exe', 'merge_modified_section_data', 'parse_data_directories', 'parse_debug_directory', 'parse_delay_import_directory', 'parse_directory_bound_imports', 'parse_directory_load_config', 'parse_directory_tls', 'parse_export_directory', 'parse_import_directory', 'parse_imports', 'parse_relocations', 'parse_relocations_directory', 'parse_resource_data_entry', 'parse_resource_entry', 'parse_resources_directory', 'parse_rich_header', 'parse_sections', 'parse_version_information', 'print_info', 'relocate_image', 'set_bytes_at_offset', 'set_bytes_at_rva', 'set_dword_at_offset', 'set_dword_at_rva', 'set_qword_at_offset', 'set_qword_at_rva', 'set_word_at_offset', 'set_word_at_rva', 'show_warnings', 'trim', 'verify_checksum', 'write']\n",
      "b'KERNEL32.DLL'\n",
      "b'GetLocalTime'\n",
      "b'ExitThread'\n",
      "b'CloseHandle'\n",
      "b'WriteFile'\n",
      "b'CreateFileA'\n",
      "b'ExitProcess'\n",
      "b'CreateProcessA'\n",
      "b'GetTickCount'\n",
      "b'GetModuleFileNameA'\n",
      "b'GetSystemDirectoryA'\n",
      "b'Sleep'\n",
      "b'GetTimeFormatA'\n",
      "b'GetDateFormatA'\n",
      "b'GetLastError'\n",
      "b'CreateThread'\n",
      "b'GetFileSize'\n",
      "b'GetFileAttributesA'\n",
      "b'FindClose'\n",
      "b'FileTimeToSystemTime'\n",
      "b'FileTimeToLocalFileTime'\n",
      "b'FindNextFileA'\n",
      "b'FindFirstFileA'\n",
      "b'ReadFile'\n",
      "b'SetFilePointer'\n",
      "b'WriteConsoleA'\n",
      "b'GetStdHandle'\n",
      "b'LoadLibraryA'\n",
      "b'GetProcAddress'\n",
      "b'GetModuleHandleA'\n",
      "b'FormatMessageA'\n",
      "b'GlobalUnlock'\n",
      "b'GlobalLock'\n",
      "b'UnmapViewOfFile'\n",
      "b'MapViewOfFile'\n",
      "b'CreateFileMappingA'\n",
      "b'SetFileTime'\n",
      "b'GetFileTime'\n",
      "b'ExpandEnvironmentStringsA'\n",
      "b'SetFileAttributesA'\n",
      "b'GetTempPathA'\n",
      "b'GetCurrentProcess'\n",
      "b'TerminateProcess'\n",
      "b'OpenProcess'\n",
      "b'GetComputerNameA'\n",
      "b'GetLocaleInfoA'\n",
      "b'GetVersionExA'\n",
      "b'TerminateThread'\n",
      "b'FlushFileBuffers'\n",
      "b'SetStdHandle'\n",
      "b'IsBadWritePtr'\n",
      "b'IsBadReadPtr'\n",
      "b'HeapValidate'\n",
      "b'GetStartupInfoA'\n",
      "b'GetCommandLineA'\n",
      "b'GetVersion'\n",
      "b'DebugBreak'\n",
      "b'InterlockedDecrement'\n",
      "b'OutputDebugStringA'\n",
      "b'InterlockedIncrement'\n",
      "b'HeapAlloc'\n",
      "b'HeapReAlloc'\n",
      "b'HeapFree'\n",
      "b'HeapDestroy'\n",
      "b'HeapCreate'\n",
      "b'VirtualFree'\n",
      "b'VirtualAlloc'\n",
      "b'WideCharToMultiByte'\n",
      "b'MultiByteToWideChar'\n",
      "b'LCMapStringA'\n",
      "b'LCMapStringW'\n",
      "b'GetCPInfo'\n",
      "b'GetACP'\n",
      "b'GetOEMCP'\n",
      "b'UnhandledExceptionFilter'\n",
      "b'FreeEnvironmentStringsA'\n",
      "b'FreeEnvironmentStringsW'\n",
      "b'GetEnvironmentStrings'\n",
      "b'GetEnvironmentStringsW'\n",
      "b'SetHandleCount'\n",
      "b'GetFileType'\n",
      "b'RtlUnwind'\n",
      "b'SetConsoleCtrlHandler'\n",
      "b'GetStringTypeA'\n",
      "b'GetStringTypeW'\n",
      "b'SetEndOfFile'\n",
      "\n",
      "b'USER32.dll'\n",
      "b'MessageBoxA'\n",
      "\n"
     ]
    }
   ],
   "source": [
    "print(dir(pefile.PE))\n",
    "#获取导入表信息\n",
    "for item in pe.DIRECTORY_ENTRY_IMPORT:\n",
    "    print(item.dll)\n",
    "    for con in item.imports:\n",
    "        print(con.name)\n",
    "    print(\"\") #换行"
   ]
  },
  {
   "cell_type": "code",
   "execution_count": 18,
   "metadata": {
    "scrolled": true
   },
   "outputs": [
    {
     "name": "stdout",
     "output_type": "stream",
     "text": [
      "[IMAGE_DOS_HEADER]\n",
      "0x0        0x0   e_magic:                       0x5A4D    \n",
      "0x2        0x2   e_cblp:                        0x90      \n",
      "0x4        0x4   e_cp:                          0x3       \n",
      "0x6        0x6   e_crlc:                        0x0       \n",
      "0x8        0x8   e_cparhdr:                     0x4       \n",
      "0xA        0xA   e_minalloc:                    0x0       \n",
      "0xC        0xC   e_maxalloc:                    0xFFFF    \n",
      "0xE        0xE   e_ss:                          0x0       \n",
      "0x10       0x10  e_sp:                          0xB8      \n",
      "0x12       0x12  e_csum:                        0x0       \n",
      "0x14       0x14  e_ip:                          0x0       \n",
      "0x16       0x16  e_cs:                          0x0       \n",
      "0x18       0x18  e_lfarlc:                      0x40      \n",
      "0x1A       0x1A  e_ovno:                        0x0       \n",
      "0x1C       0x1C  e_res:                         \n",
      "0x24       0x24  e_oemid:                       0x0       \n",
      "0x26       0x26  e_oeminfo:                     0x0       \n",
      "0x28       0x28  e_res2:                        \n",
      "0x3C       0x3C  e_lfanew:                      0xE0       \n",
      "\n",
      "[IMAGE_NT_HEADERS]\n",
      "0xE0       0x0   Signature:                     0x4550     \n",
      "\n",
      "[IMAGE_FILE_HEADER]\n",
      "0xE4       0x0   Machine:                       0x14C     \n",
      "0xE6       0x2   NumberOfSections:              0x5       \n",
      "0xE8       0x4   TimeDateStamp:                 0x4F79D506 [Mon Apr  2 16:34:14 2012 UTC]\n",
      "0xEC       0x8   PointerToSymbolTable:          0x0       \n",
      "0xF0       0xC   NumberOfSymbols:               0x0       \n",
      "0xF4       0x10  SizeOfOptionalHeader:          0xE0      \n",
      "0xF6       0x12  Characteristics:               0x10F      \n",
      "\n",
      "[IMAGE_OPTIONAL_HEADER]\n",
      "0xF8       0x0   Magic:                         0x10B     \n",
      "0xFA       0x2   MajorLinkerVersion:            0x6       \n",
      "0xFB       0x3   MinorLinkerVersion:            0x0       \n",
      "0xFC       0x4   SizeOfCode:                    0x32A00   \n",
      "0x100      0x8   SizeOfInitializedData:         0x64200   \n",
      "0x104      0xC   SizeOfUninitializedData:       0x0       \n",
      "0x108      0x10  AddressOfEntryPoint:           0xCC00FFEE\n",
      "0x10C      0x14  BaseOfCode:                    0x1000    \n",
      "0x110      0x18  BaseOfData:                    0x1000    \n",
      "0x114      0x1C  ImageBase:                     0x400000  \n",
      "0x118      0x20  SectionAlignment:              0x1000    \n",
      "0x11C      0x24  FileAlignment:                 0x200     \n",
      "0x120      0x28  MajorOperatingSystemVersion:   0x4       \n",
      "0x122      0x2A  MinorOperatingSystemVersion:   0x0       \n",
      "0x124      0x2C  MajorImageVersion:             0x0       \n",
      "0x126      0x2E  MinorImageVersion:             0x0       \n",
      "0x128      0x30  MajorSubsystemVersion:         0x4       \n",
      "0x12A      0x32  MinorSubsystemVersion:         0x0       \n",
      "0x12C      0x34  Reserved1:                     0x0       \n",
      "0x130      0x38  SizeOfImage:                   0x9A000   \n",
      "0x134      0x3C  SizeOfHeaders:                 0x1000    \n",
      "0x138      0x40  CheckSum:                      0x0       \n",
      "0x13C      0x44  Subsystem:                     0x2       \n",
      "0x13E      0x46  DllCharacteristics:            0x0       \n",
      "0x140      0x48  SizeOfStackReserve:            0x100000  \n",
      "0x144      0x4C  SizeOfStackCommit:             0x1000    \n",
      "0x148      0x50  SizeOfHeapReserve:             0x100000  \n",
      "0x14C      0x54  SizeOfHeapCommit:              0x1000    \n",
      "0x150      0x58  LoaderFlags:                   0x0       \n",
      "0x154      0x5C  NumberOfRvaAndSizes:           0x10       \n",
      "\n"
     ]
    }
   ],
   "source": [
    "#显示DOS_HEADER\n",
    "print(pe.DOS_HEADER,\"\\n\")\n",
    "\n",
    "#显示NT_HEADERS\n",
    "print(pe.NT_HEADERS,\"\\n\")\n",
    "\n",
    "#显示FILE_HEADER\n",
    "print(pe.FILE_HEADER,\"\\n\")\n",
    "\n",
    "#显示OPTIONAL_HEADER\n",
    "print(pe.OPTIONAL_HEADER,\"\\n\")"
   ]
  },
  {
   "cell_type": "code",
   "execution_count": 21,
   "metadata": {},
   "outputs": [
    {
     "name": "stdout",
     "output_type": "stream",
     "text": [
      "<class 'pefile.Structure'>\n",
      "[IMAGE_FILE_HEADER]\n",
      "0xE4       0x0   Machine:                       0x14C     \n",
      "0xE6       0x2   NumberOfSections:              0x5       \n",
      "0xE8       0x4   TimeDateStamp:                 0x4F79D506 [Mon Apr  2 16:34:14 2012 UTC]\n",
      "0xEC       0x8   PointerToSymbolTable:          0x0       \n",
      "0xF0       0xC   NumberOfSymbols:               0x0       \n",
      "0xF4       0x10  SizeOfOptionalHeader:          0xE0      \n",
      "0xF6       0x12  Characteristics:               0x10F     \n",
      "Mon Apr  2 16:34:14 2012 UTC\n"
     ]
    },
    {
     "name": "stderr",
     "output_type": "stream",
     "text": [
      "C:\\Users\\Administrator\\Anaconda3\\lib\\site-packages\\ipykernel_launcher.py:7: FutureWarning: Possible nested set at position 1\n",
      "  import sys\n"
     ]
    }
   ],
   "source": [
    "fh = pe.FILE_HEADER\n",
    "print(type(fh)) #<class 'pefile.Structure'>\n",
    "print(str(fh))\n",
    "\n",
    "import re\n",
    "#经过正则表达式获取时间\n",
    "p = re.compile(r'[[](.*?)[]]', re.I|re.S|re.M)   #最小匹配\n",
    "res = re.findall(p, str(fh))\n",
    "print(res[1])                                    #第一个值是IMAGE_FILE_HEADER"
   ]
  },
  {
   "cell_type": "code",
   "execution_count": 22,
   "metadata": {},
   "outputs": [
    {
     "name": "stdout",
     "output_type": "stream",
     "text": [
      "1333384454\n"
     ]
    }
   ],
   "source": [
    "print(pe.FILE_HEADER.TimeDateStamp)"
   ]
  },
  {
   "cell_type": "code",
   "execution_count": 30,
   "metadata": {},
   "outputs": [
    {
     "name": "stdout",
     "output_type": "stream",
     "text": [
      "Tue Apr  3 00:34:14 2012\n",
      "2012-04-03 00:34:14\n",
      "2012-04-02 16:34:14\n"
     ]
    }
   ],
   "source": [
    "import time #引入time模块\n",
    "\n",
    "localtime = time.localtime(1333384454) #返回时间元组\n",
    "newtime= time.asctime(localtime) #获取格式化时间\n",
    "print(newtime)\n",
    "\n",
    "timeStr=time.strftime(\"%Y-%m-%d %H:%M:%S\", localtime)\n",
    "print(timeStr)\n",
    "\n",
    "import pytz, datetime\n",
    "# 本地时间转换为UTC  传入的本地时间戳 1531411200\n",
    "def local_to_utc(local_ts, utc_format='%Y-%m-%d %H:%M:%S'):\n",
    "    local_tz = pytz.timezone('Asia/Chongqing')    #定义本地时区\n",
    "    local_format = \"%Y-%m-%d %H:%M:%S\"               #定义本地时间format\n",
    "\n",
    "    time_str = time.strftime(local_format, time.localtime(local_ts))    #首先将本地时间戳转化为时间元组，用strftime格式化成字符串\n",
    "    dt = datetime.datetime.strptime(time_str, local_format)             #将字符串用strptime 转为为datetime中 datetime格式\n",
    "    local_dt = local_tz.localize(dt, is_dst=None)                       #给时间添加时区，等价于 dt.replace(tzinfo=pytz.timezone('Asia/Chongqing'))\n",
    "    utc_dt = local_dt.astimezone(pytz.utc)                              #astimezone切换时区\n",
    "    return utc_dt.strftime(utc_format)                                  #返回世界时间格式\n",
    "print(local_to_utc(1333384454))"
   ]
  },
  {
   "cell_type": "code",
   "execution_count": 11,
   "metadata": {
    "scrolled": true
   },
   "outputs": [
    {
     "name": "stdout",
     "output_type": "stream",
     "text": [
      "Dos Header\n",
      "==========\n",
      "Magic:                        5a4d\n",
      "Used Bytes In The LastPage:   90\n",
      "File Size In Pages:           3\n",
      "Number Of Relocation:         0\n",
      "Header Size In Paragraphs:    4\n",
      "Minimum Extra Paragraphs:     0\n",
      "Maximum Extra Paragraphs:     ffff\n",
      "Initial Relative SS:          0\n",
      "Initial SP:                   b8\n",
      "Checksum:                     0\n",
      "Initial IP:                   0\n",
      "Initial Relative CS:          0\n",
      "Address Of Relocation Table:  40\n",
      "Overlay Number:               0\n",
      "OEM id:                       0\n",
      "OEM info:                     0\n",
      "Address Of New Exe Header:    e0\n",
      "\n",
      "Rich Header\n",
      "===========\n",
      "Key: 9c1782a6\n",
      "  - ID: 0xb000 Build ID: 0x1fe8 Count: 19\n",
      "  - ID: 0x1000 Build ID: 0x0000 Count: 86\n",
      "  - ID: 0x1300 Build ID: 0x1f62 Count: 5\n",
      "  - ID: 0xa000 Build ID: 0x1fe8 Count: 90\n",
      "  - ID: 0xe000 Build ID: 0x1c83 Count: 18\n",
      "  - ID: 0xc000 Build ID: 0x1c7b Count: 1\n",
      "  - ID: 0x0000 Build ID: 0x0000 Count: 0\n",
      "\n",
      "\n",
      "Header\n",
      "======\n",
      "Signature:                    50 45 0 0 \n",
      "Machine:                      I386\n",
      "Number Of Sections:           5\n",
      "Pointer To Symbol Table:      0\n",
      "Number Of Symbols:            0\n",
      "Size Of Optional Header:      e0\n",
      "Characteristics:              RELOCS_STRIPPED - EXECUTABLE_IMAGE - LINE_NUMS_STRIPPED - LOCAL_SYMS_STRIPPED - CHARA_32BIT_MACHINE\n",
      "Time Date Stamp:              4f79d506\n",
      "\n",
      "Optional Header\n",
      "===============\n",
      "Magic:                           10b\n",
      "Major Linker Version:            6\n",
      "Minor Linker Version:            0\n",
      "Size Of Code:                    32a00\n",
      "Size Of Initialized Data:        64200\n",
      "Size Of Uninitialized Data:      0\n",
      "Address Of Entry Point:          cc00ffee\n",
      "Base Of Code:                    1000\n",
      "Base Of Data:                    1000\n",
      "Image Base:                      400000\n",
      "Section Alignment:               1000\n",
      "File Alignment:                  200\n",
      "Major Operating System Version:  4\n",
      "Minor Operating System Version:  0\n",
      "Major Image Version:             0\n",
      "Minor Image Version:             0\n",
      "Major Subsystem Version:         4\n",
      "Minor Subsystem Version:         0\n",
      "Win32 Version Value:             0\n",
      "Size Of Image:                   9a000\n",
      "Size Of Headers:                 1000\n",
      "CheckSum:                        0\n",
      "Subsystem:                       WINDOWS_GUI\n",
      "DLL Characteristics:             \n",
      "Size Of Stack Reserve:           100000\n",
      "Size Of Stack Commit:            1000\n",
      "Size Of Heap Reserve:            100000\n",
      "Size Of Heap Commit:             1000\n",
      "Loader Flags:                    0\n",
      "Number Of RVA And Size:          10\n",
      "\n",
      "Data directories\n",
      "================\n",
      "Data directory \"EXPORT_TABLE\"\n",
      "RVA:      0\n",
      "Size:     0\n",
      "\n",
      "Data directory \"IMPORT_TABLE\"\n",
      "RVA:      96000\n",
      "Size:     3c\n",
      "Section:  .idata\n",
      "\n",
      "Data directory \"RESOURCE_TABLE\"\n",
      "RVA:      0\n",
      "Size:     0\n",
      "\n",
      "Data directory \"EXCEPTION_TABLE\"\n",
      "RVA:      0\n",
      "Size:     0\n",
      "\n",
      "Data directory \"CERTIFICATE_TABLE\"\n",
      "RVA:      0\n",
      "Size:     0\n",
      "\n",
      "Data directory \"BASE_RELOCATION_TABLE\"\n",
      "RVA:      0\n",
      "Size:     0\n",
      "\n",
      "Data directory \"DEBUG\"\n",
      "RVA:      0\n",
      "Size:     0\n",
      "\n",
      "Data directory \"ARCHITECTURE\"\n",
      "RVA:      0\n",
      "Size:     0\n",
      "\n",
      "Data directory \"GLOBAL_PTR\"\n",
      "RVA:      0\n",
      "Size:     0\n",
      "\n",
      "Data directory \"TLS_TABLE\"\n",
      "RVA:      0\n",
      "Size:     0\n",
      "\n",
      "Data directory \"LOAD_CONFIG_TABLE\"\n",
      "RVA:      0\n",
      "Size:     0\n",
      "\n",
      "Data directory \"BOUND_IMPORT\"\n",
      "RVA:      0\n",
      "Size:     0\n",
      "\n",
      "Data directory \"IAT\"\n",
      "RVA:      0\n",
      "Size:     0\n",
      "\n",
      "Data directory \"DELAY_IMPORT_DESCRIPTOR\"\n",
      "RVA:      0\n",
      "Size:     0\n",
      "\n",
      "Data directory \"CLR_RUNTIME_HEADER\"\n",
      "RVA:      0\n",
      "Size:     0\n",
      "\n",
      "\n",
      "Sections\n",
      "========\n",
      ".text     32830     1000      32a00     400       0         4.46455   CNT_CODE - MEM_EXECUTE - MEM_READ\n",
      ".rdata    427a      34000     4400      32e00     0         5.24038   CNT_INITIALIZED_DATA - MEM_READ\n",
      ".data     5cff8     39000     2a00      37200     0         2.52828   CNT_INITIALIZED_DATA - MEM_READ - MEM_WRITE\n",
      ".idata    bb0       96000     c00       39c00     0         3.555     CNT_INITIALIZED_DATA - MEM_READ - MEM_WRITE\n",
      ".reloc    211d      97000     2200      3a800     0         -0        CNT_INITIALIZED_DATA - MEM_DISCARDABLE - MEM_READ\n",
      "\n",
      "Imports\n",
      "=======\n",
      "KERNEL32.DLL        0         96230     0         0         \n",
      "\t - GetLocalTime                     9643c               9643c               0                   \n",
      "\n",
      "USER32.dll          0         963f4     0         0         \n",
      "\t - MessageBoxA                      969a6               969a6               0                   \n",
      "\n",
      "\n",
      "Symbols\n",
      "=======\n",
      "\n",
      "\n"
     ]
    }
   ],
   "source": [
    "import lief\n",
    "\n",
    "pe = lief.PE.parse('./ircbot.exe')\n",
    "print(pe)"
   ]
  },
  {
   "cell_type": "code",
   "execution_count": 13,
   "metadata": {},
   "outputs": [
    {
     "name": "stdout",
     "output_type": "stream",
     "text": [
      "630784\n",
      "False\n",
      "0\n",
      "2\n",
      "False\n",
      "False\n",
      "False\n",
      "False\n",
      "0\n"
     ]
    }
   ],
   "source": [
    "print(pe.virtual_size)\t\t\t\t#\n",
    "print(pe.has_debug)\t\t\t\t\t#是否包含debug信息\n",
    "print(len(pe.exported_functions))\t#导出函数的个数\n",
    "print(len(pe.imported_functions))\t#导入函数的个数\n",
    "print(pe.has_relocations)\t\t\t#是否启用了重定向\n",
    "print(pe.has_resources)\t\t\t\t#是否包含资源文件\n",
    "print(pe.has_signature)\t\t\t\t#是否包含信号量\n",
    "print(pe.has_tls)\t\t\t\t\t#是否启用了TLS回调函数\n",
    "print(len(pe.symbols))\t\t\t\t#符号个数\n"
   ]
  },
  {
   "cell_type": "code",
   "execution_count": 2,
   "metadata": {},
   "outputs": [
    {
     "data": {
      "text/html": [
       "<div>\n",
       "<style scoped>\n",
       "    .dataframe tbody tr th:only-of-type {\n",
       "        vertical-align: middle;\n",
       "    }\n",
       "\n",
       "    .dataframe tbody tr th {\n",
       "        vertical-align: top;\n",
       "    }\n",
       "\n",
       "    .dataframe thead th {\n",
       "        text-align: right;\n",
       "    }\n",
       "</style>\n",
       "<table border=\"1\" class=\"dataframe\">\n",
       "  <thead>\n",
       "    <tr style=\"text-align: right;\">\n",
       "      <th></th>\n",
       "      <th>a</th>\n",
       "      <th>b</th>\n",
       "    </tr>\n",
       "  </thead>\n",
       "  <tbody>\n",
       "    <tr>\n",
       "      <td>0</td>\n",
       "      <td>1</td>\n",
       "      <td>2</td>\n",
       "    </tr>\n",
       "    <tr>\n",
       "      <td>1</td>\n",
       "      <td>5</td>\n",
       "      <td>6</td>\n",
       "    </tr>\n",
       "  </tbody>\n",
       "</table>\n",
       "</div>"
      ],
      "text/plain": [
       "   a  b\n",
       "0  1  2\n",
       "1  5  6"
      ]
     },
     "execution_count": 2,
     "metadata": {},
     "output_type": "execute_result"
    }
   ],
   "source": [
    "import pandas as pd\n",
    "\n",
    "data = [{'a': 1, 'b': 2}, {'a': 5, 'b': 6}]\n",
    "df = pd.DataFrame(data)  # 指定行索引\n",
    "df"
   ]
  },
  {
   "cell_type": "code",
   "execution_count": null,
   "metadata": {},
   "outputs": [],
   "source": []
  }
 ],
 "metadata": {
  "kernelspec": {
   "display_name": "Python 3",
   "language": "python",
   "name": "python3"
  },
  "language_info": {
   "codemirror_mode": {
    "name": "ipython",
    "version": 3
   },
   "file_extension": ".py",
   "mimetype": "text/x-python",
   "name": "python",
   "nbconvert_exporter": "python",
   "pygments_lexer": "ipython3",
   "version": "3.7.4"
  }
 },
 "nbformat": 4,
 "nbformat_minor": 2
}

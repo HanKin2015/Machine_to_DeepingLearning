{
 "cells": [
  {
   "cell_type": "code",
   "execution_count": 24,
   "metadata": {
    "scrolled": true
   },
   "outputs": [
    {
     "name": "stdout",
     "output_type": "stream",
     "text": [
      "1454623587\n"
     ]
    }
   ],
   "source": [
    "import pefile, lief\n",
    "\n",
    "pe = pefile.PE(r'C:\\Users\\Administrator\\AppData\\Local\\口袋助理\\files\\procexp（中文）64.exe')\n",
    "#print(pe)\n",
    "print(pe.FILE_HEADER.TimeDateStamp)\n",
    "#pe = lief.PE.parse('./AIFirst_data\\\\train\\\\black\\\\Backdoor.Win32.Httpbot.and_87af.exe')\n",
    "#pe.has_signature"
   ]
  },
  {
   "cell_type": "code",
   "execution_count": 43,
   "metadata": {},
   "outputs": [
    {
     "data": {
      "text/plain": [
       "'Fri Feb 05 06:06:27 2016'"
      ]
     },
     "execution_count": 43,
     "metadata": {},
     "output_type": "execute_result"
    }
   ],
   "source": [
    "import time\n",
    "res_time = time.strftime('%a %b %d %H:%M:%S %Y', time.localtime(1454623587))\n",
    "res_time"
   ]
  },
  {
   "cell_type": "code",
   "execution_count": 41,
   "metadata": {},
   "outputs": [
    {
     "data": {
      "text/plain": [
       "<Structure: [IMAGE_FILE_HEADER] 0x10C 0x0 Machine: 0x8664 0x10E 0x2 NumberOfSections: 0x6 0x110 0x4 TimeDateStamp: 0x56B3CB63 [Thu Feb 4 22:06:27 2016 UTC] 0x114 0x8 PointerToSymbolTable: 0x0 0x118 0xC NumberOfSymbols: 0x0 0x11C 0x10 SizeOfOptionalHeader: 0xF0 0x11E 0x12 Characteristics: 0x22>"
      ]
     },
     "execution_count": 41,
     "metadata": {},
     "output_type": "execute_result"
    }
   ],
   "source": [
    "pe.FILE_HEADER"
   ]
  },
  {
   "cell_type": "code",
   "execution_count": 47,
   "metadata": {
    "scrolled": true
   },
   "outputs": [
    {
     "name": "stdout",
     "output_type": "stream",
     "text": [
      "Fri Jun 10 13:37:19 2022 \n",
      "\n",
      "UTC Time: 2016-02-04 22:06:27\n",
      "China Time: 2016-02-05 06:06:27\n",
      "America Time: 2016-02-04 17:06:27\n",
      "India Time: 2016-02-05 03:06:27\n",
      "Australia Time 2016-02-05 08:06:27\n",
      "Russia Time 2016-02-05 01:06:27\n",
      "England Time 2016-02-04 22:06:27\n",
      "Japan Time 2016-02-04 22:06:27\n",
      "Germany Time 2016-02-04 23:06:27\n",
      "France Time 2016-02-04 23:06:27\n",
      "Canada Time: 2016-02-04 17:06:27\n",
      "Vietnam Time: 2016-02-05 05:06:27\n"
     ]
    }
   ],
   "source": [
    "import datetime\n",
    "res_time = 'Thu Feb 4 22:06:27 2016'\n",
    "\n",
    "#获取当前时间\n",
    "t = time.ctime()\n",
    "print(t,\"\\n\")                                    # Thu Jul 16 20:42:18 2020\n",
    "utc_time = datetime.datetime.strptime(res_time, '%a %b %d %H:%M:%S %Y')\n",
    "print(\"UTC Time:\", utc_time)\n",
    "#----------------------------------第三步 全球时区转换-------------------------------\n",
    "#http://zh.thetimenow.com/india\n",
    "#UTC时间比北京时间晚八个小时 故用timedelta方法加上八个小时\n",
    "china_time = datetime.datetime.strptime(res_time, '%a %b %d %H:%M:%S %Y') + datetime.timedelta(hours=8)\n",
    "print(\"China Time:\",china_time)\n",
    "\n",
    "#美国 UTC-5\n",
    "america_time = datetime.datetime.strptime(res_time, '%a %b %d %H:%M:%S %Y') - datetime.timedelta(hours=5)\n",
    "print(\"America Time:\",america_time)\n",
    "\n",
    "#印度 UTC+5\n",
    "india_time = datetime.datetime.strptime(res_time, '%a %b %d %H:%M:%S %Y') + datetime.timedelta(hours=5)\n",
    "print(\"India Time:\",india_time)\n",
    "\n",
    "#澳大利亚 UTC+10\n",
    "australia_time = datetime.datetime.strptime(res_time, '%a %b %d %H:%M:%S %Y') + datetime.timedelta(hours=10)\n",
    "print(\"Australia Time\",australia_time)\n",
    "\n",
    "#俄罗斯 UTC+3\n",
    "russia_time = datetime.datetime.strptime(res_time, '%a %b %d %H:%M:%S %Y') + datetime.timedelta(hours=3)\n",
    "print(\"Russia Time\",russia_time)\n",
    "\n",
    "#英国 UTC+0\n",
    "england_time = datetime.datetime.strptime(res_time, '%a %b %d %H:%M:%S %Y')\n",
    "print(\"England Time\",england_time)\n",
    "\n",
    "#日本 UTC+9\n",
    "japan_time = datetime.datetime.strptime(res_time, '%a %b %d %H:%M:%S %Y') + datetime.timedelta(hours=9)\n",
    "print(\"Japan Time\",england_time)\n",
    "\n",
    "#德国 UTC+1\n",
    "germany_time = datetime.datetime.strptime(res_time, '%a %b %d %H:%M:%S %Y') + datetime.timedelta(hours=1)\n",
    "print(\"Germany Time\",germany_time)\n",
    "\n",
    "#法国 UTC+1\n",
    "france_time = datetime.datetime.strptime(res_time, '%a %b %d %H:%M:%S %Y') + datetime.timedelta(hours=1)\n",
    "print(\"France Time\",france_time)\n",
    "\n",
    "#加拿大 UTC-5\n",
    "canada_time = datetime.datetime.strptime(res_time, '%a %b %d %H:%M:%S %Y') - datetime.timedelta(hours=5)\n",
    "print(\"Canada Time:\",canada_time)\n",
    "\n",
    "#越南 UTC+7 \n",
    "vietnam_time = datetime.datetime.strptime(res_time, '%a %b %d %H:%M:%S %Y') + datetime.timedelta(hours=7)\n",
    "print(\"Vietnam Time:\",vietnam_time)"
   ]
  },
  {
   "cell_type": "code",
   "execution_count": 50,
   "metadata": {},
   "outputs": [
    {
     "data": {
      "text/plain": [
       "b'\\x84\\x99u\\x1c'"
      ]
     },
     "execution_count": 50,
     "metadata": {},
     "output_type": "execute_result"
    }
   ],
   "source": [
    "pe."
   ]
  },
  {
   "cell_type": "code",
   "execution_count": 32,
   "metadata": {},
   "outputs": [
    {
     "name": "stdout",
     "output_type": "stream",
     "text": [
      "1\n",
      "2\n",
      "4\n"
     ]
    }
   ],
   "source": [
    "if hasattr(pe, 'VS_VERSIONINFO'):\n",
    "    print(1)\n",
    "\n",
    "if hasattr(pe, 'DIRECTORY_ENTRY_IMPORT'):\n",
    "    print(2)\n",
    "if hasattr(pe, 'DIRECTORY_ENTRY_EXPORT'):\n",
    "    print(3)\n",
    "else:\n",
    "    print(4)"
   ]
  },
  {
   "cell_type": "code",
   "execution_count": 35,
   "metadata": {},
   "outputs": [
    {
     "data": {
      "text/plain": [
       "[]"
      ]
     },
     "execution_count": 35,
     "metadata": {},
     "output_type": "execute_result"
    }
   ],
   "source": [
    "pe.get_warnings()"
   ]
  },
  {
   "cell_type": "code",
   "execution_count": 37,
   "metadata": {},
   "outputs": [
    {
     "data": {
      "text/plain": [
       "'539feaaec0c8b14e5f3938efb4abea42'"
      ]
     },
     "execution_count": 37,
     "metadata": {},
     "output_type": "execute_result"
    }
   ],
   "source": [
    "# get_imphash()方法提供文件的导入表哈希。\n",
    "pe.get_imphash()"
   ]
  },
  {
   "cell_type": "code",
   "execution_count": 38,
   "metadata": {
    "collapsed": true
   },
   "outputs": [
    {
     "name": "stdout",
     "output_type": "stream",
     "text": [
      "Help on class PE in module pefile:\n",
      "\n",
      "class PE(builtins.object)\n",
      " |  PE(name=None, data=None, fast_load=None)\n",
      " |  \n",
      " |  A Portable Executable representation.\n",
      " |  \n",
      " |  This class provides access to most of the information in a PE file.\n",
      " |  \n",
      " |  It expects to be supplied the name of the file to load or PE data\n",
      " |  to process and an optional argument 'fast_load' (False by default)\n",
      " |  which controls whether to load all the directories information,\n",
      " |  which can be quite time consuming.\n",
      " |  \n",
      " |  pe = pefile.PE('module.dll')\n",
      " |  pe = pefile.PE(name='module.dll')\n",
      " |  \n",
      " |  would load 'module.dll' and process it. If the data is already\n",
      " |  available in a buffer the same can be achieved with:\n",
      " |  \n",
      " |  pe = pefile.PE(data=module_dll_data)\n",
      " |  \n",
      " |  The \"fast_load\" can be set to a default by setting its value in the\n",
      " |  module itself by means, for instance, of a \"pefile.fast_load = True\".\n",
      " |  That will make all the subsequent instances not to load the\n",
      " |  whole PE structure. The \"full_load\" method can be used to parse\n",
      " |  the missing data at a later stage.\n",
      " |  \n",
      " |  Basic headers information will be available in the attributes:\n",
      " |  \n",
      " |  DOS_HEADER\n",
      " |  NT_HEADERS\n",
      " |  FILE_HEADER\n",
      " |  OPTIONAL_HEADER\n",
      " |  \n",
      " |  All of them will contain among their attributes the members of the\n",
      " |  corresponding structures as defined in WINNT.H\n",
      " |  \n",
      " |  The raw data corresponding to the header (from the beginning of the\n",
      " |  file up to the start of the first section) will be available in the\n",
      " |  instance's attribute 'header' as a string.\n",
      " |  \n",
      " |  The sections will be available as a list in the 'sections' attribute.\n",
      " |  Each entry will contain as attributes all the structure's members.\n",
      " |  \n",
      " |  Directory entries will be available as attributes (if they exist):\n",
      " |  (no other entries are processed at this point)\n",
      " |  \n",
      " |  DIRECTORY_ENTRY_IMPORT (list of ImportDescData instances)\n",
      " |  DIRECTORY_ENTRY_EXPORT (ExportDirData instance)\n",
      " |  DIRECTORY_ENTRY_RESOURCE (ResourceDirData instance)\n",
      " |  DIRECTORY_ENTRY_DEBUG (list of DebugData instances)\n",
      " |  DIRECTORY_ENTRY_BASERELOC (list of BaseRelocationData instances)\n",
      " |  DIRECTORY_ENTRY_TLS\n",
      " |  DIRECTORY_ENTRY_BOUND_IMPORT (list of BoundImportData instances)\n",
      " |  \n",
      " |  The following dictionary attributes provide ways of mapping different\n",
      " |  constants. They will accept the numeric value and return the string\n",
      " |  representation and the opposite, feed in the string and get the\n",
      " |  numeric constant:\n",
      " |  \n",
      " |  DIRECTORY_ENTRY\n",
      " |  IMAGE_CHARACTERISTICS\n",
      " |  SECTION_CHARACTERISTICS\n",
      " |  DEBUG_TYPE\n",
      " |  SUBSYSTEM_TYPE\n",
      " |  MACHINE_TYPE\n",
      " |  RELOCATION_TYPE\n",
      " |  RESOURCE_TYPE\n",
      " |  LANG\n",
      " |  SUBLANG\n",
      " |  \n",
      " |  Methods defined here:\n",
      " |  \n",
      " |  __init__(self, name=None, data=None, fast_load=None)\n",
      " |      Initialize self.  See help(type(self)) for accurate signature.\n",
      " |  \n",
      " |  __parse__(self, fname, data, fast_load)\n",
      " |      Parse a Portable Executable file.\n",
      " |      \n",
      " |      Loads a PE file, parsing all its structures and making them available\n",
      " |      through the instance's attributes.\n",
      " |  \n",
      " |  __str__(self)\n",
      " |      Return str(self).\n",
      " |  \n",
      " |  __unpack_data__(self, format, data, file_offset)\n",
      " |      Apply structure format to raw data.\n",
      " |      \n",
      " |      Returns an unpacked structure object if successful, None otherwise.\n",
      " |  \n",
      " |  adjust_FileAlignment(self, val, file_alignment)\n",
      " |      # According to http://corkami.blogspot.com/2010/01/parce-que-la-planche-aura-brule.html\n",
      " |      # if PointerToRawData is less that 0x200 it's rounded to zero. Loading the test file\n",
      " |      # in a debugger it's easy to verify that the PointerToRawData value of 1 is rounded\n",
      " |      # to zero. Hence we reproduce the behavior\n",
      " |      #\n",
      " |      # According to the document:\n",
      " |      # [ Microsoft Portable Executable and Common Object File Format Specification ]\n",
      " |      # \"The alignment factor (in bytes) that is used to align the raw data of sections in\n",
      " |      #  the image file. The value should be a power of 2 between 512 and 64 K, inclusive.\n",
      " |      #  The default is 512. If the SectionAlignment is less than the architecture's page\n",
      " |      #  size, then FileAlignment must match SectionAlignment.\"\n",
      " |      #\n",
      " |      # The following is a hard-coded constant if the Windows loader\n",
      " |  \n",
      " |  adjust_SectionAlignment(self, val, section_alignment, file_alignment)\n",
      " |      # According to the document:\n",
      " |      # [ Microsoft Portable Executable and Common Object File Format Specification ]\n",
      " |      # \"The alignment (in bytes) of sections when they are loaded into memory. It must be\n",
      " |      #  greater than or equal to FileAlignment. The default is the page size for the\n",
      " |      #  architecture.\"\n",
      " |  \n",
      " |  close(self)\n",
      " |  \n",
      " |  dump_dict(self, dump=None)\n",
      " |      Dump all the PE header information into a dictionary.\n",
      " |  \n",
      " |  dump_info(self, dump=None, encoding='ascii')\n",
      " |      Dump all the PE header information into human readable string.\n",
      " |  \n",
      " |  dword_align(self, offset, base)\n",
      " |  \n",
      " |  full_load(self)\n",
      " |      Process the data directories.\n",
      " |      \n",
      " |      This method will load the data directories which might not have\n",
      " |      been loaded if the \"fast_load\" option was used.\n",
      " |  \n",
      " |  generate_checksum(self)\n",
      " |  \n",
      " |  get_bytes_from_data(self, offset, data)\n",
      " |      .\n",
      " |  \n",
      " |  get_data(self, rva=0, length=None)\n",
      " |      Get data regardless of the section where it lies on.\n",
      " |      \n",
      " |      Given a RVA and the size of the chunk to retrieve, this method\n",
      " |      will find the section where the data lies and return the data.\n",
      " |  \n",
      " |  get_data_from_dword(self, dword)\n",
      " |      Return a four byte string representing the double word value. (little endian).\n",
      " |  \n",
      " |  get_data_from_qword(self, word)\n",
      " |      Return a eight byte string representing the quad-word value. (little endian).\n",
      " |  \n",
      " |  get_data_from_word(self, word)\n",
      " |      Return a two byte string representing the word value. (little endian).\n",
      " |  \n",
      " |  get_dword_at_rva(self, rva)\n",
      " |      Return the double word value at the given RVA.\n",
      " |      \n",
      " |      Returns None if the value can't be read, i.e. the RVA can't be mapped\n",
      " |      to a file offset.\n",
      " |  \n",
      " |  get_dword_from_data(self, data, offset)\n",
      " |      Convert four bytes of data to a double word (little endian)\n",
      " |      \n",
      " |      'offset' is assumed to index into a dword array. So setting it to\n",
      " |      N will return a dword out of the data starting at offset N*4.\n",
      " |      \n",
      " |      Returns None if the data can't be turned into a double word.\n",
      " |  \n",
      " |  get_dword_from_offset(self, offset)\n",
      " |      Return the double word value at the given file offset. (little endian)\n",
      " |  \n",
      " |  get_imphash(self)\n",
      " |  \n",
      " |  get_import_table(self, rva, max_length=None)\n",
      " |  \n",
      " |  get_memory_mapped_image(self, max_virtual_address=268435456, ImageBase=None)\n",
      " |      Returns the data corresponding to the memory layout of the PE file.\n",
      " |      \n",
      " |      The data includes the PE header and the sections loaded at offsets\n",
      " |      corresponding to their relative virtual addresses. (the VirtualAddress\n",
      " |      section header member).\n",
      " |      Any offset in this data corresponds to the absolute memory address\n",
      " |      ImageBase+offset.\n",
      " |      \n",
      " |      The optional argument 'max_virtual_address' provides with means of limiting\n",
      " |      which sections are processed.\n",
      " |      Any section with their VirtualAddress beyond this value will be skipped.\n",
      " |      Normally, sections with values beyond this range are just there to confuse\n",
      " |      tools. It's a common trick to see in packed executables.\n",
      " |      \n",
      " |      If the 'ImageBase' optional argument is supplied, the file's relocations\n",
      " |      will be applied to the image by calling the 'relocate_image()' method. Beware\n",
      " |      that the relocation information is applied permanently.\n",
      " |  \n",
      " |  get_offset_from_rva(self, rva)\n",
      " |      Get the file offset corresponding to this RVA.\n",
      " |      \n",
      " |      Given a RVA , this method will find the section where the\n",
      " |      data lies and return the offset within the file.\n",
      " |  \n",
      " |  get_overlay(self)\n",
      " |      Get the data appended to the file and not contained within the area described in the headers.\n",
      " |  \n",
      " |  get_overlay_data_start_offset(self)\n",
      " |      Get the offset of data appended to the file and not contained within\n",
      " |      the area described in the headers.\n",
      " |  \n",
      " |  get_physical_by_rva(self, rva)\n",
      " |      Gets the physical address in the PE file from an RVA value.\n",
      " |  \n",
      " |  get_qword_at_rva(self, rva)\n",
      " |      Return the quad-word value at the given RVA.\n",
      " |      \n",
      " |      Returns None if the value can't be read, i.e. the RVA can't be mapped\n",
      " |      to a file offset.\n",
      " |  \n",
      " |  get_qword_from_data(self, data, offset)\n",
      " |      Convert eight bytes of data to a word (little endian)\n",
      " |      \n",
      " |      'offset' is assumed to index into a word array. So setting it to\n",
      " |      N will return a dword out of the data starting at offset N*8.\n",
      " |      \n",
      " |      Returns None if the data can't be turned into a quad word.\n",
      " |  \n",
      " |  get_qword_from_offset(self, offset)\n",
      " |      Return the quad-word value at the given file offset. (little endian)\n",
      " |  \n",
      " |  get_resources_strings(self)\n",
      " |      Returns a list of all the strings found withing the resources (if any).\n",
      " |      \n",
      " |      This method will scan all entries in the resources directory of the PE, if\n",
      " |      there is one, and will return a list() with the strings.\n",
      " |      \n",
      " |      An empty list will be returned otherwise.\n",
      " |  \n",
      " |  get_rva_from_offset(self, offset)\n",
      " |      Get the RVA corresponding to this file offset.\n",
      " |  \n",
      " |  get_section_by_offset(self, offset)\n",
      " |      Get the section containing the given file offset.\n",
      " |  \n",
      " |  get_section_by_rva(self, rva)\n",
      " |      Get the section containing the given address.\n",
      " |  \n",
      " |  get_string_at_rva(self, rva, max_length=1048576)\n",
      " |      Get an ASCII string located at the given address.\n",
      " |  \n",
      " |  get_string_from_data(self, offset, data)\n",
      " |      Get an ASCII string from data.\n",
      " |  \n",
      " |  get_string_u_at_rva(self, rva, max_length=65536, encoding=None)\n",
      " |      Get an Unicode string located at the given address.\n",
      " |  \n",
      " |  get_warnings(self)\n",
      " |      Return the list of warnings.\n",
      " |      \n",
      " |      Non-critical problems found when parsing the PE file are\n",
      " |      appended to a list of warnings. This method returns the\n",
      " |      full list.\n",
      " |  \n",
      " |  get_word_at_rva(self, rva)\n",
      " |      Return the word value at the given RVA.\n",
      " |      \n",
      " |      Returns None if the value can't be read, i.e. the RVA can't be mapped\n",
      " |      to a file offset.\n",
      " |  \n",
      " |  get_word_from_data(self, data, offset)\n",
      " |      Convert two bytes of data to a word (little endian)\n",
      " |      \n",
      " |      'offset' is assumed to index into a word array. So setting it to\n",
      " |      N will return a dword out of the data starting at offset N*2.\n",
      " |      \n",
      " |      Returns None if the data can't be turned into a word.\n",
      " |  \n",
      " |  get_word_from_offset(self, offset)\n",
      " |      Return the word value at the given file offset. (little endian)\n",
      " |  \n",
      " |  has_relocs(self)\n",
      " |      Checks if the PE file has relocation directory\n",
      " |  \n",
      " |  is_dll(self)\n",
      " |      Check whether the file is a standard DLL.\n",
      " |      \n",
      " |      This will return true only if the image has the IMAGE_FILE_DLL flag set.\n",
      " |  \n",
      " |  is_driver(self)\n",
      " |      Check whether the file is a Windows driver.\n",
      " |      \n",
      " |      This will return true only if there are reliable indicators of the image\n",
      " |      being a driver.\n",
      " |  \n",
      " |  is_exe(self)\n",
      " |      Check whether the file is a standard executable.\n",
      " |      \n",
      " |      This will return true only if the file has the IMAGE_FILE_EXECUTABLE_IMAGE flag set\n",
      " |      and the IMAGE_FILE_DLL not set and the file does not appear to be a driver either.\n",
      " |  \n",
      " |  merge_modified_section_data(self)\n",
      " |      Update the PE image content with any individual section data that has been modified.\n",
      " |  \n",
      " |  parse_data_directories(self, directories=None, forwarded_exports_only=False, import_dllnames_only=False)\n",
      " |      Parse and process the PE file's data directories.\n",
      " |      \n",
      " |      If the optional argument 'directories' is given, only\n",
      " |      the directories at the specified indexes will be parsed.\n",
      " |      Such functionality allows parsing of areas of interest\n",
      " |      without the burden of having to parse all others.\n",
      " |      The directories can then be specified as:\n",
      " |      \n",
      " |      For export / import only:\n",
      " |      \n",
      " |        directories = [ 0, 1 ]\n",
      " |      \n",
      " |      or (more verbosely):\n",
      " |      \n",
      " |        directories = [ DIRECTORY_ENTRY['IMAGE_DIRECTORY_ENTRY_IMPORT'],\n",
      " |          DIRECTORY_ENTRY['IMAGE_DIRECTORY_ENTRY_EXPORT'] ]\n",
      " |      \n",
      " |      If 'directories' is a list, the ones that are processed will be removed,\n",
      " |      leaving only the ones that are not present in the image.\n",
      " |      \n",
      " |      If `forwarded_exports_only` is True, the IMAGE_DIRECTORY_ENTRY_EXPORT\n",
      " |      attribute will only contain exports that are forwarded to another DLL.\n",
      " |      \n",
      " |      If `import_dllnames_only` is True, symbols will not be parsed from\n",
      " |      the import table and the entries in the IMAGE_DIRECTORY_ENTRY_IMPORT\n",
      " |      attribute will not have a `symbols` attribute.\n",
      " |  \n",
      " |  parse_debug_directory(self, rva, size)\n",
      " |  \n",
      " |  parse_delay_import_directory(self, rva, size)\n",
      " |      Walk and parse the delay import directory.\n",
      " |  \n",
      " |  parse_directory_bound_imports(self, rva, size)\n",
      " |  \n",
      " |  parse_directory_load_config(self, rva, size)\n",
      " |  \n",
      " |  parse_directory_tls(self, rva, size)\n",
      " |  \n",
      " |  parse_export_directory(self, rva, size, forwarded_only=False)\n",
      " |      Parse the export directory.\n",
      " |      \n",
      " |      Given the RVA of the export directory, it will process all\n",
      " |      its entries.\n",
      " |      \n",
      " |      The exports will be made available as a list of ExportData\n",
      " |      instances in the 'IMAGE_DIRECTORY_ENTRY_EXPORT' PE attribute.\n",
      " |  \n",
      " |  parse_import_directory(self, rva, size, dllnames_only=False)\n",
      " |      Walk and parse the import directory.\n",
      " |  \n",
      " |  parse_imports(self, original_first_thunk, first_thunk, forwarder_chain, max_length=None)\n",
      " |      Parse the imported symbols.\n",
      " |      \n",
      " |      It will fill a list, which will be available as the dictionary\n",
      " |      attribute \"imports\". Its keys will be the DLL names and the values\n",
      " |      of all the symbols imported from that object.\n",
      " |  \n",
      " |  parse_relocations(self, data_rva, rva, size)\n",
      " |  \n",
      " |  parse_relocations_directory(self, rva, size)\n",
      " |  \n",
      " |  parse_resource_data_entry(self, rva)\n",
      " |      Parse a data entry from the resources directory.\n",
      " |  \n",
      " |  parse_resource_entry(self, rva)\n",
      " |      Parse a directory entry from the resources directory.\n",
      " |  \n",
      " |  parse_resources_directory(self, rva, size=0, base_rva=None, level=0, dirs=None)\n",
      " |      Parse the resources directory.\n",
      " |      \n",
      " |      Given the RVA of the resources directory, it will process all\n",
      " |      its entries.\n",
      " |      \n",
      " |      The root will have the corresponding member of its structure,\n",
      " |      IMAGE_RESOURCE_DIRECTORY plus 'entries', a list of all the\n",
      " |      entries in the directory.\n",
      " |      \n",
      " |      Those entries will have, correspondingly, all the structure's\n",
      " |      members (IMAGE_RESOURCE_DIRECTORY_ENTRY) and an additional one,\n",
      " |      \"directory\", pointing to the IMAGE_RESOURCE_DIRECTORY structure\n",
      " |      representing upper layers of the tree. This one will also have\n",
      " |      an 'entries' attribute, pointing to the 3rd, and last, level.\n",
      " |      Another directory with more entries. Those last entries will\n",
      " |      have a new attribute (both 'leaf' or 'data_entry' can be used to\n",
      " |      access it). This structure finally points to the resource data.\n",
      " |      All the members of this structure, IMAGE_RESOURCE_DATA_ENTRY,\n",
      " |      are available as its attributes.\n",
      " |  \n",
      " |  parse_rich_header(self)\n",
      " |      Parses the rich header\n",
      " |      see http://www.ntcore.com/files/richsign.htm for more information\n",
      " |      \n",
      " |      Structure:\n",
      " |      00 DanS ^ checksum, checksum, checksum, checksum\n",
      " |      10 Symbol RVA ^ checksum, Symbol size ^ checksum...\n",
      " |      ...\n",
      " |      XX Rich, checksum, 0, 0,...\n",
      " |  \n",
      " |  parse_sections(self, offset)\n",
      " |      Fetch the PE file sections.\n",
      " |      \n",
      " |      The sections will be readily available in the \"sections\" attribute.\n",
      " |      Its attributes will contain all the section information plus \"data\"\n",
      " |      a buffer containing the section's data.\n",
      " |      \n",
      " |      The \"Characteristics\" member will be processed and attributes\n",
      " |      representing the section characteristics (with the 'IMAGE_SCN_'\n",
      " |      string trimmed from the constant's names) will be added to the\n",
      " |      section instance.\n",
      " |      \n",
      " |      Refer to the SectionStructure class for additional info.\n",
      " |  \n",
      " |  parse_version_information(self, version_struct)\n",
      " |      Parse version information structure.\n",
      " |      \n",
      " |      The date will be made available in three attributes of the PE object.\n",
      " |      \n",
      " |      VS_VERSIONINFO     will contain the first three fields of the main structure:\n",
      " |          'Length', 'ValueLength', and 'Type'\n",
      " |      \n",
      " |      VS_FIXEDFILEINFO    will hold the rest of the fields, accessible as sub-attributes:\n",
      " |          'Signature', 'StrucVersion', 'FileVersionMS', 'FileVersionLS',\n",
      " |          'ProductVersionMS', 'ProductVersionLS', 'FileFlagsMask', 'FileFlags',\n",
      " |          'FileOS', 'FileType', 'FileSubtype', 'FileDateMS', 'FileDateLS'\n",
      " |      \n",
      " |      FileInfo    is a list of all StringFileInfo and VarFileInfo structures.\n",
      " |      \n",
      " |      StringFileInfo structures will have a list as an attribute named 'StringTable'\n",
      " |      containing all the StringTable structures. Each of those structures contains a\n",
      " |      dictionary 'entries' with all the key / value version information string pairs.\n",
      " |      \n",
      " |      VarFileInfo structures will have a list as an attribute named 'Var' containing\n",
      " |      all Var structures. Each Var structure will have a dictionary as an attribute\n",
      " |      named 'entry' which will contain the name and value of the Var.\n",
      " |  \n",
      " |  print_info(self, encoding='utf-8')\n",
      " |      Print all the PE header information in a human readable from.\n",
      " |  \n",
      " |  relocate_image(self, new_ImageBase)\n",
      " |      Apply the relocation information to the image using the provided new image base.\n",
      " |      \n",
      " |      This method will apply the relocation information to the image. Given the new base,\n",
      " |      all the relocations will be processed and both the raw data and the section's data\n",
      " |      will be fixed accordingly.\n",
      " |      The resulting image can be retrieved as well through the method:\n",
      " |      \n",
      " |          get_memory_mapped_image()\n",
      " |      \n",
      " |      In order to get something that would more closely match what could be found in memory\n",
      " |      once the Windows loader finished its work.\n",
      " |  \n",
      " |  set_bytes_at_offset(self, offset, data)\n",
      " |      Overwrite the bytes at the given file offset with the given string.\n",
      " |      \n",
      " |      Return True if successful, False otherwise. It can fail if the\n",
      " |      offset is outside the file's boundaries.\n",
      " |  \n",
      " |  set_bytes_at_rva(self, rva, data)\n",
      " |      Overwrite, with the given string, the bytes at the file offset corresponding to the given RVA.\n",
      " |      \n",
      " |      Return True if successful, False otherwise. It can fail if the\n",
      " |      offset is outside the file's boundaries.\n",
      " |  \n",
      " |  set_dword_at_offset(self, offset, dword)\n",
      " |      Set the double word value at the given file offset.\n",
      " |  \n",
      " |  set_dword_at_rva(self, rva, dword)\n",
      " |      Set the double word value at the file offset corresponding to the given RVA.\n",
      " |  \n",
      " |  set_qword_at_offset(self, offset, qword)\n",
      " |      Set the quad-word value at the given file offset.\n",
      " |  \n",
      " |  set_qword_at_rva(self, rva, qword)\n",
      " |      Set the quad-word value at the file offset corresponding to the given RVA.\n",
      " |  \n",
      " |  set_word_at_offset(self, offset, word)\n",
      " |      Set the word value at the given file offset.\n",
      " |  \n",
      " |  set_word_at_rva(self, rva, word)\n",
      " |      Set the word value at the file offset corresponding to the given RVA.\n",
      " |  \n",
      " |  show_warnings(self)\n",
      " |      Print the list of warnings.\n",
      " |      \n",
      " |      Non-critical problems found when parsing the PE file are\n",
      " |      appended to a list of warnings. This method prints the\n",
      " |      full list to standard output.\n",
      " |  \n",
      " |  trim(self)\n",
      " |      Return the just data defined by the PE headers, removing any overlayed data.\n",
      " |  \n",
      " |  verify_checksum(self)\n",
      " |  \n",
      " |  write(self, filename=None)\n",
      " |      Write the PE file.\n",
      " |      \n",
      " |      This function will process all headers and components\n",
      " |      of the PE file and include all changes made (by just\n",
      " |      assigning to attributes in the PE objects) and write\n",
      " |      the changes back to a file whose name is provided as\n",
      " |      an argument. The filename is optional, if not\n",
      " |      provided the data will be returned as a 'str' object.\n",
      " |  \n",
      " |  ----------------------------------------------------------------------\n",
      " |  Data descriptors defined here:\n",
      " |  \n",
      " |  __dict__\n",
      " |      dictionary for instance variables (if defined)\n",
      " |  \n",
      " |  __weakref__\n",
      " |      list of weak references to the object (if defined)\n",
      " |  \n",
      " |  ----------------------------------------------------------------------\n",
      " |  Data and other attributes defined here:\n",
      " |  \n",
      " |  __IMAGE_BASE_RELOCATION_ENTRY_format__ = ('IMAGE_BASE_RELOCATION_ENTRY...\n",
      " |  \n",
      " |  __IMAGE_BASE_RELOCATION_format__ = ('IMAGE_BASE_RELOCATION', ('I,Virtu...\n",
      " |  \n",
      " |  __IMAGE_BOUND_FORWARDER_REF_format__ = ('IMAGE_BOUND_FORWARDER_REF', (...\n",
      " |  \n",
      " |  __IMAGE_BOUND_IMPORT_DESCRIPTOR_format__ = ('IMAGE_BOUND_IMPORT_DESCRI...\n",
      " |  \n",
      " |  __IMAGE_DATA_DIRECTORY_format__ = ('IMAGE_DATA_DIRECTORY', ('I,Virtual...\n",
      " |  \n",
      " |  __IMAGE_DEBUG_DIRECTORY_format__ = ('IMAGE_DEBUG_DIRECTORY', ('I,Chara...\n",
      " |  \n",
      " |  __IMAGE_DELAY_IMPORT_DESCRIPTOR_format__ = ('IMAGE_DELAY_IMPORT_DESCRI...\n",
      " |  \n",
      " |  __IMAGE_DOS_HEADER_format__ = ('IMAGE_DOS_HEADER', ('H,e_magic', 'H,e_...\n",
      " |  \n",
      " |  __IMAGE_EXPORT_DIRECTORY_format__ = ('IMAGE_EXPORT_DIRECTORY', ('I,Cha...\n",
      " |  \n",
      " |  __IMAGE_FILE_HEADER_format__ = ('IMAGE_FILE_HEADER', ('H,Machine', 'H,...\n",
      " |  \n",
      " |  __IMAGE_IMPORT_DESCRIPTOR_format__ = ('IMAGE_IMPORT_DESCRIPTOR', ('I,O...\n",
      " |  \n",
      " |  __IMAGE_LOAD_CONFIG_DIRECTORY64_format__ = ('IMAGE_LOAD_CONFIG_DIRECTO...\n",
      " |  \n",
      " |  __IMAGE_LOAD_CONFIG_DIRECTORY_format__ = ('IMAGE_LOAD_CONFIG_DIRECTORY...\n",
      " |  \n",
      " |  __IMAGE_NT_HEADERS_format__ = ('IMAGE_NT_HEADERS', ('I,Signature',))\n",
      " |  \n",
      " |  __IMAGE_OPTIONAL_HEADER64_format__ = ('IMAGE_OPTIONAL_HEADER64', ('H,M...\n",
      " |  \n",
      " |  __IMAGE_OPTIONAL_HEADER_format__ = ('IMAGE_OPTIONAL_HEADER', ('H,Magic...\n",
      " |  \n",
      " |  __IMAGE_RESOURCE_DATA_ENTRY_format__ = ('IMAGE_RESOURCE_DATA_ENTRY', (...\n",
      " |  \n",
      " |  __IMAGE_RESOURCE_DIRECTORY_ENTRY_format__ = ('IMAGE_RESOURCE_DIRECTORY...\n",
      " |  \n",
      " |  __IMAGE_RESOURCE_DIRECTORY_format__ = ('IMAGE_RESOURCE_DIRECTORY', ('I...\n",
      " |  \n",
      " |  __IMAGE_SECTION_HEADER_format__ = ('IMAGE_SECTION_HEADER', ('8s,Name',...\n",
      " |  \n",
      " |  __IMAGE_THUNK_DATA64_format__ = ('IMAGE_THUNK_DATA', ('Q,ForwarderStri...\n",
      " |  \n",
      " |  __IMAGE_THUNK_DATA_format__ = ('IMAGE_THUNK_DATA', ('I,ForwarderString...\n",
      " |  \n",
      " |  __IMAGE_TLS_DIRECTORY64_format__ = ('IMAGE_TLS_DIRECTORY', ('Q,StartAd...\n",
      " |  \n",
      " |  __IMAGE_TLS_DIRECTORY_format__ = ('IMAGE_TLS_DIRECTORY', ('I,StartAddr...\n",
      " |  \n",
      " |  __StringFileInfo_format__ = ('StringFileInfo', ('H,Length', 'H,ValueLe...\n",
      " |  \n",
      " |  __StringTable_format__ = ('StringTable', ('H,Length', 'H,ValueLength',...\n",
      " |  \n",
      " |  __String_format__ = ('String', ('H,Length', 'H,ValueLength', 'H,Type')...\n",
      " |  \n",
      " |  __VS_FIXEDFILEINFO_format__ = ('VS_FIXEDFILEINFO', ('I,Signature', 'I,...\n",
      " |  \n",
      " |  __VS_VERSIONINFO_format__ = ('VS_VERSIONINFO', ('H,Length', 'H,ValueLe...\n",
      " |  \n",
      " |  __Var_format__ = ('Var', ('H,Length', 'H,ValueLength', 'H,Type'))\n",
      "\n"
     ]
    }
   ],
   "source": [
    "help(pefile.PE)"
   ]
  },
  {
   "cell_type": "code",
   "execution_count": null,
   "metadata": {},
   "outputs": [],
   "source": [
    "# 在大量样本中，通过imphash进行分组可以更容易地识别类似的功能或用于生成二进制文件的通用打包器/打包工具。"
   ]
  },
  {
   "cell_type": "code",
   "execution_count": 34,
   "metadata": {},
   "outputs": [
    {
     "name": "stdout",
     "output_type": "stream",
     "text": [
      "dec\teax\n",
      "sub\tesp, 0x28\n",
      "call\t0x400baee4\n",
      "dec\teax\n",
      "add\tesp, 0x28\n",
      "jmp\t0x400acafc\n",
      "int3\t\n",
      "int3\t\n",
      "int3\t\n",
      "int3\t\n",
      "int3\t\n",
      "int3\t\n",
      "int3\t\n",
      "int3\t\n",
      "int3\t\n",
      "int3\t\n",
      "int3\t\n",
      "int3\t\n",
      "int3\t\n",
      "int3\t\n",
      "int3\t\n",
      "int3\t\n",
      "nop\tword ptr [eax + eax]\n",
      "dec\teax\n",
      "mov\teax, ecx\n",
      "dec\teax\n",
      "neg\tecx\n",
      "dec\teax\n",
      "test\teax, 7\n",
      "je\t0x400accfd\n",
      "nop\t\n",
      "mov\tdl, byte ptr [eax]\n",
      "dec\teax\n",
      "inc\teax\n",
      "test\tdl, dl\n",
      "je\t0x400acd58\n",
      "test\tal, 7\n",
      "jne\t0x400accf0\n",
      "dec\tecx\n",
      "mov\teax, 0xfefefeff\n"
     ]
    }
   ],
   "source": [
    "from capstone import *\n",
    "\n",
    "# get the address of the program entry point from the program header\n",
    "entrypoint = pe.OPTIONAL_HEADER.AddressOfEntryPoint\n",
    "\n",
    "# compute memory address where the entry code will be loaded into memory\n",
    "entrypoint_address = entrypoint+pe.OPTIONAL_HEADER.ImageBase\n",
    "\n",
    "# get the binary code from the PE file object\n",
    "binary_code = pe.get_memory_mapped_image()[entrypoint:entrypoint+100]\n",
    "\n",
    "# initialize disassembler to disassemble 32 bit x86 binary code\n",
    "disassembler = Cs(CS_ARCH_X86, CS_MODE_32)\n",
    "\n",
    "# disassemble the code\n",
    "for instruction in disassembler.disasm(binary_code, entrypoint_address):\n",
    "    print(\"%s\\t%s\" %(instruction.mnemonic, instruction.op_str))\n"
   ]
  },
  {
   "cell_type": "code",
   "execution_count": 13,
   "metadata": {},
   "outputs": [
    {
     "name": "stdout",
     "output_type": "stream",
     "text": [
      "[IMAGE_SECTION_HEADER]\n",
      "0x1F0      0x0   Name:                          .text\n",
      "0x1F8      0x8   Misc:                          0x11E2D   \n",
      "0x1F8      0x8   Misc_PhysicalAddress:          0x11E2D   \n",
      "0x1F8      0x8   Misc_VirtualSize:              0x11E2D   \n",
      "0x1FC      0xC   VirtualAddress:                0x1000    \n",
      "0x200      0x10  SizeOfRawData:                 0x12000   \n",
      "0x204      0x14  PointerToRawData:              0x1000    \n",
      "0x208      0x18  PointerToRelocations:          0x0       \n",
      "0x20C      0x1C  PointerToLinenumbers:          0x0       \n",
      "0x210      0x20  NumberOfRelocations:           0x0       \n",
      "0x212      0x22  NumberOfLinenumbers:           0x0       \n",
      "0x214      0x24  Characteristics:               0x60000020\n",
      "[IMAGE_SECTION_HEADER]\n",
      "0x218      0x0   Name:                          .rdata\n",
      "0x220      0x8   Misc:                          0x56E6    \n",
      "0x220      0x8   Misc_PhysicalAddress:          0x56E6    \n",
      "0x220      0x8   Misc_VirtualSize:              0x56E6    \n",
      "0x224      0xC   VirtualAddress:                0x13000   \n",
      "0x228      0x10  SizeOfRawData:                 0x6000    \n",
      "0x22C      0x14  PointerToRawData:              0x13000   \n",
      "0x230      0x18  PointerToRelocations:          0x0       \n",
      "0x234      0x1C  PointerToLinenumbers:          0x0       \n",
      "0x238      0x20  NumberOfRelocations:           0x0       \n",
      "0x23A      0x22  NumberOfLinenumbers:           0x0       \n",
      "0x23C      0x24  Characteristics:               0x40000040\n",
      "[IMAGE_SECTION_HEADER]\n",
      "0x240      0x0   Name:                          .data\n",
      "0x248      0x8   Misc:                          0x112F8   \n",
      "0x248      0x8   Misc_PhysicalAddress:          0x112F8   \n",
      "0x248      0x8   Misc_VirtualSize:              0x112F8   \n",
      "0x24C      0xC   VirtualAddress:                0x19000   \n",
      "0x250      0x10  SizeOfRawData:                 0x5000    \n",
      "0x254      0x14  PointerToRawData:              0x19000   \n",
      "0x258      0x18  PointerToRelocations:          0x0       \n",
      "0x25C      0x1C  PointerToLinenumbers:          0x0       \n",
      "0x260      0x20  NumberOfRelocations:           0x0       \n",
      "0x262      0x22  NumberOfLinenumbers:           0x0       \n",
      "0x264      0x24  Characteristics:               0xC0000040\n",
      "[IMAGE_SECTION_HEADER]\n",
      "0x268      0x0   Name:                          .rsrc\n",
      "0x270      0x8   Misc:                          0xD4838   \n",
      "0x270      0x8   Misc_PhysicalAddress:          0xD4838   \n",
      "0x270      0x8   Misc_VirtualSize:              0xD4838   \n",
      "0x274      0xC   VirtualAddress:                0x2B000   \n",
      "0x278      0x10  SizeOfRawData:                 0xD5000   \n",
      "0x27C      0x14  PointerToRawData:              0x1E000   \n",
      "0x280      0x18  PointerToRelocations:          0x0       \n",
      "0x284      0x1C  PointerToLinenumbers:          0x0       \n",
      "0x288      0x20  NumberOfRelocations:           0x0       \n",
      "0x28A      0x22  NumberOfLinenumbers:           0x0       \n",
      "0x28C      0x24  Characteristics:               0x40000040\n"
     ]
    }
   ],
   "source": [
    "for section in pe.sections:\n",
    "    print(section)"
   ]
  },
  {
   "cell_type": "code",
   "execution_count": 16,
   "metadata": {},
   "outputs": [
    {
     "name": "stdout",
     "output_type": "stream",
     "text": [
      "[2433587, 2, 6096883, 2, 6227987, 2, 6096915, 8, 924803, 2, 270312, 6, 65536, 508, 1647610, 11, 663528, 17, 729064, 36, 394936, 1]\n"
     ]
    }
   ],
   "source": [
    "print(pe.RICH_HEADER.values)"
   ]
  },
  {
   "cell_type": "code",
   "execution_count": 22,
   "metadata": {},
   "outputs": [
    {
     "ename": "AttributeError",
     "evalue": "'PE' object has no attribute 'DIRECTORY_ENTRY_EXPORT'",
     "output_type": "error",
     "traceback": [
      "\u001b[1;31m---------------------------------------------------------------------------\u001b[0m",
      "\u001b[1;31mAttributeError\u001b[0m                            Traceback (most recent call last)",
      "\u001b[1;32m<ipython-input-22-29e145e8d202>\u001b[0m in \u001b[0;36m<module>\u001b[1;34m\u001b[0m\n\u001b[1;32m----> 1\u001b[1;33m \u001b[0mpe\u001b[0m\u001b[1;33m.\u001b[0m\u001b[0mDIRECTORY_ENTRY_EXPORT\u001b[0m\u001b[1;33m\u001b[0m\u001b[1;33m\u001b[0m\u001b[0m\n\u001b[0m",
      "\u001b[1;31mAttributeError\u001b[0m: 'PE' object has no attribute 'DIRECTORY_ENTRY_EXPORT'"
     ]
    }
   ],
   "source": [
    "pe.DIRECTORY_ENTRY_EXPORT"
   ]
  },
  {
   "cell_type": "code",
   "execution_count": 20,
   "metadata": {},
   "outputs": [
    {
     "name": "stdout",
     "output_type": "stream",
     "text": [
      "[<pefile.ImportData object at 0x00000000054028C8>, <pefile.ImportData object at 0x0000000005402948>, <pefile.ImportData object at 0x0000000005402A08>, <pefile.ImportData object at 0x0000000005402A88>, <pefile.ImportData object at 0x0000000005402B48>, <pefile.ImportData object at 0x0000000005402C48>]\n",
      "[<pefile.ImportData object at 0x00000000054064C8>, <pefile.ImportData object at 0x00000000054065C8>, <pefile.ImportData object at 0x0000000005406688>, <pefile.ImportData object at 0x0000000005406748>]\n",
      "[<pefile.ImportData object at 0x0000000005415888>, <pefile.ImportData object at 0x0000000005415B48>, <pefile.ImportData object at 0x0000000005415BC8>, <pefile.ImportData object at 0x0000000005415C88>, <pefile.ImportData object at 0x0000000005415D08>, <pefile.ImportData object at 0x0000000005415DC8>, <pefile.ImportData object at 0x0000000005415E48>, <pefile.ImportData object at 0x0000000005415EC8>, <pefile.ImportData object at 0x0000000005415F48>, <pefile.ImportData object at 0x0000000005415D88>, <pefile.ImportData object at 0x0000000005417048>, <pefile.ImportData object at 0x0000000005417108>, <pefile.ImportData object at 0x0000000005417188>, <pefile.ImportData object at 0x0000000005417208>, <pefile.ImportData object at 0x0000000005417288>, <pefile.ImportData object at 0x0000000005417308>, <pefile.ImportData object at 0x0000000005417388>, <pefile.ImportData object at 0x0000000005417408>, <pefile.ImportData object at 0x0000000005417488>, <pefile.ImportData object at 0x0000000005417508>, <pefile.ImportData object at 0x0000000005417588>, <pefile.ImportData object at 0x0000000005417648>, <pefile.ImportData object at 0x00000000054176C8>, <pefile.ImportData object at 0x0000000005417748>, <pefile.ImportData object at 0x00000000054177C8>, <pefile.ImportData object at 0x0000000005417848>, <pefile.ImportData object at 0x00000000054178C8>]\n",
      "[<pefile.ImportData object at 0x000000000548C648>, <pefile.ImportData object at 0x000000000548C908>, <pefile.ImportData object at 0x000000000548C988>, <pefile.ImportData object at 0x000000000548CA08>, <pefile.ImportData object at 0x000000000548CA88>, <pefile.ImportData object at 0x000000000548CB48>, <pefile.ImportData object at 0x000000000548CBC8>, <pefile.ImportData object at 0x000000000548CC48>, <pefile.ImportData object at 0x000000000548CCC8>, <pefile.ImportData object at 0x000000000548CB08>, <pefile.ImportData object at 0x000000000548CD88>, <pefile.ImportData object at 0x000000000548CE08>, <pefile.ImportData object at 0x000000000548CE88>, <pefile.ImportData object at 0x000000000548CF08>, <pefile.ImportData object at 0x000000000548CF88>, <pefile.ImportData object at 0x000000000548E048>, <pefile.ImportData object at 0x000000000548E0C8>, <pefile.ImportData object at 0x000000000548E148>, <pefile.ImportData object at 0x000000000548E1C8>, <pefile.ImportData object at 0x000000000548E248>, <pefile.ImportData object at 0x000000000548E2C8>, <pefile.ImportData object at 0x000000000548E348>, <pefile.ImportData object at 0x000000000548E3C8>, <pefile.ImportData object at 0x000000000548E448>, <pefile.ImportData object at 0x000000000548E4C8>, <pefile.ImportData object at 0x000000000548E548>, <pefile.ImportData object at 0x000000000548E5C8>, <pefile.ImportData object at 0x000000000548E648>, <pefile.ImportData object at 0x000000000548E6C8>, <pefile.ImportData object at 0x000000000548E748>, <pefile.ImportData object at 0x000000000548E7C8>, <pefile.ImportData object at 0x000000000548E848>, <pefile.ImportData object at 0x000000000548E8C8>, <pefile.ImportData object at 0x000000000548E948>, <pefile.ImportData object at 0x000000000548E9C8>, <pefile.ImportData object at 0x000000000548EA48>, <pefile.ImportData object at 0x000000000548EAC8>, <pefile.ImportData object at 0x000000000548EB48>, <pefile.ImportData object at 0x000000000548EBC8>, <pefile.ImportData object at 0x000000000548EC48>, <pefile.ImportData object at 0x000000000548ECC8>, <pefile.ImportData object at 0x000000000548ED48>, <pefile.ImportData object at 0x000000000548EDC8>, <pefile.ImportData object at 0x000000000548EE48>, <pefile.ImportData object at 0x000000000548EEC8>, <pefile.ImportData object at 0x000000000548EF48>, <pefile.ImportData object at 0x000000000548EFC8>, <pefile.ImportData object at 0x0000000005491088>, <pefile.ImportData object at 0x0000000005491108>, <pefile.ImportData object at 0x0000000005491188>, <pefile.ImportData object at 0x0000000005491208>, <pefile.ImportData object at 0x0000000005491288>, <pefile.ImportData object at 0x0000000005491308>, <pefile.ImportData object at 0x0000000005491388>, <pefile.ImportData object at 0x0000000005491408>, <pefile.ImportData object at 0x0000000005491488>, <pefile.ImportData object at 0x0000000005491508>, <pefile.ImportData object at 0x0000000005491588>, <pefile.ImportData object at 0x0000000005491608>, <pefile.ImportData object at 0x0000000005491688>, <pefile.ImportData object at 0x0000000005491708>, <pefile.ImportData object at 0x0000000005491788>, <pefile.ImportData object at 0x0000000005491808>, <pefile.ImportData object at 0x0000000005491888>, <pefile.ImportData object at 0x0000000005491908>, <pefile.ImportData object at 0x0000000005491988>, <pefile.ImportData object at 0x0000000005491A08>, <pefile.ImportData object at 0x0000000005491A88>, <pefile.ImportData object at 0x0000000005491B08>, <pefile.ImportData object at 0x0000000005491B88>, <pefile.ImportData object at 0x0000000005491C08>, <pefile.ImportData object at 0x0000000005491C88>, <pefile.ImportData object at 0x0000000005491D08>, <pefile.ImportData object at 0x0000000005491D88>, <pefile.ImportData object at 0x0000000005491E08>, <pefile.ImportData object at 0x0000000005491E88>, <pefile.ImportData object at 0x0000000005491F08>, <pefile.ImportData object at 0x0000000005491F88>, <pefile.ImportData object at 0x0000000005494048>, <pefile.ImportData object at 0x00000000054940C8>, <pefile.ImportData object at 0x0000000005494088>, <pefile.ImportData object at 0x0000000005494108>, <pefile.ImportData object at 0x0000000005494148>, <pefile.ImportData object at 0x0000000005494188>, <pefile.ImportData object at 0x00000000054941C8>, <pefile.ImportData object at 0x0000000005494208>, <pefile.ImportData object at 0x0000000005494248>, <pefile.ImportData object at 0x0000000005494288>, <pefile.ImportData object at 0x00000000054942C8>, <pefile.ImportData object at 0x0000000005494308>, <pefile.ImportData object at 0x0000000005494348>, <pefile.ImportData object at 0x0000000005494388>, <pefile.ImportData object at 0x00000000054943C8>, <pefile.ImportData object at 0x0000000005494408>, <pefile.ImportData object at 0x0000000005494448>, <pefile.ImportData object at 0x0000000005494488>, <pefile.ImportData object at 0x00000000054944C8>, <pefile.ImportData object at 0x0000000005494508>, <pefile.ImportData object at 0x0000000005494548>, <pefile.ImportData object at 0x0000000005494588>, <pefile.ImportData object at 0x00000000054945C8>, <pefile.ImportData object at 0x0000000005494608>, <pefile.ImportData object at 0x0000000005494648>, <pefile.ImportData object at 0x0000000005494688>, <pefile.ImportData object at 0x00000000054946C8>, <pefile.ImportData object at 0x0000000005494708>, <pefile.ImportData object at 0x0000000005494748>, <pefile.ImportData object at 0x0000000005494788>, <pefile.ImportData object at 0x00000000054947C8>, <pefile.ImportData object at 0x0000000005494808>, <pefile.ImportData object at 0x0000000005494848>, <pefile.ImportData object at 0x0000000005494888>, <pefile.ImportData object at 0x00000000054948C8>, <pefile.ImportData object at 0x0000000005494908>, <pefile.ImportData object at 0x0000000005494948>, <pefile.ImportData object at 0x0000000005494988>, <pefile.ImportData object at 0x00000000054949C8>, <pefile.ImportData object at 0x0000000005494A08>, <pefile.ImportData object at 0x0000000005494A48>, <pefile.ImportData object at 0x0000000005494A88>, <pefile.ImportData object at 0x0000000005494AC8>, <pefile.ImportData object at 0x0000000005494B08>, <pefile.ImportData object at 0x0000000005494B48>, <pefile.ImportData object at 0x0000000005494B88>, <pefile.ImportData object at 0x0000000005494BC8>, <pefile.ImportData object at 0x0000000005494C08>, <pefile.ImportData object at 0x0000000005494C48>, <pefile.ImportData object at 0x0000000005494C88>, <pefile.ImportData object at 0x0000000005494CC8>, <pefile.ImportData object at 0x0000000005494D08>, <pefile.ImportData object at 0x0000000005494D48>, <pefile.ImportData object at 0x0000000005494D88>, <pefile.ImportData object at 0x0000000005494DC8>, <pefile.ImportData object at 0x0000000005494E08>, <pefile.ImportData object at 0x0000000005494E48>, <pefile.ImportData object at 0x0000000005494E88>, <pefile.ImportData object at 0x0000000005494EC8>, <pefile.ImportData object at 0x0000000005494F08>, <pefile.ImportData object at 0x0000000005494F48>, <pefile.ImportData object at 0x0000000005494F88>, <pefile.ImportData object at 0x0000000005494FC8>, <pefile.ImportData object at 0x000000000549B088>, <pefile.ImportData object at 0x000000000549B048>, <pefile.ImportData object at 0x000000000549B0C8>, <pefile.ImportData object at 0x000000000549B108>, <pefile.ImportData object at 0x000000000549B148>, <pefile.ImportData object at 0x000000000549B188>, <pefile.ImportData object at 0x000000000549B1C8>, <pefile.ImportData object at 0x000000000549B208>, <pefile.ImportData object at 0x000000000549B248>, <pefile.ImportData object at 0x000000000549B288>, <pefile.ImportData object at 0x000000000549B2C8>, <pefile.ImportData object at 0x000000000549B308>, <pefile.ImportData object at 0x000000000549B348>, <pefile.ImportData object at 0x000000000549B388>, <pefile.ImportData object at 0x000000000549B3C8>, <pefile.ImportData object at 0x000000000549B408>, <pefile.ImportData object at 0x000000000549B448>, <pefile.ImportData object at 0x000000000549B488>, <pefile.ImportData object at 0x000000000549B4C8>, <pefile.ImportData object at 0x000000000549B508>, <pefile.ImportData object at 0x000000000549B548>, <pefile.ImportData object at 0x000000000549B588>, <pefile.ImportData object at 0x000000000549B5C8>, <pefile.ImportData object at 0x000000000549B608>, <pefile.ImportData object at 0x000000000549B648>, <pefile.ImportData object at 0x000000000549B688>, <pefile.ImportData object at 0x000000000549B6C8>, <pefile.ImportData object at 0x000000000549B708>, <pefile.ImportData object at 0x000000000549B748>, <pefile.ImportData object at 0x000000000549B788>, <pefile.ImportData object at 0x000000000549B7C8>, <pefile.ImportData object at 0x000000000549B808>, <pefile.ImportData object at 0x000000000549B848>, <pefile.ImportData object at 0x000000000549B888>, <pefile.ImportData object at 0x000000000549B8C8>, <pefile.ImportData object at 0x000000000549B908>, <pefile.ImportData object at 0x000000000549B948>, <pefile.ImportData object at 0x000000000549B988>, <pefile.ImportData object at 0x000000000549B9C8>, <pefile.ImportData object at 0x000000000549BA08>, <pefile.ImportData object at 0x000000000549BA48>, <pefile.ImportData object at 0x000000000549BA88>, <pefile.ImportData object at 0x000000000549BAC8>, <pefile.ImportData object at 0x000000000549BB08>, <pefile.ImportData object at 0x000000000549BB48>, <pefile.ImportData object at 0x000000000549BB88>, <pefile.ImportData object at 0x000000000549BBC8>, <pefile.ImportData object at 0x000000000549BC08>, <pefile.ImportData object at 0x000000000549BC48>, <pefile.ImportData object at 0x000000000549BC88>, <pefile.ImportData object at 0x000000000549BCC8>, <pefile.ImportData object at 0x000000000549BD08>, <pefile.ImportData object at 0x000000000549BD48>, <pefile.ImportData object at 0x000000000549BD88>, <pefile.ImportData object at 0x000000000549BDC8>, <pefile.ImportData object at 0x000000000549BE08>, <pefile.ImportData object at 0x000000000549BE48>, <pefile.ImportData object at 0x000000000549BE88>, <pefile.ImportData object at 0x000000000549BEC8>, <pefile.ImportData object at 0x000000000549BF08>, <pefile.ImportData object at 0x000000000549BF48>, <pefile.ImportData object at 0x000000000549BF88>, <pefile.ImportData object at 0x000000000549BFC8>, <pefile.ImportData object at 0x00000000054A1088>, <pefile.ImportData object at 0x00000000054A1048>, <pefile.ImportData object at 0x00000000054A10C8>, <pefile.ImportData object at 0x00000000054A1108>, <pefile.ImportData object at 0x00000000054A1148>, <pefile.ImportData object at 0x00000000054A1188>, <pefile.ImportData object at 0x00000000054A11C8>, <pefile.ImportData object at 0x00000000054A1208>, <pefile.ImportData object at 0x00000000054A1248>, <pefile.ImportData object at 0x00000000054A1288>, <pefile.ImportData object at 0x00000000054A12C8>, <pefile.ImportData object at 0x00000000054A1308>, <pefile.ImportData object at 0x00000000054A1348>, <pefile.ImportData object at 0x00000000054A1388>, <pefile.ImportData object at 0x00000000054A13C8>, <pefile.ImportData object at 0x00000000054A1408>]\n",
      "[<pefile.ImportData object at 0x00000000054B9908>, <pefile.ImportData object at 0x00000000054B9A08>, <pefile.ImportData object at 0x00000000054B9A88>, <pefile.ImportData object at 0x00000000054B9B08>, <pefile.ImportData object at 0x00000000054B9B88>, <pefile.ImportData object at 0x00000000054B9C48>, <pefile.ImportData object at 0x00000000054B9CC8>, <pefile.ImportData object at 0x00000000054B9D48>, <pefile.ImportData object at 0x00000000054B9DC8>, <pefile.ImportData object at 0x00000000054B9C08>, <pefile.ImportData object at 0x00000000054B9E88>, <pefile.ImportData object at 0x00000000054B9F08>, <pefile.ImportData object at 0x00000000054B9F88>, <pefile.ImportData object at 0x00000000054BB048>, <pefile.ImportData object at 0x00000000054BB0C8>, <pefile.ImportData object at 0x00000000054BB148>, <pefile.ImportData object at 0x00000000054BB1C8>, <pefile.ImportData object at 0x00000000054BB248>, <pefile.ImportData object at 0x00000000054BB2C8>, <pefile.ImportData object at 0x00000000054BB388>, <pefile.ImportData object at 0x00000000054BB408>, <pefile.ImportData object at 0x00000000054BB488>, <pefile.ImportData object at 0x00000000054BB508>, <pefile.ImportData object at 0x00000000054BB588>, <pefile.ImportData object at 0x00000000054BB608>, <pefile.ImportData object at 0x00000000054BB688>, <pefile.ImportData object at 0x00000000054BB748>, <pefile.ImportData object at 0x00000000054BB7C8>, <pefile.ImportData object at 0x00000000054BB848>, <pefile.ImportData object at 0x00000000054BB8C8>, <pefile.ImportData object at 0x00000000054BB948>, <pefile.ImportData object at 0x00000000054BB9C8>, <pefile.ImportData object at 0x00000000054BBA48>, <pefile.ImportData object at 0x00000000054BBAC8>, <pefile.ImportData object at 0x00000000054BBB48>, <pefile.ImportData object at 0x00000000054BBBC8>, <pefile.ImportData object at 0x00000000054BBC88>, <pefile.ImportData object at 0x00000000054BBD08>, <pefile.ImportData object at 0x00000000054BBDC8>, <pefile.ImportData object at 0x00000000054BBE48>, <pefile.ImportData object at 0x00000000054BBEC8>, <pefile.ImportData object at 0x00000000054BBF48>]\n",
      "[<pefile.ImportData object at 0x00000000054E6BC8>, <pefile.ImportData object at 0x00000000054E6E88>, <pefile.ImportData object at 0x00000000054E6F08>, <pefile.ImportData object at 0x00000000054E6FC8>, <pefile.ImportData object at 0x00000000054BF088>, <pefile.ImportData object at 0x00000000054BF148>, <pefile.ImportData object at 0x00000000054BF1C8>, <pefile.ImportData object at 0x00000000054BF248>, <pefile.ImportData object at 0x00000000054BF2C8>, <pefile.ImportData object at 0x00000000054BF108>, <pefile.ImportData object at 0x00000000054BF388>, <pefile.ImportData object at 0x00000000054BF408>, <pefile.ImportData object at 0x00000000054BF4C8>, <pefile.ImportData object at 0x00000000054BF548>, <pefile.ImportData object at 0x00000000054BF5C8>, <pefile.ImportData object at 0x00000000054BF648>, <pefile.ImportData object at 0x00000000054BF6C8>, <pefile.ImportData object at 0x00000000054BF788>, <pefile.ImportData object at 0x00000000054BF808>, <pefile.ImportData object at 0x00000000054BF888>, <pefile.ImportData object at 0x00000000054BF908>, <pefile.ImportData object at 0x00000000054BF988>, <pefile.ImportData object at 0x00000000054BFA08>, <pefile.ImportData object at 0x00000000054BFAC8>, <pefile.ImportData object at 0x00000000054BFB48>, <pefile.ImportData object at 0x00000000054BFBC8>, <pefile.ImportData object at 0x00000000054BFC48>, <pefile.ImportData object at 0x00000000054BFCC8>, <pefile.ImportData object at 0x00000000054BFD48>, <pefile.ImportData object at 0x00000000054BFE08>, <pefile.ImportData object at 0x00000000054BFE88>, <pefile.ImportData object at 0x00000000054BFF08>, <pefile.ImportData object at 0x00000000054BFF88>, <pefile.ImportData object at 0x00000000054EB048>, <pefile.ImportData object at 0x00000000054EB0C8>, <pefile.ImportData object at 0x00000000054EB148>, <pefile.ImportData object at 0x00000000054EB1C8>, <pefile.ImportData object at 0x00000000054EB248>, <pefile.ImportData object at 0x00000000054EB2C8>, <pefile.ImportData object at 0x00000000054EB348>, <pefile.ImportData object at 0x00000000054EB3C8>, <pefile.ImportData object at 0x00000000054EB448>, <pefile.ImportData object at 0x00000000054EB4C8>, <pefile.ImportData object at 0x00000000054EB548>, <pefile.ImportData object at 0x00000000054EB608>, <pefile.ImportData object at 0x00000000054EB688>, <pefile.ImportData object at 0x00000000054EB708>, <pefile.ImportData object at 0x00000000054EB788>, <pefile.ImportData object at 0x00000000054EB808>, <pefile.ImportData object at 0x00000000054EB888>, <pefile.ImportData object at 0x00000000054EB908>, <pefile.ImportData object at 0x00000000054EB9C8>, <pefile.ImportData object at 0x00000000054EBA48>, <pefile.ImportData object at 0x00000000054EBAC8>, <pefile.ImportData object at 0x00000000054EBB48>, <pefile.ImportData object at 0x00000000054EBBC8>, <pefile.ImportData object at 0x00000000054EBC48>, <pefile.ImportData object at 0x00000000054EBCC8>, <pefile.ImportData object at 0x00000000054EBD48>, <pefile.ImportData object at 0x00000000054EBE08>, <pefile.ImportData object at 0x00000000054EBE88>, <pefile.ImportData object at 0x00000000054EBF48>, <pefile.ImportData object at 0x00000000054EF048>, <pefile.ImportData object at 0x00000000054EF0C8>, <pefile.ImportData object at 0x00000000054EF148>, <pefile.ImportData object at 0x00000000054EF1C8>, <pefile.ImportData object at 0x00000000054EF248>, <pefile.ImportData object at 0x00000000054EF2C8>, <pefile.ImportData object at 0x00000000054EF348>, <pefile.ImportData object at 0x00000000054EF3C8>, <pefile.ImportData object at 0x00000000054EF448>, <pefile.ImportData object at 0x00000000054EF4C8>, <pefile.ImportData object at 0x00000000054EF588>, <pefile.ImportData object at 0x00000000054EF608>, <pefile.ImportData object at 0x00000000054EF688>, <pefile.ImportData object at 0x00000000054EF708>, <pefile.ImportData object at 0x00000000054EF788>]\n",
      "[<pefile.ImportData object at 0x0000000010CC2408>, <pefile.ImportData object at 0x0000000010CC26C8>, <pefile.ImportData object at 0x0000000010CC2748>, <pefile.ImportData object at 0x0000000010CC27C8>, <pefile.ImportData object at 0x0000000010CC2848>, <pefile.ImportData object at 0x0000000010CC2908>, <pefile.ImportData object at 0x0000000010CC2988>, <pefile.ImportData object at 0x0000000010CC2A08>, <pefile.ImportData object at 0x0000000010CC2A88>, <pefile.ImportData object at 0x0000000010CC28C8>, <pefile.ImportData object at 0x0000000010CC2B88>, <pefile.ImportData object at 0x0000000010CC2C08>, <pefile.ImportData object at 0x0000000010CC2C88>, <pefile.ImportData object at 0x0000000010CC2D08>, <pefile.ImportData object at 0x0000000010CC2D88>, <pefile.ImportData object at 0x0000000010CC2E48>, <pefile.ImportData object at 0x0000000010CC2F08>, <pefile.ImportData object at 0x0000000010CC2F88>, <pefile.ImportData object at 0x0000000010CC3048>, <pefile.ImportData object at 0x0000000010CC30C8>, <pefile.ImportData object at 0x0000000010CC3148>, <pefile.ImportData object at 0x0000000010CC31C8>, <pefile.ImportData object at 0x0000000010CC3288>, <pefile.ImportData object at 0x0000000010CC3348>, <pefile.ImportData object at 0x0000000010CC3408>, <pefile.ImportData object at 0x0000000010CC34C8>, <pefile.ImportData object at 0x0000000010CC3548>, <pefile.ImportData object at 0x0000000010CC35C8>, <pefile.ImportData object at 0x0000000010CC3648>, <pefile.ImportData object at 0x0000000010CC36C8>]\n",
      "[<pefile.ImportData object at 0x0000000010CCB188>, <pefile.ImportData object at 0x0000000010CCB288>, <pefile.ImportData object at 0x0000000010CCB308>, <pefile.ImportData object at 0x0000000010CCB3C8>, <pefile.ImportData object at 0x0000000010CCB488>, <pefile.ImportData object at 0x0000000010CCB548>, <pefile.ImportData object at 0x0000000010CCB5C8>, <pefile.ImportData object at 0x0000000010CCB688>, <pefile.ImportData object at 0x0000000010CCB748>]\n",
      "[<pefile.ImportData object at 0x0000000010CCE048>]\n",
      "[<pefile.ImportData object at 0x0000000010CD34C8>, <pefile.ImportData object at 0x0000000010CD37C8>, <pefile.ImportData object at 0x0000000010CD3888>, <pefile.ImportData object at 0x0000000010CD3948>, <pefile.ImportData object at 0x0000000010CD3A08>, <pefile.ImportData object at 0x0000000010CD3B08>]\n",
      "[<pefile.ImportData object at 0x0000000010CD46C8>]\n",
      "[<pefile.ImportData object at 0x0000000010CD6248>]\n",
      "[<pefile.ImportData object at 0x0000000010CD6F88>]\n"
     ]
    }
   ],
   "source": [
    "for entry in pe.DIRECTORY_ENTRY_IMPORT:\n",
    "    print(entry.imports)"
   ]
  },
  {
   "cell_type": "code",
   "execution_count": null,
   "metadata": {},
   "outputs": [],
   "source": [
    "def PE_sections():\n",
    "    table = []\n",
    "    for entry in self.pe.sections:\n",
    "        sect = {'entryname':str(entry.Name),'SizeOfRawData':hex(entry.SizeOfRawData),\n",
    "                'Entropy':entry.get_entropy(),\n",
    "                'MD5':entry.get_hash_md5(),\n",
    "                'SHA1':entry.get_hash_sha1(),\n",
    "                'SHA256':entry.get_hash_sha256(),\n",
    "                'SHA512':entry.get_hash_sha512()}\n",
    "        table.append(sect)\n",
    "        sect = {}\n",
    "    return table"
   ]
  },
  {
   "cell_type": "code",
   "execution_count": 166,
   "metadata": {},
   "outputs": [
    {
     "name": "stdout",
     "output_type": "stream",
     "text": [
      "'Invalid NT Headers signature. Probably a NE file'\n",
      "<class 'pefile.PEFormatError'>\n",
      "Invalid NT Headers signature. Probably a NE file\n",
      "<class 'str'>\n",
      "1\n"
     ]
    }
   ],
   "source": [
    "hj = {'Invalid NT Headers signature. Probably a NE file': 1}\n",
    "#print(hj['Invalid NT Headers signature. Probably a NE file'])\n",
    "try:\n",
    "    pe = pefile.PE('./AIFirst_data\\\\train\\\\white\\\\wowdeb.exe')\n",
    "except Exception as e:\n",
    "    print(e)\n",
    "    print(type(e))\n",
    "    err = str(e)\n",
    "    err = err.replace(\"'\", \"\")\n",
    "    print(err)\n",
    "    print(type(err))\n",
    "    #print(hj['r'])\n",
    "    print(hj[err])"
   ]
  },
  {
   "cell_type": "code",
   "execution_count": 95,
   "metadata": {},
   "outputs": [
    {
     "ename": "AttributeError",
     "evalue": "'PE' object has no attribute 'DIRECTORY_ENTRY_RESOURCE'",
     "output_type": "error",
     "traceback": [
      "\u001b[1;31m---------------------------------------------------------------------------\u001b[0m",
      "\u001b[1;31mAttributeError\u001b[0m                            Traceback (most recent call last)",
      "\u001b[1;32m<ipython-input-95-48d8d7bfc01e>\u001b[0m in \u001b[0;36m<module>\u001b[1;34m\u001b[0m\n\u001b[1;32m----> 1\u001b[1;33m \u001b[1;32mif\u001b[0m \u001b[0mpe\u001b[0m\u001b[1;33m.\u001b[0m\u001b[0mDIRECTORY_ENTRY_RESOURCE\u001b[0m\u001b[1;33m:\u001b[0m\u001b[1;33m\u001b[0m\u001b[1;33m\u001b[0m\u001b[0m\n\u001b[0m\u001b[0;32m      2\u001b[0m     \u001b[0mprint\u001b[0m\u001b[1;33m(\u001b[0m\u001b[1;36m2\u001b[0m\u001b[1;33m)\u001b[0m\u001b[1;33m\u001b[0m\u001b[1;33m\u001b[0m\u001b[0m\n",
      "\u001b[1;31mAttributeError\u001b[0m: 'PE' object has no attribute 'DIRECTORY_ENTRY_RESOURCE'"
     ]
    }
   ],
   "source": [
    "if pe.DIRECTORY_ENTRY_RESOURCE:\n",
    "    print(2)"
   ]
  },
  {
   "cell_type": "code",
   "execution_count": 148,
   "metadata": {},
   "outputs": [
    {
     "name": "stdout",
     "output_type": "stream",
     "text": [
      "7\n"
     ]
    }
   ],
   "source": [
    "exception_error = {\n",
    "    'Invalid NT Headers signature': 1,\n",
    "    'Invalid NT Headers signature. Probably a NE file': 2,\n",
    "    'Invalid e_lfanew value, probably not a PE file': 3,\n",
    "    'Invalid NT Headers signature. Probably a LE file': 4,\n",
    "    'Unable to read the DOS Header, possibly a truncated file': 5,\n",
    "    'DOS Header magic not found': 6,\n",
    "    'list index out of range': 7,\n",
    "}\n",
    "type(exception_error)\n",
    "print(exception_error['list index out of range'])"
   ]
  },
  {
   "cell_type": "code",
   "execution_count": 119,
   "metadata": {},
   "outputs": [
    {
     "data": {
      "text/plain": [
       "17744"
      ]
     },
     "execution_count": 119,
     "metadata": {},
     "output_type": "execute_result"
    }
   ],
   "source": [
    "pe.NT_HEADERS.Signature"
   ]
  },
  {
   "cell_type": "code",
   "execution_count": 120,
   "metadata": {},
   "outputs": [
    {
     "data": {
      "text/plain": [
       "0"
      ]
     },
     "execution_count": 120,
     "metadata": {},
     "output_type": "execute_result"
    }
   ],
   "source": [
    "pe.FILE_HEADER.NumberOfSymbols"
   ]
  },
  {
   "cell_type": "code",
   "execution_count": 135,
   "metadata": {},
   "outputs": [
    {
     "data": {
      "text/plain": [
       "[<Structure: [IMAGE_DIRECTORY_ENTRY_EXPORT] 0xF8 0x0 VirtualAddress: 0x0 0xFC 0x4 Size: 0x0>,\n",
       " <Structure: [IMAGE_DIRECTORY_ENTRY_IMPORT] 0x100 0x0 VirtualAddress: 0xC2000 0x104 0x4 Size: 0x48E>,\n",
       " <Structure: [IMAGE_DIRECTORY_ENTRY_RESOURCE] 0x108 0x0 VirtualAddress: 0xC3000 0x10C 0x4 Size: 0x1490>,\n",
       " <Structure: [IMAGE_DIRECTORY_ENTRY_EXCEPTION] 0x110 0x0 VirtualAddress: 0x0 0x114 0x4 Size: 0x0>,\n",
       " <Structure: [IMAGE_DIRECTORY_ENTRY_SECURITY] 0x118 0x0 VirtualAddress: 0x0 0x11C 0x4 Size: 0x0>,\n",
       " <Structure: [IMAGE_DIRECTORY_ENTRY_BASERELOC] 0x120 0x0 VirtualAddress: 0x0 0x124 0x4 Size: 0x0>,\n",
       " <Structure: [IMAGE_DIRECTORY_ENTRY_DEBUG] 0x128 0x0 VirtualAddress: 0x0 0x12C 0x4 Size: 0x0>,\n",
       " <Structure: [IMAGE_DIRECTORY_ENTRY_COPYRIGHT] 0x130 0x0 VirtualAddress: 0x0 0x134 0x4 Size: 0x0>,\n",
       " <Structure: [IMAGE_DIRECTORY_ENTRY_GLOBALPTR] 0x138 0x0 VirtualAddress: 0x0 0x13C 0x4 Size: 0x0>,\n",
       " <Structure: [IMAGE_DIRECTORY_ENTRY_TLS] 0x140 0x0 VirtualAddress: 0x0 0x144 0x4 Size: 0x0>,\n",
       " <Structure: [IMAGE_DIRECTORY_ENTRY_LOAD_CONFIG] 0x148 0x0 VirtualAddress: 0x0 0x14C 0x4 Size: 0x0>,\n",
       " <Structure: [IMAGE_DIRECTORY_ENTRY_BOUND_IMPORT] 0x150 0x0 VirtualAddress: 0x0 0x154 0x4 Size: 0x0>,\n",
       " <Structure: [IMAGE_DIRECTORY_ENTRY_IAT] 0x158 0x0 VirtualAddress: 0x0 0x15C 0x4 Size: 0x0>,\n",
       " <Structure: [IMAGE_DIRECTORY_ENTRY_DELAY_IMPORT] 0x160 0x0 VirtualAddress: 0x0 0x164 0x4 Size: 0x0>,\n",
       " <Structure: [IMAGE_DIRECTORY_ENTRY_COM_DESCRIPTOR] 0x168 0x0 VirtualAddress: 0x0 0x16C 0x4 Size: 0x100>,\n",
       " <Structure: [IMAGE_DIRECTORY_ENTRY_RESERVED] 0x170 0x0 VirtualAddress: 0x0 0x174 0x4 Size: 0x0>]"
      ]
     },
     "execution_count": 135,
     "metadata": {},
     "output_type": "execute_result"
    }
   ],
   "source": [
    "pe.OPTIONAL_HEADER.DATA_DIRECTORY"
   ]
  },
  {
   "cell_type": "code",
   "execution_count": 136,
   "metadata": {},
   "outputs": [
    {
     "data": {
      "text/plain": [
       "1166"
      ]
     },
     "execution_count": 136,
     "metadata": {},
     "output_type": "execute_result"
    }
   ],
   "source": [
    "pe.OPTIONAL_HEADER.DATA_DIRECTORY[1].Size"
   ]
  },
  {
   "cell_type": "code",
   "execution_count": 137,
   "metadata": {},
   "outputs": [
    {
     "ename": "AttributeError",
     "evalue": "'PE' object has no attribute 'DIRECTORY_ENTRY_IMPORT'",
     "output_type": "error",
     "traceback": [
      "\u001b[1;31m---------------------------------------------------------------------------\u001b[0m",
      "\u001b[1;31mAttributeError\u001b[0m                            Traceback (most recent call last)",
      "\u001b[1;32m<ipython-input-137-4cef97a28f28>\u001b[0m in \u001b[0;36m<module>\u001b[1;34m\u001b[0m\n\u001b[1;32m----> 1\u001b[1;33m \u001b[0mpe\u001b[0m\u001b[1;33m.\u001b[0m\u001b[0mDIRECTORY_ENTRY_IMPORT\u001b[0m\u001b[1;33m\u001b[0m\u001b[1;33m\u001b[0m\u001b[0m\n\u001b[0m",
      "\u001b[1;31mAttributeError\u001b[0m: 'PE' object has no attribute 'DIRECTORY_ENTRY_IMPORT'"
     ]
    }
   ],
   "source": [
    "pe.DIRECTORY_ENTRY_IMPORT"
   ]
  },
  {
   "cell_type": "code",
   "execution_count": 133,
   "metadata": {
    "scrolled": true
   },
   "outputs": [
    {
     "name": "stdout",
     "output_type": "stream",
     "text": [
      "[<pefile.ImportDescData object at 0x0000000009695688>, <pefile.ImportDescData object at 0x0000000009695F88>, <pefile.ImportDescData object at 0x00000000096A0C08>]\n"
     ]
    },
    {
     "data": {
      "text/plain": [
       "16"
      ]
     },
     "execution_count": 133,
     "metadata": {},
     "output_type": "execute_result"
    }
   ],
   "source": [
    "NumberOfFunctions = 0\n",
    "print(pe.DIRECTORY_ENTRY_IMPORT)\n",
    "for entry in pe.DIRECTORY_ENTRY_IMPORT:\n",
    "    NumberOfFunctions += len(entry.imports)\n",
    "NumberOfFunctions"
   ]
  },
  {
   "cell_type": "code",
   "execution_count": 130,
   "metadata": {},
   "outputs": [
    {
     "ename": "NameError",
     "evalue": "name 'python' is not defined",
     "output_type": "error",
     "traceback": [
      "\u001b[1;31m---------------------------------------------------------------------------\u001b[0m",
      "\u001b[1;31mNameError\u001b[0m                                 Traceback (most recent call last)",
      "\u001b[1;32m<ipython-input-130-a4637bbefc43>\u001b[0m in \u001b[0;36m<module>\u001b[1;34m\u001b[0m\n\u001b[1;32m----> 1\u001b[1;33m \u001b[0mpython\u001b[0m \u001b[1;33m-\u001b[0m\u001b[1;33m-\u001b[0m\u001b[0mversion\u001b[0m\u001b[1;33m\u001b[0m\u001b[1;33m\u001b[0m\u001b[0m\n\u001b[0m",
      "\u001b[1;31mNameError\u001b[0m: name 'python' is not defined"
     ]
    }
   ],
   "source": [
    "python --version"
   ]
  },
  {
   "cell_type": "code",
   "execution_count": 110,
   "metadata": {
    "scrolled": true
   },
   "outputs": [
    {
     "ename": "AttributeError",
     "evalue": "'list' object has no attribute 'struct'",
     "output_type": "error",
     "traceback": [
      "\u001b[1;31m---------------------------------------------------------------------------\u001b[0m",
      "\u001b[1;31mAttributeError\u001b[0m                            Traceback (most recent call last)",
      "\u001b[1;32m<ipython-input-110-2ee3d025408a>\u001b[0m in \u001b[0;36m<module>\u001b[1;34m\u001b[0m\n\u001b[1;32m----> 1\u001b[1;33m \u001b[0mpe\u001b[0m\u001b[1;33m.\u001b[0m\u001b[0mDIRECTORY_ENTRY_IMPORT\u001b[0m\u001b[1;33m.\u001b[0m\u001b[0mstruct\u001b[0m\u001b[1;33m.\u001b[0m\u001b[0mNumberOfFunctions\u001b[0m\u001b[1;33m\u001b[0m\u001b[1;33m\u001b[0m\u001b[0m\n\u001b[0m",
      "\u001b[1;31mAttributeError\u001b[0m: 'list' object has no attribute 'struct'"
     ]
    }
   ],
   "source": [
    "pe.DIRECTORY_ENTRY_IMPOR"
   ]
  },
  {
   "cell_type": "code",
   "execution_count": 98,
   "metadata": {},
   "outputs": [],
   "source": [
    "if pe.OPTIONAL_HEADER.DATA_DIRECTORY:\n",
    "    print(2)"
   ]
  },
  {
   "cell_type": "code",
   "execution_count": 99,
   "metadata": {},
   "outputs": [
    {
     "name": "stdout",
     "output_type": "stream",
     "text": [
      "[]\n"
     ]
    }
   ],
   "source": [
    "print(pe.OPTIONAL_HEADER.DATA_DIRECTORY)"
   ]
  },
  {
   "cell_type": "code",
   "execution_count": 80,
   "metadata": {},
   "outputs": [
    {
     "name": "stdout",
     "output_type": "stream",
     "text": [
      "[IMAGE_DIRECTORY_ENTRY_EXPORT]\n",
      "0x140      0x0   VirtualAddress:                0x75A34   \n",
      "0x144      0x4   Size:                          0xA4      \n"
     ]
    }
   ],
   "source": [
    "print(pe.OPTIONAL_HEADER.DATA_DIRECTORY[0])"
   ]
  },
  {
   "cell_type": "code",
   "execution_count": 90,
   "metadata": {},
   "outputs": [
    {
     "name": "stdout",
     "output_type": "stream",
     "text": [
      "4\n",
      "[<pefile.ImportDescData object at 0x0000000009F00B48>, <pefile.ImportDescData object at 0x0000000009FE5548>]\n"
     ]
    }
   ],
   "source": [
    "print(pe.DIRECTORY_ENTRY_EXPORT.struct.NumberOfFunctions)\n",
    "print(pe.DIRECTORY_ENTRY_IMPORT)"
   ]
  },
  {
   "cell_type": "code",
   "execution_count": 85,
   "metadata": {},
   "outputs": [
    {
     "ename": "TypeError",
     "evalue": "'ExportDirData' object is not iterable",
     "output_type": "error",
     "traceback": [
      "\u001b[1;31m---------------------------------------------------------------------------\u001b[0m",
      "\u001b[1;31mTypeError\u001b[0m                                 Traceback (most recent call last)",
      "\u001b[1;32m<ipython-input-85-63dd4c65ffad>\u001b[0m in \u001b[0;36m<module>\u001b[1;34m\u001b[0m\n\u001b[1;32m----> 1\u001b[1;33m \u001b[1;32mfor\u001b[0m \u001b[0mentry\u001b[0m \u001b[1;32min\u001b[0m \u001b[0mpe\u001b[0m\u001b[1;33m.\u001b[0m\u001b[0mDIRECTORY_ENTRY_EXPORT\u001b[0m\u001b[1;33m:\u001b[0m\u001b[1;33m\u001b[0m\u001b[1;33m\u001b[0m\u001b[0m\n\u001b[0m\u001b[0;32m      2\u001b[0m     \u001b[0mprint\u001b[0m\u001b[1;33m(\u001b[0m\u001b[0mentry\u001b[0m\u001b[1;33m.\u001b[0m\u001b[0mdll\u001b[0m\u001b[1;33m)\u001b[0m\u001b[1;33m\u001b[0m\u001b[1;33m\u001b[0m\u001b[0m\n\u001b[0;32m      3\u001b[0m     \u001b[1;32mfor\u001b[0m \u001b[0mfunction\u001b[0m \u001b[1;32min\u001b[0m \u001b[0mentry\u001b[0m\u001b[1;33m.\u001b[0m\u001b[0mimports\u001b[0m\u001b[1;33m:\u001b[0m\u001b[1;33m\u001b[0m\u001b[1;33m\u001b[0m\u001b[0m\n\u001b[0;32m      4\u001b[0m         \u001b[0mprint\u001b[0m\u001b[1;33m(\u001b[0m\u001b[1;34m'\\t'\u001b[0m\u001b[1;33m,\u001b[0m \u001b[0mfunction\u001b[0m\u001b[1;33m.\u001b[0m\u001b[0mname\u001b[0m\u001b[1;33m)\u001b[0m\u001b[1;33m\u001b[0m\u001b[1;33m\u001b[0m\u001b[0m\n",
      "\u001b[1;31mTypeError\u001b[0m: 'ExportDirData' object is not iterable"
     ]
    }
   ],
   "source": [
    "for entry in pe.DIRECTORY_ENTRY_EXPORT:\n",
    "    print(entry.dll)\n",
    "    for function in entry.imports:\n",
    "        print('\\t', function.name)"
   ]
  },
  {
   "cell_type": "code",
   "execution_count": 68,
   "metadata": {},
   "outputs": [
    {
     "name": "stdout",
     "output_type": "stream",
     "text": [
      "b'UPX0\\x00\\x00\\x00\\x00' 0x1000 0x61000 0\n",
      "b'UPX1\\x00\\x00\\x00\\x00' 0x62000 0x13000 77312\n",
      "b'.rsrc\\x00\\x00\\x00' 0x75000 0x1000 3072\n"
     ]
    }
   ],
   "source": [
    "for section in pe.sections:\n",
    "    print(section.Name, hex(section.VirtualAddress), hex(section.Misc_VirtualSize), section.SizeOfRawData)"
   ]
  },
  {
   "cell_type": "code",
   "execution_count": 71,
   "metadata": {},
   "outputs": [
    {
     "data": {
      "text/plain": [
       "16"
      ]
     },
     "execution_count": 71,
     "metadata": {},
     "output_type": "execute_result"
    }
   ],
   "source": [
    "len(pe.OPTIONAL_HEADER.DATA_DIRECTORY)"
   ]
  },
  {
   "cell_type": "code",
   "execution_count": 69,
   "metadata": {},
   "outputs": [
    {
     "data": {
      "text/plain": [
       "3"
      ]
     },
     "execution_count": 69,
     "metadata": {},
     "output_type": "execute_result"
    }
   ],
   "source": [
    "len(pe.sections)"
   ]
  },
  {
   "cell_type": "code",
   "execution_count": 36,
   "metadata": {},
   "outputs": [
    {
     "name": "stdout",
     "output_type": "stream",
     "text": [
      "<pefile.BaseRelocationData object at 0x000000000AA3DB08>\n"
     ]
    }
   ],
   "source": [
    "for i in pe.DIRECTORY_ENTRY_BASERELOC:\n",
    "    print(i)"
   ]
  },
  {
   "cell_type": "code",
   "execution_count": 50,
   "metadata": {},
   "outputs": [
    {
     "name": "stdout",
     "output_type": "stream",
     "text": [
      "5\n"
     ]
    }
   ],
   "source": [
    "reloc = pefile.DIRECTORY_ENTRY[\"IMAGE_DIRECTORY_ENTRY_BASERELOC\"]\n",
    "print(reloc)"
   ]
  },
  {
   "cell_type": "code",
   "execution_count": 48,
   "metadata": {},
   "outputs": [
    {
     "data": {
      "text/plain": [
       "16"
      ]
     },
     "execution_count": 48,
     "metadata": {},
     "output_type": "execute_result"
    }
   ],
   "source": [
    "len(pe.OPTIONAL_HEADER.DATA_DIRECTORY)"
   ]
  },
  {
   "cell_type": "code",
   "execution_count": 57,
   "metadata": {},
   "outputs": [
    {
     "data": {
      "text/plain": [
       "<Structure: [IMAGE_DIRECTORY_ENTRY_BASERELOC] 0x160 0x0 VirtualAddress: 0x0 0x164 0x4 Size: 0x0>"
      ]
     },
     "execution_count": 57,
     "metadata": {},
     "output_type": "execute_result"
    }
   ],
   "source": [
    "pe.OPTIONAL_HEADER.DATA_DIRECTORY[reloc]"
   ]
  },
  {
   "cell_type": "code",
   "execution_count": 63,
   "metadata": {},
   "outputs": [
    {
     "name": "stdout",
     "output_type": "stream",
     "text": [
      "b'.text\\x00\\x00\\x00' 0x1000 0x6674 26625\n"
     ]
    }
   ],
   "source": [
    "for section in pe.sections:\n",
    "      print(section.Name, hex(section.VirtualAddress), hex(section.Misc_VirtualSize), section.SizeOfRawData)"
   ]
  },
  {
   "cell_type": "code",
   "execution_count": 59,
   "metadata": {},
   "outputs": [
    {
     "name": "stdout",
     "output_type": "stream",
     "text": [
      "b'KERNEL32.dll'\n",
      "\t b'GetProcAddress'\n",
      "\t b'GetModuleHandleA'\n",
      "\t b'ExitProcess'\n",
      "\t b'GetStartupInfoA'\n",
      "\t b'GetCommandLineA'\n",
      "\t b'HeapAlloc'\n",
      "\t b'GetProcessHeap'\n"
     ]
    }
   ],
   "source": [
    "for entry in pe.DIRECTORY_ENTRY_IMPORT:\n",
    "    print(entry.dll)\n",
    "    for function in entry.imports:\n",
    "        print('\\t', function.name)"
   ]
  },
  {
   "cell_type": "code",
   "execution_count": 61,
   "metadata": {},
   "outputs": [
    {
     "ename": "AttributeError",
     "evalue": "'PE' object has no attribute 'DIRECTORY_ENTRY_BASERELOC'",
     "output_type": "error",
     "traceback": [
      "\u001b[1;31m---------------------------------------------------------------------------\u001b[0m",
      "\u001b[1;31mAttributeError\u001b[0m                            Traceback (most recent call last)",
      "\u001b[1;32m<ipython-input-61-c544308bc81d>\u001b[0m in \u001b[0;36m<module>\u001b[1;34m\u001b[0m\n\u001b[1;32m----> 1\u001b[1;33m \u001b[0mpe\u001b[0m\u001b[1;33m.\u001b[0m\u001b[0mDIRECTORY_ENTRY_BASERELOC\u001b[0m\u001b[1;33m\u001b[0m\u001b[1;33m\u001b[0m\u001b[0m\n\u001b[0m\u001b[0;32m      2\u001b[0m \u001b[1;32mfor\u001b[0m \u001b[0mbase_reloc\u001b[0m \u001b[1;32min\u001b[0m \u001b[0mpe\u001b[0m\u001b[1;33m.\u001b[0m\u001b[0mDIRECTORY_ENTRY_BASERELOC\u001b[0m\u001b[1;33m:\u001b[0m\u001b[1;33m\u001b[0m\u001b[1;33m\u001b[0m\u001b[0m\n\u001b[0;32m      3\u001b[0m     \u001b[1;32mfor\u001b[0m \u001b[0mreloc\u001b[0m \u001b[1;32min\u001b[0m \u001b[0mbase_reloc\u001b[0m\u001b[1;33m.\u001b[0m\u001b[0mentries\u001b[0m\u001b[1;33m:\u001b[0m\u001b[1;33m\u001b[0m\u001b[1;33m\u001b[0m\u001b[0m\n\u001b[0;32m      4\u001b[0m         \u001b[0mprint\u001b[0m\u001b[1;33m(\u001b[0m\u001b[0mhex\u001b[0m\u001b[1;33m(\u001b[0m\u001b[0mreloc\u001b[0m\u001b[1;33m.\u001b[0m\u001b[0mrva\u001b[0m\u001b[1;33m)\u001b[0m\u001b[1;33m,\u001b[0m \u001b[0mhex\u001b[0m\u001b[1;33m(\u001b[0m\u001b[0mreloc\u001b[0m\u001b[1;33m.\u001b[0m\u001b[0mtype\u001b[0m\u001b[1;33m)\u001b[0m\u001b[1;33m)\u001b[0m\u001b[1;33m\u001b[0m\u001b[1;33m\u001b[0m\u001b[0m\n",
      "\u001b[1;31mAttributeError\u001b[0m: 'PE' object has no attribute 'DIRECTORY_ENTRY_BASERELOC'"
     ]
    }
   ],
   "source": [
    "\n",
    "for base_reloc in pe.DIRECTORY_ENTRY_BASERELOC:\n",
    "    for reloc in base_reloc.entries:\n",
    "        print(hex(reloc.rva), hex(reloc.type))"
   ]
  },
  {
   "cell_type": "code",
   "execution_count": 67,
   "metadata": {},
   "outputs": [
    {
     "data": {
      "text/plain": [
       "[<pefile.BaseRelocationData at 0x999a288>]"
      ]
     },
     "execution_count": 67,
     "metadata": {},
     "output_type": "execute_result"
    }
   ],
   "source": [
    "pe.DIRECTORY_ENTRY_BASERELOC"
   ]
  },
  {
   "cell_type": "code",
   "execution_count": 15,
   "metadata": {},
   "outputs": [
    {
     "name": "stdout",
     "output_type": "stream",
     "text": [
      "<class 'pefile.PE'>\n"
     ]
    }
   ],
   "source": [
    "print(type(pe))"
   ]
  },
  {
   "cell_type": "code",
   "execution_count": 17,
   "metadata": {
    "scrolled": true
   },
   "outputs": [
    {
     "name": "stdout",
     "output_type": "stream",
     "text": [
      "['__IMAGE_BASE_RELOCATION_ENTRY_format__', '__IMAGE_BASE_RELOCATION_format__', '__IMAGE_BOUND_FORWARDER_REF_format__', '__IMAGE_BOUND_IMPORT_DESCRIPTOR_format__', '__IMAGE_DATA_DIRECTORY_format__', '__IMAGE_DEBUG_DIRECTORY_format__', '__IMAGE_DELAY_IMPORT_DESCRIPTOR_format__', '__IMAGE_DOS_HEADER_format__', '__IMAGE_EXPORT_DIRECTORY_format__', '__IMAGE_FILE_HEADER_format__', '__IMAGE_IMPORT_DESCRIPTOR_format__', '__IMAGE_LOAD_CONFIG_DIRECTORY64_format__', '__IMAGE_LOAD_CONFIG_DIRECTORY_format__', '__IMAGE_NT_HEADERS_format__', '__IMAGE_OPTIONAL_HEADER64_format__', '__IMAGE_OPTIONAL_HEADER_format__', '__IMAGE_RESOURCE_DATA_ENTRY_format__', '__IMAGE_RESOURCE_DIRECTORY_ENTRY_format__', '__IMAGE_RESOURCE_DIRECTORY_format__', '__IMAGE_SECTION_HEADER_format__', '__IMAGE_THUNK_DATA64_format__', '__IMAGE_THUNK_DATA_format__', '__IMAGE_TLS_DIRECTORY64_format__', '__IMAGE_TLS_DIRECTORY_format__', '__StringFileInfo_format__', '__StringTable_format__', '__String_format__', '__VS_FIXEDFILEINFO_format__', '__VS_VERSIONINFO_format__', '__Var_format__', '__class__', '__delattr__', '__dict__', '__dir__', '__doc__', '__eq__', '__format__', '__ge__', '__getattribute__', '__gt__', '__hash__', '__init__', '__init_subclass__', '__le__', '__lt__', '__module__', '__ne__', '__new__', '__parse__', '__reduce__', '__reduce_ex__', '__repr__', '__setattr__', '__sizeof__', '__str__', '__subclasshook__', '__unpack_data__', '__weakref__', 'adjust_FileAlignment', 'adjust_SectionAlignment', 'close', 'dump_dict', 'dump_info', 'dword_align', 'full_load', 'generate_checksum', 'get_bytes_from_data', 'get_data', 'get_data_from_dword', 'get_data_from_qword', 'get_data_from_word', 'get_dword_at_rva', 'get_dword_from_data', 'get_dword_from_offset', 'get_imphash', 'get_import_table', 'get_memory_mapped_image', 'get_offset_from_rva', 'get_overlay', 'get_overlay_data_start_offset', 'get_physical_by_rva', 'get_qword_at_rva', 'get_qword_from_data', 'get_qword_from_offset', 'get_resources_strings', 'get_rva_from_offset', 'get_section_by_offset', 'get_section_by_rva', 'get_string_at_rva', 'get_string_from_data', 'get_string_u_at_rva', 'get_warnings', 'get_word_at_rva', 'get_word_from_data', 'get_word_from_offset', 'has_relocs', 'is_dll', 'is_driver', 'is_exe', 'merge_modified_section_data', 'parse_data_directories', 'parse_debug_directory', 'parse_delay_import_directory', 'parse_directory_bound_imports', 'parse_directory_load_config', 'parse_directory_tls', 'parse_export_directory', 'parse_import_directory', 'parse_imports', 'parse_relocations', 'parse_relocations_directory', 'parse_resource_data_entry', 'parse_resource_entry', 'parse_resources_directory', 'parse_rich_header', 'parse_sections', 'parse_version_information', 'print_info', 'relocate_image', 'set_bytes_at_offset', 'set_bytes_at_rva', 'set_dword_at_offset', 'set_dword_at_rva', 'set_qword_at_offset', 'set_qword_at_rva', 'set_word_at_offset', 'set_word_at_rva', 'show_warnings', 'trim', 'verify_checksum', 'write']\n",
      "b'KERNEL32.DLL'\n",
      "b'GetLocalTime'\n",
      "b'ExitThread'\n",
      "b'CloseHandle'\n",
      "b'WriteFile'\n",
      "b'CreateFileA'\n",
      "b'ExitProcess'\n",
      "b'CreateProcessA'\n",
      "b'GetTickCount'\n",
      "b'GetModuleFileNameA'\n",
      "b'GetSystemDirectoryA'\n",
      "b'Sleep'\n",
      "b'GetTimeFormatA'\n",
      "b'GetDateFormatA'\n",
      "b'GetLastError'\n",
      "b'CreateThread'\n",
      "b'GetFileSize'\n",
      "b'GetFileAttributesA'\n",
      "b'FindClose'\n",
      "b'FileTimeToSystemTime'\n",
      "b'FileTimeToLocalFileTime'\n",
      "b'FindNextFileA'\n",
      "b'FindFirstFileA'\n",
      "b'ReadFile'\n",
      "b'SetFilePointer'\n",
      "b'WriteConsoleA'\n",
      "b'GetStdHandle'\n",
      "b'LoadLibraryA'\n",
      "b'GetProcAddress'\n",
      "b'GetModuleHandleA'\n",
      "b'FormatMessageA'\n",
      "b'GlobalUnlock'\n",
      "b'GlobalLock'\n",
      "b'UnmapViewOfFile'\n",
      "b'MapViewOfFile'\n",
      "b'CreateFileMappingA'\n",
      "b'SetFileTime'\n",
      "b'GetFileTime'\n",
      "b'ExpandEnvironmentStringsA'\n",
      "b'SetFileAttributesA'\n",
      "b'GetTempPathA'\n",
      "b'GetCurrentProcess'\n",
      "b'TerminateProcess'\n",
      "b'OpenProcess'\n",
      "b'GetComputerNameA'\n",
      "b'GetLocaleInfoA'\n",
      "b'GetVersionExA'\n",
      "b'TerminateThread'\n",
      "b'FlushFileBuffers'\n",
      "b'SetStdHandle'\n",
      "b'IsBadWritePtr'\n",
      "b'IsBadReadPtr'\n",
      "b'HeapValidate'\n",
      "b'GetStartupInfoA'\n",
      "b'GetCommandLineA'\n",
      "b'GetVersion'\n",
      "b'DebugBreak'\n",
      "b'InterlockedDecrement'\n",
      "b'OutputDebugStringA'\n",
      "b'InterlockedIncrement'\n",
      "b'HeapAlloc'\n",
      "b'HeapReAlloc'\n",
      "b'HeapFree'\n",
      "b'HeapDestroy'\n",
      "b'HeapCreate'\n",
      "b'VirtualFree'\n",
      "b'VirtualAlloc'\n",
      "b'WideCharToMultiByte'\n",
      "b'MultiByteToWideChar'\n",
      "b'LCMapStringA'\n",
      "b'LCMapStringW'\n",
      "b'GetCPInfo'\n",
      "b'GetACP'\n",
      "b'GetOEMCP'\n",
      "b'UnhandledExceptionFilter'\n",
      "b'FreeEnvironmentStringsA'\n",
      "b'FreeEnvironmentStringsW'\n",
      "b'GetEnvironmentStrings'\n",
      "b'GetEnvironmentStringsW'\n",
      "b'SetHandleCount'\n",
      "b'GetFileType'\n",
      "b'RtlUnwind'\n",
      "b'SetConsoleCtrlHandler'\n",
      "b'GetStringTypeA'\n",
      "b'GetStringTypeW'\n",
      "b'SetEndOfFile'\n",
      "\n",
      "b'USER32.dll'\n",
      "b'MessageBoxA'\n",
      "\n"
     ]
    }
   ],
   "source": [
    "print(dir(pefile.PE))\n",
    "#获取导入表信息\n",
    "for item in pe.DIRECTORY_ENTRY_IMPORT:\n",
    "    print(item.dll)\n",
    "    for con in item.imports:\n",
    "        print(con.name)\n",
    "    print(\"\") #换行"
   ]
  },
  {
   "cell_type": "code",
   "execution_count": 18,
   "metadata": {
    "scrolled": true
   },
   "outputs": [
    {
     "name": "stdout",
     "output_type": "stream",
     "text": [
      "[IMAGE_DOS_HEADER]\n",
      "0x0        0x0   e_magic:                       0x5A4D    \n",
      "0x2        0x2   e_cblp:                        0x90      \n",
      "0x4        0x4   e_cp:                          0x3       \n",
      "0x6        0x6   e_crlc:                        0x0       \n",
      "0x8        0x8   e_cparhdr:                     0x4       \n",
      "0xA        0xA   e_minalloc:                    0x0       \n",
      "0xC        0xC   e_maxalloc:                    0xFFFF    \n",
      "0xE        0xE   e_ss:                          0x0       \n",
      "0x10       0x10  e_sp:                          0xB8      \n",
      "0x12       0x12  e_csum:                        0x0       \n",
      "0x14       0x14  e_ip:                          0x0       \n",
      "0x16       0x16  e_cs:                          0x0       \n",
      "0x18       0x18  e_lfarlc:                      0x40      \n",
      "0x1A       0x1A  e_ovno:                        0x0       \n",
      "0x1C       0x1C  e_res:                         \n",
      "0x24       0x24  e_oemid:                       0x0       \n",
      "0x26       0x26  e_oeminfo:                     0x0       \n",
      "0x28       0x28  e_res2:                        \n",
      "0x3C       0x3C  e_lfanew:                      0xE0       \n",
      "\n",
      "[IMAGE_NT_HEADERS]\n",
      "0xE0       0x0   Signature:                     0x4550     \n",
      "\n",
      "[IMAGE_FILE_HEADER]\n",
      "0xE4       0x0   Machine:                       0x14C     \n",
      "0xE6       0x2   NumberOfSections:              0x5       \n",
      "0xE8       0x4   TimeDateStamp:                 0x4F79D506 [Mon Apr  2 16:34:14 2012 UTC]\n",
      "0xEC       0x8   PointerToSymbolTable:          0x0       \n",
      "0xF0       0xC   NumberOfSymbols:               0x0       \n",
      "0xF4       0x10  SizeOfOptionalHeader:          0xE0      \n",
      "0xF6       0x12  Characteristics:               0x10F      \n",
      "\n",
      "[IMAGE_OPTIONAL_HEADER]\n",
      "0xF8       0x0   Magic:                         0x10B     \n",
      "0xFA       0x2   MajorLinkerVersion:            0x6       \n",
      "0xFB       0x3   MinorLinkerVersion:            0x0       \n",
      "0xFC       0x4   SizeOfCode:                    0x32A00   \n",
      "0x100      0x8   SizeOfInitializedData:         0x64200   \n",
      "0x104      0xC   SizeOfUninitializedData:       0x0       \n",
      "0x108      0x10  AddressOfEntryPoint:           0xCC00FFEE\n",
      "0x10C      0x14  BaseOfCode:                    0x1000    \n",
      "0x110      0x18  BaseOfData:                    0x1000    \n",
      "0x114      0x1C  ImageBase:                     0x400000  \n",
      "0x118      0x20  SectionAlignment:              0x1000    \n",
      "0x11C      0x24  FileAlignment:                 0x200     \n",
      "0x120      0x28  MajorOperatingSystemVersion:   0x4       \n",
      "0x122      0x2A  MinorOperatingSystemVersion:   0x0       \n",
      "0x124      0x2C  MajorImageVersion:             0x0       \n",
      "0x126      0x2E  MinorImageVersion:             0x0       \n",
      "0x128      0x30  MajorSubsystemVersion:         0x4       \n",
      "0x12A      0x32  MinorSubsystemVersion:         0x0       \n",
      "0x12C      0x34  Reserved1:                     0x0       \n",
      "0x130      0x38  SizeOfImage:                   0x9A000   \n",
      "0x134      0x3C  SizeOfHeaders:                 0x1000    \n",
      "0x138      0x40  CheckSum:                      0x0       \n",
      "0x13C      0x44  Subsystem:                     0x2       \n",
      "0x13E      0x46  DllCharacteristics:            0x0       \n",
      "0x140      0x48  SizeOfStackReserve:            0x100000  \n",
      "0x144      0x4C  SizeOfStackCommit:             0x1000    \n",
      "0x148      0x50  SizeOfHeapReserve:             0x100000  \n",
      "0x14C      0x54  SizeOfHeapCommit:              0x1000    \n",
      "0x150      0x58  LoaderFlags:                   0x0       \n",
      "0x154      0x5C  NumberOfRvaAndSizes:           0x10       \n",
      "\n"
     ]
    }
   ],
   "source": [
    "#显示DOS_HEADER\n",
    "print(pe.DOS_HEADER,\"\\n\")\n",
    "\n",
    "#显示NT_HEADERS\n",
    "print(pe.NT_HEADERS,\"\\n\")\n",
    "\n",
    "#显示FILE_HEADER\n",
    "print(pe.FILE_HEADER,\"\\n\")\n",
    "\n",
    "#显示OPTIONAL_HEADER\n",
    "print(pe.OPTIONAL_HEADER,\"\\n\")"
   ]
  },
  {
   "cell_type": "code",
   "execution_count": 21,
   "metadata": {},
   "outputs": [
    {
     "name": "stdout",
     "output_type": "stream",
     "text": [
      "<class 'pefile.Structure'>\n",
      "[IMAGE_FILE_HEADER]\n",
      "0xE4       0x0   Machine:                       0x14C     \n",
      "0xE6       0x2   NumberOfSections:              0x5       \n",
      "0xE8       0x4   TimeDateStamp:                 0x4F79D506 [Mon Apr  2 16:34:14 2012 UTC]\n",
      "0xEC       0x8   PointerToSymbolTable:          0x0       \n",
      "0xF0       0xC   NumberOfSymbols:               0x0       \n",
      "0xF4       0x10  SizeOfOptionalHeader:          0xE0      \n",
      "0xF6       0x12  Characteristics:               0x10F     \n",
      "Mon Apr  2 16:34:14 2012 UTC\n"
     ]
    },
    {
     "name": "stderr",
     "output_type": "stream",
     "text": [
      "C:\\Users\\Administrator\\Anaconda3\\lib\\site-packages\\ipykernel_launcher.py:7: FutureWarning: Possible nested set at position 1\n",
      "  import sys\n"
     ]
    }
   ],
   "source": [
    "fh = pe.FILE_HEADER\n",
    "print(type(fh)) #<class 'pefile.Structure'>\n",
    "print(str(fh))\n",
    "\n",
    "import re\n",
    "#经过正则表达式获取时间\n",
    "p = re.compile(r'[[](.*?)[]]', re.I|re.S|re.M)   #最小匹配\n",
    "res = re.findall(p, str(fh))\n",
    "print(res[1])                                    #第一个值是IMAGE_FILE_HEADER"
   ]
  },
  {
   "cell_type": "code",
   "execution_count": 22,
   "metadata": {},
   "outputs": [
    {
     "name": "stdout",
     "output_type": "stream",
     "text": [
      "1333384454\n"
     ]
    }
   ],
   "source": [
    "print(pe.FILE_HEADER.TimeDateStamp)"
   ]
  },
  {
   "cell_type": "code",
   "execution_count": 30,
   "metadata": {},
   "outputs": [
    {
     "name": "stdout",
     "output_type": "stream",
     "text": [
      "Tue Apr  3 00:34:14 2012\n",
      "2012-04-03 00:34:14\n",
      "2012-04-02 16:34:14\n"
     ]
    }
   ],
   "source": [
    "import time #引入time模块\n",
    "\n",
    "localtime = time.localtime(1333384454) #返回时间元组\n",
    "newtime= time.asctime(localtime) #获取格式化时间\n",
    "print(newtime)\n",
    "\n",
    "timeStr=time.strftime(\"%Y-%m-%d %H:%M:%S\", localtime)\n",
    "print(timeStr)\n",
    "\n",
    "import pytz, datetime\n",
    "# 本地时间转换为UTC  传入的本地时间戳 1531411200\n",
    "def local_to_utc(local_ts, utc_format='%Y-%m-%d %H:%M:%S'):\n",
    "    local_tz = pytz.timezone('Asia/Chongqing')    #定义本地时区\n",
    "    local_format = \"%Y-%m-%d %H:%M:%S\"               #定义本地时间format\n",
    "\n",
    "    time_str = time.strftime(local_format, time.localtime(local_ts))    #首先将本地时间戳转化为时间元组，用strftime格式化成字符串\n",
    "    dt = datetime.datetime.strptime(time_str, local_format)             #将字符串用strptime 转为为datetime中 datetime格式\n",
    "    local_dt = local_tz.localize(dt, is_dst=None)                       #给时间添加时区，等价于 dt.replace(tzinfo=pytz.timezone('Asia/Chongqing'))\n",
    "    utc_dt = local_dt.astimezone(pytz.utc)                              #astimezone切换时区\n",
    "    return utc_dt.strftime(utc_format)                                  #返回世界时间格式\n",
    "print(local_to_utc(1333384454))"
   ]
  },
  {
   "cell_type": "code",
   "execution_count": 11,
   "metadata": {
    "scrolled": true
   },
   "outputs": [
    {
     "name": "stdout",
     "output_type": "stream",
     "text": [
      "Dos Header\n",
      "==========\n",
      "Magic:                        5a4d\n",
      "Used Bytes In The LastPage:   90\n",
      "File Size In Pages:           3\n",
      "Number Of Relocation:         0\n",
      "Header Size In Paragraphs:    4\n",
      "Minimum Extra Paragraphs:     0\n",
      "Maximum Extra Paragraphs:     ffff\n",
      "Initial Relative SS:          0\n",
      "Initial SP:                   b8\n",
      "Checksum:                     0\n",
      "Initial IP:                   0\n",
      "Initial Relative CS:          0\n",
      "Address Of Relocation Table:  40\n",
      "Overlay Number:               0\n",
      "OEM id:                       0\n",
      "OEM info:                     0\n",
      "Address Of New Exe Header:    e0\n",
      "\n",
      "Rich Header\n",
      "===========\n",
      "Key: 9c1782a6\n",
      "  - ID: 0xb000 Build ID: 0x1fe8 Count: 19\n",
      "  - ID: 0x1000 Build ID: 0x0000 Count: 86\n",
      "  - ID: 0x1300 Build ID: 0x1f62 Count: 5\n",
      "  - ID: 0xa000 Build ID: 0x1fe8 Count: 90\n",
      "  - ID: 0xe000 Build ID: 0x1c83 Count: 18\n",
      "  - ID: 0xc000 Build ID: 0x1c7b Count: 1\n",
      "  - ID: 0x0000 Build ID: 0x0000 Count: 0\n",
      "\n",
      "\n",
      "Header\n",
      "======\n",
      "Signature:                    50 45 0 0 \n",
      "Machine:                      I386\n",
      "Number Of Sections:           5\n",
      "Pointer To Symbol Table:      0\n",
      "Number Of Symbols:            0\n",
      "Size Of Optional Header:      e0\n",
      "Characteristics:              RELOCS_STRIPPED - EXECUTABLE_IMAGE - LINE_NUMS_STRIPPED - LOCAL_SYMS_STRIPPED - CHARA_32BIT_MACHINE\n",
      "Time Date Stamp:              4f79d506\n",
      "\n",
      "Optional Header\n",
      "===============\n",
      "Magic:                           10b\n",
      "Major Linker Version:            6\n",
      "Minor Linker Version:            0\n",
      "Size Of Code:                    32a00\n",
      "Size Of Initialized Data:        64200\n",
      "Size Of Uninitialized Data:      0\n",
      "Address Of Entry Point:          cc00ffee\n",
      "Base Of Code:                    1000\n",
      "Base Of Data:                    1000\n",
      "Image Base:                      400000\n",
      "Section Alignment:               1000\n",
      "File Alignment:                  200\n",
      "Major Operating System Version:  4\n",
      "Minor Operating System Version:  0\n",
      "Major Image Version:             0\n",
      "Minor Image Version:             0\n",
      "Major Subsystem Version:         4\n",
      "Minor Subsystem Version:         0\n",
      "Win32 Version Value:             0\n",
      "Size Of Image:                   9a000\n",
      "Size Of Headers:                 1000\n",
      "CheckSum:                        0\n",
      "Subsystem:                       WINDOWS_GUI\n",
      "DLL Characteristics:             \n",
      "Size Of Stack Reserve:           100000\n",
      "Size Of Stack Commit:            1000\n",
      "Size Of Heap Reserve:            100000\n",
      "Size Of Heap Commit:             1000\n",
      "Loader Flags:                    0\n",
      "Number Of RVA And Size:          10\n",
      "\n",
      "Data directories\n",
      "================\n",
      "Data directory \"EXPORT_TABLE\"\n",
      "RVA:      0\n",
      "Size:     0\n",
      "\n",
      "Data directory \"IMPORT_TABLE\"\n",
      "RVA:      96000\n",
      "Size:     3c\n",
      "Section:  .idata\n",
      "\n",
      "Data directory \"RESOURCE_TABLE\"\n",
      "RVA:      0\n",
      "Size:     0\n",
      "\n",
      "Data directory \"EXCEPTION_TABLE\"\n",
      "RVA:      0\n",
      "Size:     0\n",
      "\n",
      "Data directory \"CERTIFICATE_TABLE\"\n",
      "RVA:      0\n",
      "Size:     0\n",
      "\n",
      "Data directory \"BASE_RELOCATION_TABLE\"\n",
      "RVA:      0\n",
      "Size:     0\n",
      "\n",
      "Data directory \"DEBUG\"\n",
      "RVA:      0\n",
      "Size:     0\n",
      "\n",
      "Data directory \"ARCHITECTURE\"\n",
      "RVA:      0\n",
      "Size:     0\n",
      "\n",
      "Data directory \"GLOBAL_PTR\"\n",
      "RVA:      0\n",
      "Size:     0\n",
      "\n",
      "Data directory \"TLS_TABLE\"\n",
      "RVA:      0\n",
      "Size:     0\n",
      "\n",
      "Data directory \"LOAD_CONFIG_TABLE\"\n",
      "RVA:      0\n",
      "Size:     0\n",
      "\n",
      "Data directory \"BOUND_IMPORT\"\n",
      "RVA:      0\n",
      "Size:     0\n",
      "\n",
      "Data directory \"IAT\"\n",
      "RVA:      0\n",
      "Size:     0\n",
      "\n",
      "Data directory \"DELAY_IMPORT_DESCRIPTOR\"\n",
      "RVA:      0\n",
      "Size:     0\n",
      "\n",
      "Data directory \"CLR_RUNTIME_HEADER\"\n",
      "RVA:      0\n",
      "Size:     0\n",
      "\n",
      "\n",
      "Sections\n",
      "========\n",
      ".text     32830     1000      32a00     400       0         4.46455   CNT_CODE - MEM_EXECUTE - MEM_READ\n",
      ".rdata    427a      34000     4400      32e00     0         5.24038   CNT_INITIALIZED_DATA - MEM_READ\n",
      ".data     5cff8     39000     2a00      37200     0         2.52828   CNT_INITIALIZED_DATA - MEM_READ - MEM_WRITE\n",
      ".idata    bb0       96000     c00       39c00     0         3.555     CNT_INITIALIZED_DATA - MEM_READ - MEM_WRITE\n",
      ".reloc    211d      97000     2200      3a800     0         -0        CNT_INITIALIZED_DATA - MEM_DISCARDABLE - MEM_READ\n",
      "\n",
      "Imports\n",
      "=======\n",
      "KERNEL32.DLL        0         96230     0         0         \n",
      "\t - GetLocalTime                     9643c               9643c               0                   \n",
      "\n",
      "USER32.dll          0         963f4     0         0         \n",
      "\t - MessageBoxA                      969a6               969a6               0                   \n",
      "\n",
      "\n",
      "Symbols\n",
      "=======\n",
      "\n",
      "\n"
     ]
    }
   ],
   "source": [
    "import lief\n",
    "\n",
    "pe = lief.PE.parse('./ircbot.exe')\n",
    "print(pe)"
   ]
  },
  {
   "cell_type": "code",
   "execution_count": 13,
   "metadata": {},
   "outputs": [
    {
     "name": "stdout",
     "output_type": "stream",
     "text": [
      "630784\n",
      "False\n",
      "0\n",
      "2\n",
      "False\n",
      "False\n",
      "False\n",
      "False\n",
      "0\n"
     ]
    }
   ],
   "source": [
    "print(pe.virtual_size)\t\t\t\t#\n",
    "print(pe.has_debug)\t\t\t\t\t#是否包含debug信息\n",
    "print(len(pe.exported_functions))\t#导出函数的个数\n",
    "print(len(pe.imported_functions))\t#导入函数的个数\n",
    "print(pe.has_relocations)\t\t\t#是否启用了重定向\n",
    "print(pe.has_resources)\t\t\t\t#是否包含资源文件\n",
    "print(pe.has_signature)\t\t\t\t#是否包含信号量\n",
    "print(pe.has_tls)\t\t\t\t\t#是否启用了TLS回调函数\n",
    "print(len(pe.symbols))\t\t\t\t#符号个数\n"
   ]
  },
  {
   "cell_type": "code",
   "execution_count": 2,
   "metadata": {},
   "outputs": [
    {
     "data": {
      "text/html": [
       "<div>\n",
       "<style scoped>\n",
       "    .dataframe tbody tr th:only-of-type {\n",
       "        vertical-align: middle;\n",
       "    }\n",
       "\n",
       "    .dataframe tbody tr th {\n",
       "        vertical-align: top;\n",
       "    }\n",
       "\n",
       "    .dataframe thead th {\n",
       "        text-align: right;\n",
       "    }\n",
       "</style>\n",
       "<table border=\"1\" class=\"dataframe\">\n",
       "  <thead>\n",
       "    <tr style=\"text-align: right;\">\n",
       "      <th></th>\n",
       "      <th>a</th>\n",
       "      <th>b</th>\n",
       "    </tr>\n",
       "  </thead>\n",
       "  <tbody>\n",
       "    <tr>\n",
       "      <td>0</td>\n",
       "      <td>1</td>\n",
       "      <td>2</td>\n",
       "    </tr>\n",
       "    <tr>\n",
       "      <td>1</td>\n",
       "      <td>5</td>\n",
       "      <td>6</td>\n",
       "    </tr>\n",
       "  </tbody>\n",
       "</table>\n",
       "</div>"
      ],
      "text/plain": [
       "   a  b\n",
       "0  1  2\n",
       "1  5  6"
      ]
     },
     "execution_count": 2,
     "metadata": {},
     "output_type": "execute_result"
    }
   ],
   "source": [
    "import pandas as pd\n",
    "\n",
    "data = [{'a': 1, 'b': 2}, {'a': 5, 'b': 6}]\n",
    "df = pd.DataFrame(data)  # 指定行索引\n",
    "df"
   ]
  },
  {
   "cell_type": "code",
   "execution_count": null,
   "metadata": {},
   "outputs": [],
   "source": []
  }
 ],
 "metadata": {
  "kernelspec": {
   "display_name": "Python 3",
   "language": "python",
   "name": "python3"
  },
  "language_info": {
   "codemirror_mode": {
    "name": "ipython",
    "version": 3
   },
   "file_extension": ".py",
   "mimetype": "text/x-python",
   "name": "python",
   "nbconvert_exporter": "python",
   "pygments_lexer": "ipython3",
   "version": "3.7.4"
  }
 },
 "nbformat": 4,
 "nbformat_minor": 2
}

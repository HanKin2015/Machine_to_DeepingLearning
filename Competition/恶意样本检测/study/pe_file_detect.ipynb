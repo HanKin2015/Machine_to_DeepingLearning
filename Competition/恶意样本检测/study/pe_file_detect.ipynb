{
 "cells": [
  {
   "cell_type": "code",
   "execution_count": 3,
   "metadata": {},
   "outputs": [],
   "source": [
    "# [神操作：教你用Python识别恶意软件](https://mp.weixin.qq.com/s/kw5cOTIqisRuKYz9UNCbrQ)\n",
    "import pefile\n",
    "\n",
    "pe = pefile.PE('./ircbot.exe')"
   ]
  },
  {
   "cell_type": "code",
   "execution_count": 4,
   "metadata": {},
   "outputs": [
    {
     "name": "stdout",
     "output_type": "stream",
     "text": [
      "b'.text\\x00\\x00\\x00' 0x1000 0x32830 207360\n",
      "b'.rdata\\x00\\x00' 0x34000 0x427a 17408\n",
      "b'.data\\x00\\x00\\x00' 0x39000 0x5cff8 10752\n",
      "b'.idata\\x00\\x00' 0x96000 0xbb0 3072\n",
      "b'.reloc\\x00\\x00' 0x97000 0x211d 8704\n"
     ]
    }
   ],
   "source": [
    "# 从PE文件五个不同的节中提取了数据：.text、.rdata、.data、.idata和.reloc。输出是以五元组的形式给出，每提取一个PE节对应一个元素。每一行的第一个条目标识PE节。（你可以忽略一系列的\\x00空字节，它们只是C语言样式的空字符串终止符。）其余字段告诉我们，一旦将每个节被加载到内存中，它的内存利用率将是多少，以及一旦被加载，它将在内存中的何处被找到。\n",
    "for section in pe.sections:\n",
    "    print(section.Name, hex(section.VirtualAddress), hex(section.Misc_VirtualSize), section.SizeOfRawData)"
   ]
  },
  {
   "cell_type": "markdown",
   "metadata": {},
   "source": [
    "#### 例如，0x1000是加载这些节的虚拟内存地址基址，也可以将其视为节的内存地址基址。在虚拟大小（virtual size）字段中的0x32830指定了节被加载后所需的内存大小。第三个字段中的207360表示该节将在该内存块中所占用的数据量。"
   ]
  },
  {
   "cell_type": "code",
   "execution_count": 2,
   "metadata": {},
   "outputs": [
    {
     "name": "stdout",
     "output_type": "stream",
     "text": [
      "b'KERNEL32.DLL'\n",
      "\t b'GetLocalTime'\n",
      "\t b'ExitThread'\n",
      "\t b'CloseHandle'\n",
      "\t b'WriteFile'\n",
      "\t b'CreateFileA'\n",
      "\t b'ExitProcess'\n",
      "\t b'CreateProcessA'\n",
      "\t b'GetTickCount'\n",
      "\t b'GetModuleFileNameA'\n",
      "\t b'GetSystemDirectoryA'\n",
      "\t b'Sleep'\n",
      "\t b'GetTimeFormatA'\n",
      "\t b'GetDateFormatA'\n",
      "\t b'GetLastError'\n",
      "\t b'CreateThread'\n",
      "\t b'GetFileSize'\n",
      "\t b'GetFileAttributesA'\n",
      "\t b'FindClose'\n",
      "\t b'FileTimeToSystemTime'\n",
      "\t b'FileTimeToLocalFileTime'\n",
      "\t b'FindNextFileA'\n",
      "\t b'FindFirstFileA'\n",
      "\t b'ReadFile'\n",
      "\t b'SetFilePointer'\n",
      "\t b'WriteConsoleA'\n",
      "\t b'GetStdHandle'\n",
      "\t b'LoadLibraryA'\n",
      "\t b'GetProcAddress'\n",
      "\t b'GetModuleHandleA'\n",
      "\t b'FormatMessageA'\n",
      "\t b'GlobalUnlock'\n",
      "\t b'GlobalLock'\n",
      "\t b'UnmapViewOfFile'\n",
      "\t b'MapViewOfFile'\n",
      "\t b'CreateFileMappingA'\n",
      "\t b'SetFileTime'\n",
      "\t b'GetFileTime'\n",
      "\t b'ExpandEnvironmentStringsA'\n",
      "\t b'SetFileAttributesA'\n",
      "\t b'GetTempPathA'\n",
      "\t b'GetCurrentProcess'\n",
      "\t b'TerminateProcess'\n",
      "\t b'OpenProcess'\n",
      "\t b'GetComputerNameA'\n",
      "\t b'GetLocaleInfoA'\n",
      "\t b'GetVersionExA'\n",
      "\t b'TerminateThread'\n",
      "\t b'FlushFileBuffers'\n",
      "\t b'SetStdHandle'\n",
      "\t b'IsBadWritePtr'\n",
      "\t b'IsBadReadPtr'\n",
      "\t b'HeapValidate'\n",
      "\t b'GetStartupInfoA'\n",
      "\t b'GetCommandLineA'\n",
      "\t b'GetVersion'\n",
      "\t b'DebugBreak'\n",
      "\t b'InterlockedDecrement'\n",
      "\t b'OutputDebugStringA'\n",
      "\t b'InterlockedIncrement'\n",
      "\t b'HeapAlloc'\n",
      "\t b'HeapReAlloc'\n",
      "\t b'HeapFree'\n",
      "\t b'HeapDestroy'\n",
      "\t b'HeapCreate'\n",
      "\t b'VirtualFree'\n",
      "\t b'VirtualAlloc'\n",
      "\t b'WideCharToMultiByte'\n",
      "\t b'MultiByteToWideChar'\n",
      "\t b'LCMapStringA'\n",
      "\t b'LCMapStringW'\n",
      "\t b'GetCPInfo'\n",
      "\t b'GetACP'\n",
      "\t b'GetOEMCP'\n",
      "\t b'UnhandledExceptionFilter'\n",
      "\t b'FreeEnvironmentStringsA'\n",
      "\t b'FreeEnvironmentStringsW'\n",
      "\t b'GetEnvironmentStrings'\n",
      "\t b'GetEnvironmentStringsW'\n",
      "\t b'SetHandleCount'\n",
      "\t b'GetFileType'\n",
      "\t b'RtlUnwind'\n",
      "\t b'SetConsoleCtrlHandler'\n",
      "\t b'GetStringTypeA'\n",
      "\t b'GetStringTypeW'\n",
      "\t b'SetEndOfFile'\n",
      "b'USER32.dll'\n",
      "\t b'MessageBoxA'\n"
     ]
    }
   ],
   "source": [
    "# 从ircbot.exe中提取导入信息\n",
    "# 列出二进制文件将加载的DLL文件，以及它将在这些DLL文件中所请求的函数调用\n",
    "import pefile\n",
    "pe = pefile.PE(\"ircbot.exe\")\n",
    "for entry in pe.DIRECTORY_ENTRY_IMPORT:\n",
    "    print(entry.dll)\n",
    "    for function in entry.imports:\n",
    "        print('\\t', function.name)"
   ]
  },
  {
   "cell_type": "markdown",
   "metadata": {},
   "source": [
    "#### 输出的前几行告诉我们，恶意软件将使用WriteFile写入文件，使用CreateFileA打开文件，并使用CreateProcessA创建新的进程。虽然这些只是关于恶意软件的基本信息，但它们是了解恶意软件更为详细行为的开始。"
   ]
  },
  {
   "cell_type": "code",
   "execution_count": 3,
   "metadata": {},
   "outputs": [
    {
     "name": "stdout",
     "output_type": "stream",
     "text": [
      "[IMAGE_SECTION_HEADER]\n",
      "0x1D8      0x0   Name:                          .text\n",
      "0x1E0      0x8   Misc:                          0x32830   \n",
      "0x1E0      0x8   Misc_PhysicalAddress:          0x32830   \n",
      "0x1E0      0x8   Misc_VirtualSize:              0x32830   \n",
      "0x1E4      0xC   VirtualAddress:                0x1000    \n",
      "0x1E8      0x10  SizeOfRawData:                 0x32A00   \n",
      "0x1EC      0x14  PointerToRawData:              0x400     \n",
      "0x1F0      0x18  PointerToRelocations:          0x0       \n",
      "0x1F4      0x1C  PointerToLinenumbers:          0x0       \n",
      "0x1F8      0x20  NumberOfRelocations:           0x0       \n",
      "0x1FA      0x22  NumberOfLinenumbers:           0x0       \n",
      "0x1FC      0x24  Characteristics:               0x60000020\n",
      "[IMAGE_SECTION_HEADER]\n",
      "0x200      0x0   Name:                          .rdata\n",
      "0x208      0x8   Misc:                          0x427A    \n",
      "0x208      0x8   Misc_PhysicalAddress:          0x427A    \n",
      "0x208      0x8   Misc_VirtualSize:              0x427A    \n",
      "0x20C      0xC   VirtualAddress:                0x34000   \n",
      "0x210      0x10  SizeOfRawData:                 0x4400    \n",
      "0x214      0x14  PointerToRawData:              0x32E00   \n",
      "0x218      0x18  PointerToRelocations:          0x0       \n",
      "0x21C      0x1C  PointerToLinenumbers:          0x0       \n",
      "0x220      0x20  NumberOfRelocations:           0x0       \n",
      "0x222      0x22  NumberOfLinenumbers:           0x0       \n",
      "0x224      0x24  Characteristics:               0x40000040\n",
      "[IMAGE_SECTION_HEADER]\n",
      "0x228      0x0   Name:                          .data\n",
      "0x230      0x8   Misc:                          0x5CFF8   \n",
      "0x230      0x8   Misc_PhysicalAddress:          0x5CFF8   \n",
      "0x230      0x8   Misc_VirtualSize:              0x5CFF8   \n",
      "0x234      0xC   VirtualAddress:                0x39000   \n",
      "0x238      0x10  SizeOfRawData:                 0x2A00    \n",
      "0x23C      0x14  PointerToRawData:              0x37200   \n",
      "0x240      0x18  PointerToRelocations:          0x0       \n",
      "0x244      0x1C  PointerToLinenumbers:          0x0       \n",
      "0x248      0x20  NumberOfRelocations:           0x0       \n",
      "0x24A      0x22  NumberOfLinenumbers:           0x0       \n",
      "0x24C      0x24  Characteristics:               0xC0000040\n",
      "[IMAGE_SECTION_HEADER]\n",
      "0x250      0x0   Name:                          .idata\n",
      "0x258      0x8   Misc:                          0xBB0     \n",
      "0x258      0x8   Misc_PhysicalAddress:          0xBB0     \n",
      "0x258      0x8   Misc_VirtualSize:              0xBB0     \n",
      "0x25C      0xC   VirtualAddress:                0x96000   \n",
      "0x260      0x10  SizeOfRawData:                 0xC00     \n",
      "0x264      0x14  PointerToRawData:              0x39C00   \n",
      "0x268      0x18  PointerToRelocations:          0x0       \n",
      "0x26C      0x1C  PointerToLinenumbers:          0x0       \n",
      "0x270      0x20  NumberOfRelocations:           0x0       \n",
      "0x272      0x22  NumberOfLinenumbers:           0x0       \n",
      "0x274      0x24  Characteristics:               0xC0000040\n",
      "[IMAGE_SECTION_HEADER]\n",
      "0x278      0x0   Name:                          .reloc\n",
      "0x280      0x8   Misc:                          0x211D    \n",
      "0x280      0x8   Misc_PhysicalAddress:          0x211D    \n",
      "0x280      0x8   Misc_VirtualSize:              0x211D    \n",
      "0x284      0xC   VirtualAddress:                0x97000   \n",
      "0x288      0x10  SizeOfRawData:                 0x2200    \n",
      "0x28C      0x14  PointerToRawData:              0x3A800   \n",
      "0x290      0x18  PointerToRelocations:          0x0       \n",
      "0x294      0x1C  PointerToLinenumbers:          0x0       \n",
      "0x298      0x20  NumberOfRelocations:           0x0       \n",
      "0x29A      0x22  NumberOfLinenumbers:           0x0       \n",
      "0x29C      0x24  Characteristics:               0x42000040\n",
      "0x60000020\n"
     ]
    }
   ],
   "source": [
    "#节表\n",
    "for section in pe.sections:\n",
    "    print(section)\n",
    "print(hex(pe.sections[0].Characteristics))"
   ]
  },
  {
   "cell_type": "code",
   "execution_count": 4,
   "metadata": {},
   "outputs": [
    {
     "name": "stdout",
     "output_type": "stream",
     "text": [
      "b'KERNEL32.DLL' :\n",
      "\t 0x496230 b'GetLocalTime'\n",
      "\t 0x496234 b'ExitThread'\n",
      "\t 0x496238 b'CloseHandle'\n",
      "\t 0x49623c b'WriteFile'\n",
      "\t 0x496240 b'CreateFileA'\n",
      "\t 0x496244 b'ExitProcess'\n",
      "\t 0x496248 b'CreateProcessA'\n",
      "\t 0x49624c b'GetTickCount'\n",
      "\t 0x496250 b'GetModuleFileNameA'\n",
      "\t 0x496254 b'GetSystemDirectoryA'\n",
      "\t 0x496258 b'Sleep'\n",
      "\t 0x49625c b'GetTimeFormatA'\n",
      "\t 0x496260 b'GetDateFormatA'\n",
      "\t 0x496264 b'GetLastError'\n",
      "\t 0x496268 b'CreateThread'\n",
      "\t 0x49626c b'GetFileSize'\n",
      "\t 0x496270 b'GetFileAttributesA'\n",
      "\t 0x496274 b'FindClose'\n",
      "\t 0x496278 b'FileTimeToSystemTime'\n",
      "\t 0x49627c b'FileTimeToLocalFileTime'\n",
      "\t 0x496280 b'FindNextFileA'\n",
      "\t 0x496284 b'FindFirstFileA'\n",
      "\t 0x496288 b'ReadFile'\n",
      "\t 0x49628c b'SetFilePointer'\n",
      "\t 0x496290 b'WriteConsoleA'\n",
      "\t 0x496294 b'GetStdHandle'\n",
      "\t 0x496298 b'LoadLibraryA'\n",
      "\t 0x49629c b'GetProcAddress'\n",
      "\t 0x4962a0 b'GetModuleHandleA'\n",
      "\t 0x4962a4 b'FormatMessageA'\n",
      "\t 0x4962a8 b'GlobalUnlock'\n",
      "\t 0x4962ac b'GlobalLock'\n",
      "\t 0x4962b0 b'UnmapViewOfFile'\n",
      "\t 0x4962b4 b'MapViewOfFile'\n",
      "\t 0x4962b8 b'CreateFileMappingA'\n",
      "\t 0x4962bc b'SetFileTime'\n",
      "\t 0x4962c0 b'GetFileTime'\n",
      "\t 0x4962c4 b'ExpandEnvironmentStringsA'\n",
      "\t 0x4962c8 b'SetFileAttributesA'\n",
      "\t 0x4962cc b'GetTempPathA'\n",
      "\t 0x4962d0 b'GetCurrentProcess'\n",
      "\t 0x4962d4 b'TerminateProcess'\n",
      "\t 0x4962d8 b'OpenProcess'\n",
      "\t 0x4962dc b'GetComputerNameA'\n",
      "\t 0x4962e0 b'GetLocaleInfoA'\n",
      "\t 0x4962e4 b'GetVersionExA'\n",
      "\t 0x4962e8 b'TerminateThread'\n",
      "\t 0x4962ec b'FlushFileBuffers'\n",
      "\t 0x4962f0 b'SetStdHandle'\n",
      "\t 0x4962f4 b'IsBadWritePtr'\n",
      "\t 0x4962f8 b'IsBadReadPtr'\n",
      "\t 0x4962fc b'HeapValidate'\n",
      "\t 0x496300 b'GetStartupInfoA'\n",
      "\t 0x496304 b'GetCommandLineA'\n",
      "\t 0x496308 b'GetVersion'\n",
      "\t 0x49630c b'DebugBreak'\n",
      "\t 0x496310 b'InterlockedDecrement'\n",
      "\t 0x496314 b'OutputDebugStringA'\n",
      "\t 0x496318 b'InterlockedIncrement'\n",
      "\t 0x49631c b'HeapAlloc'\n",
      "\t 0x496320 b'HeapReAlloc'\n",
      "\t 0x496324 b'HeapFree'\n",
      "\t 0x496328 b'HeapDestroy'\n",
      "\t 0x49632c b'HeapCreate'\n",
      "\t 0x496330 b'VirtualFree'\n",
      "\t 0x496334 b'VirtualAlloc'\n",
      "\t 0x496338 b'WideCharToMultiByte'\n",
      "\t 0x49633c b'MultiByteToWideChar'\n",
      "\t 0x496340 b'LCMapStringA'\n",
      "\t 0x496344 b'LCMapStringW'\n",
      "\t 0x496348 b'GetCPInfo'\n",
      "\t 0x49634c b'GetACP'\n",
      "\t 0x496350 b'GetOEMCP'\n",
      "\t 0x496354 b'UnhandledExceptionFilter'\n",
      "\t 0x496358 b'FreeEnvironmentStringsA'\n",
      "\t 0x49635c b'FreeEnvironmentStringsW'\n",
      "\t 0x496360 b'GetEnvironmentStrings'\n",
      "\t 0x496364 b'GetEnvironmentStringsW'\n",
      "\t 0x496368 b'SetHandleCount'\n",
      "\t 0x49636c b'GetFileType'\n",
      "\t 0x496370 b'RtlUnwind'\n",
      "\t 0x496374 b'SetConsoleCtrlHandler'\n",
      "\t 0x496378 b'GetStringTypeA'\n",
      "\t 0x49637c b'GetStringTypeW'\n",
      "\t 0x496380 b'SetEndOfFile'\n",
      "b'USER32.dll' :\n",
      "\t 0x4963f4 b'MessageBoxA'\n"
     ]
    }
   ],
   "source": [
    "\n",
    "#导入表\n",
    "for importeddll in pe.DIRECTORY_ENTRY_IMPORT:\n",
    "    print(importeddll.dll, ':')\n",
    "    for importedapi in importeddll.imports:\n",
    "        print('\\t', hex(importedapi.address), importedapi.name)"
   ]
  },
  {
   "cell_type": "code",
   "execution_count": 8,
   "metadata": {},
   "outputs": [
    {
     "name": "stdout",
     "output_type": "stream",
     "text": [
      "0xcc00ffee\n",
      "len(data) = 0\n"
     ]
    }
   ],
   "source": [
    "#从入口点开始反汇编\n",
    "ep = pe.OPTIONAL_HEADER.AddressOfEntryPoint\n",
    "print(hex(ep))\n",
    "ep_ava = ep + pe.OPTIONAL_HEADER.ImageBase\n",
    "data = pe.get_memory_mapped_image()[ep:ep+20]\n",
    "offset = 0\n",
    "print('len(data) = {}'.format(len(data)))\n",
    "while offset < len(data):\n",
    "  i = pydasm.get_instruction(data[offset:], pydasm.MODE_32)\n",
    "  #打印不换行，加,\n",
    "  print(hex(ep + offset), '\\t',)\n",
    "  print(pydasm.get_instruction_string(i, pydasm.FORMAT_INTEL, ep_ava+offset))\n",
    "  offset += i.length"
   ]
  },
  {
   "cell_type": "code",
   "execution_count": 10,
   "metadata": {},
   "outputs": [
    {
     "ename": "AttributeError",
     "evalue": "'PE' object has no attribute 'DIRECTORY_ENTRY_EXPORT'",
     "output_type": "error",
     "traceback": [
      "\u001b[1;31m---------------------------------------------------------------------------\u001b[0m",
      "\u001b[1;31mAttributeError\u001b[0m                            Traceback (most recent call last)",
      "\u001b[1;32m<ipython-input-10-e83f9d02c4c0>\u001b[0m in \u001b[0;36m<module>\u001b[1;34m\u001b[0m\n\u001b[0;32m      1\u001b[0m \u001b[1;31m#导出符号\u001b[0m\u001b[1;33m\u001b[0m\u001b[1;33m\u001b[0m\u001b[1;33m\u001b[0m\u001b[0m\n\u001b[0;32m      2\u001b[0m \u001b[1;31m#例如calc.exe无导出信息则不存在DIRECTORY_ENTRY_EXPORT变量会出错\u001b[0m\u001b[1;33m\u001b[0m\u001b[1;33m\u001b[0m\u001b[1;33m\u001b[0m\u001b[0m\n\u001b[1;32m----> 3\u001b[1;33m \u001b[1;32mfor\u001b[0m \u001b[0mexp\u001b[0m \u001b[1;32min\u001b[0m \u001b[0mpe\u001b[0m\u001b[1;33m.\u001b[0m\u001b[0mDIRECTORY_ENTRY_EXPORT\u001b[0m\u001b[1;33m.\u001b[0m\u001b[0msymbols\u001b[0m\u001b[1;33m:\u001b[0m\u001b[1;33m\u001b[0m\u001b[1;33m\u001b[0m\u001b[0m\n\u001b[0m\u001b[0;32m      4\u001b[0m     \u001b[0mprint\u001b[0m\u001b[1;33m(\u001b[0m\u001b[0mhex\u001b[0m\u001b[1;33m(\u001b[0m\u001b[0mpe\u001b[0m\u001b[1;33m.\u001b[0m\u001b[0mOPTIONAL_HEADER\u001b[0m\u001b[1;33m.\u001b[0m\u001b[0mImageBase\u001b[0m \u001b[1;33m+\u001b[0m \u001b[0mexp\u001b[0m\u001b[1;33m.\u001b[0m\u001b[0maddress\u001b[0m\u001b[1;33m)\u001b[0m\u001b[1;33m,\u001b[0m \u001b[0mexp\u001b[0m\u001b[1;33m.\u001b[0m\u001b[0mname\u001b[0m\u001b[1;33m,\u001b[0m \u001b[0mexp\u001b[0m\u001b[1;33m.\u001b[0m\u001b[0mordinal\u001b[0m\u001b[1;33m)\u001b[0m\u001b[1;33m\u001b[0m\u001b[1;33m\u001b[0m\u001b[0m\n",
      "\u001b[1;31mAttributeError\u001b[0m: 'PE' object has no attribute 'DIRECTORY_ENTRY_EXPORT'"
     ]
    }
   ],
   "source": [
    "#导出符号\n",
    "#例如calc.exe无导出信息则不存在DIRECTORY_ENTRY_EXPORT变量会出错\n",
    "for exp in pe.DIRECTORY_ENTRY_EXPORT.symbols:\n",
    "    print(hex(pe.OPTIONAL_HEADER.ImageBase + exp.address), exp.name, exp.ordinal)"
   ]
  },
  {
   "cell_type": "code",
   "execution_count": 12,
   "metadata": {},
   "outputs": [],
   "source": [
    "#改写PE信息\n",
    "pe.OPTIONAL_HEADER.AddressOfEntryPoint = 0xdeadbeef\n",
    "pe.write(filename='file_to_write.exe')"
   ]
  }
 ],
 "metadata": {
  "kernelspec": {
   "display_name": "Python 3",
   "language": "python",
   "name": "python3"
  },
  "language_info": {
   "codemirror_mode": {
    "name": "ipython",
    "version": 3
   },
   "file_extension": ".py",
   "mimetype": "text/x-python",
   "name": "python",
   "nbconvert_exporter": "python",
   "pygments_lexer": "ipython3",
   "version": "3.7.4"
  }
 },
 "nbformat": 4,
 "nbformat_minor": 2
}

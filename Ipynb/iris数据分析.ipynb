{
 "cells": [
  {
   "cell_type": "markdown",
   "metadata": {},
   "source": [
    "# 1、模块导入"
   ]
  },
  {
   "cell_type": "code",
   "execution_count": 1,
   "metadata": {
    "collapsed": true
   },
   "outputs": [],
   "source": [
    "import numpy as np  #导入模块\n",
    "from sklearn import datasets  #用数据库去学习，或者把数据库放到tenserflow模块练习\n",
    "from sklearn.model_selection import train_test_split\n",
    "from sklearn.neighbors import KNeighborsClassifier   # 会选择邻近几个点作为他的邻居，综合临近几个点模拟出数据的预测值\n",
    "from sklearn.model_selection import cross_val_score\n",
    "import matplotlib.pyplot as plt"
   ]
  },
  {
   "cell_type": "markdown",
   "metadata": {},
   "source": [
    "# 2、导入数据集"
   ]
  },
  {
   "cell_type": "code",
   "execution_count": 8,
   "metadata": {},
   "outputs": [
    {
     "name": "stdout",
     "output_type": "stream",
     "text": [
      "[[ 5.1  3.5  1.4  0.2]\n",
      " [ 4.9  3.   1.4  0.2]\n",
      " [ 4.7  3.2  1.3  0.2]\n",
      " [ 4.6  3.1  1.5  0.2]]\n",
      "[0 0 0 0 0 0 0 0 0 0 0 0 0 0 0 0 0 0 0 0 0 0 0 0 0 0 0 0 0 0 0 0 0 0 0 0 0\n",
      " 0 0 0 0 0 0 0 0 0 0 0 0 0 1 1 1 1 1 1 1 1 1 1 1 1 1 1 1 1 1 1 1 1 1 1 1 1\n",
      " 1 1 1 1 1 1 1 1 1 1 1 1 1 1 1 1 1 1 1 1 1 1 1 1 1 1 2 2 2 2 2 2 2 2 2 2 2\n",
      " 2 2 2 2 2 2 2 2 2 2 2 2 2 2 2 2 2 2 2 2 2 2 2 2 2 2 2 2 2 2 2 2 2 2 2 2 2\n",
      " 2 2]\n"
     ]
    }
   ],
   "source": [
    "iris = datasets.load_iris()  # 创建iris的数据，把属性存在X，类别标签存在y\n",
    "#print(iris)\n",
    "iris_x = iris.data\n",
    "iris_y = iris.target\n",
    " \n",
    "print(iris_x[:4,:])  # print出来iris的属性  每个sample四个属性，描述花的花瓣的长直径等\n",
    "print(iris_y)        # 有三个类的花0，1，2"
   ]
  },
  {
   "cell_type": "markdown",
   "metadata": {},
   "source": [
    "# 3、分割数据集和测试集"
   ]
  },
  {
   "cell_type": "code",
   "execution_count": 9,
   "metadata": {},
   "outputs": [
    {
     "name": "stdout",
     "output_type": "stream",
     "text": [
      "[2 2 0 2 1 2 1 2 0 0 1 1 1 2 0 0 1 2 2 2 1 1 1 1 2 1 2 2 0 1 2 1 0 1 0 0 0\n",
      " 2 0 2 1 0 0 0 0 0 2 2 2 2 0 1 2 1 0 2 0 1 0 2 2 2 0 1 2 2 0 1 0 2 1 2 2 0\n",
      " 2 2 0 1 2 0 0 1 1 1 1 0 1 1 2 1 0 0 0 1 0 2 1 1 0 0 2 2 0 1 1]\n"
     ]
    }
   ],
   "source": [
    "# 把所有的data分成了要用来学习的data和用来测试的data   X_test和y_test测试的比例占了总数据的30%，随机种子默认为0，即每次划分都不一样\n",
    "x_train,x_test,y_train,y_test = train_test_split(iris_x,iris_y,test_size = 0.3,random_state=0)  \n",
    "print(y_train)        # 打乱了数据，尽可能的把数据打乱在学习过程中比不乱的更好"
   ]
  },
  {
   "cell_type": "markdown",
   "metadata": {},
   "source": [
    "# 4、训练数据集并创建knn模型"
   ]
  },
  {
   "cell_type": "code",
   "execution_count": 11,
   "metadata": {},
   "outputs": [
    {
     "data": {
      "text/plain": [
       "KNeighborsClassifier(algorithm='auto', leaf_size=30, metric='minkowski',\n",
       "           metric_params=None, n_jobs=1, n_neighbors=5, p=2,\n",
       "           weights='uniform')"
      ]
     },
     "execution_count": 11,
     "metadata": {},
     "output_type": "execute_result"
    }
   ],
   "source": [
    "knn = KNeighborsClassifier(n_neighbors=5) #定义用sklearn中的KNN分类算法\n",
    "knn.fit(x_train,y_train)     # 用KNN进行数据集的学习，把创建的data放进去，他就自动帮你完成train的步骤"
   ]
  },
  {
   "cell_type": "markdown",
   "metadata": {},
   "source": [
    "# 5、使用模型预测测试集"
   ]
  },
  {
   "cell_type": "code",
   "execution_count": 12,
   "metadata": {},
   "outputs": [
    {
     "name": "stdout",
     "output_type": "stream",
     "text": [
      "[1 1 1 0 2 0 1 1 2 1 1 1 1 0 0 2 0 2 0 0 0 0 0 0 2 1 1 0 2 1 2 2 2 2 0 2 0\n",
      " 2 0 1 1 2 2 2 2]\n"
     ]
    }
   ],
   "source": [
    "# 用我的model的属性去预测它是哪一种花\n",
    "print(knn.predict(x_test))   #这里的knn就是已经train好了的knn"
   ]
  },
  {
   "cell_type": "markdown",
   "metadata": {},
   "source": [
    "# 6、评价模型"
   ]
  },
  {
   "cell_type": "code",
   "execution_count": 14,
   "metadata": {},
   "outputs": [
    {
     "name": "stdout",
     "output_type": "stream",
     "text": [
      "[1 1 1 0 2 0 1 1 2 1 1 1 1 0 0 1 0 2 0 0 0 0 0 0 2 1 1 0 2 1 1 2 2 2 0 2 0\n",
      " 2 0 1 1 2 2 2 2]\n",
      "0.955555555556\n"
     ]
    }
   ],
   "source": [
    "print(y_test)    # 对比真实值\n",
    "print(knn.score(x_test,y_test))"
   ]
  },
  {
   "cell_type": "markdown",
   "metadata": {},
   "source": [
    "# 7、调试参数"
   ]
  },
  {
   "cell_type": "code",
   "execution_count": null,
   "metadata": {
    "collapsed": true
   },
   "outputs": [],
   "source": [
    "1、修改算法模型\n",
    "2、修改knn的k值\n",
    "3、分类器中的其他参数修改\n",
    "。。。\n",
    "\n",
    "上面的方法都能使最后的评价得分改变。"
   ]
  }
 ],
 "metadata": {
  "kernelspec": {
   "display_name": "Python 3",
   "language": "python",
   "name": "python3"
  },
  "language_info": {
   "codemirror_mode": {
    "name": "ipython",
    "version": 3
   },
   "file_extension": ".py",
   "mimetype": "text/x-python",
   "name": "python",
   "nbconvert_exporter": "python",
   "pygments_lexer": "ipython3",
   "version": "3.6.1"
  }
 },
 "nbformat": 4,
 "nbformat_minor": 2
}
